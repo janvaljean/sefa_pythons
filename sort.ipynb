{
 "cells": [
  {
   "cell_type": "code",
   "execution_count": 3,
   "metadata": {},
   "outputs": [],
   "source": [
    "# Sort the following string alphabetically,\n",
    "# from z to a, and assign it to the variable sorted_letters.\n",
    "\n",
    "letters = \"alwnfiwaksuezlaeiajsdl\"\n",
    "sorted_letters = sorted(letters , reverse=True)\n",
    "\n"
   ]
  },
  {
   "cell_type": "code",
   "execution_count": null,
   "metadata": {},
   "outputs": [],
   "source": [
    "# Sort the list below, animals, into alphabetical order, a-z.\n",
    "# Save the new list as animals_sorted\n",
    "animals = ['elephant', 'cat', 'moose', 'antelope', 'elk', 'rabbit', 'zebra', 'yak',\n",
    "           'salamander', 'deer', 'otter', 'minx', 'giraffe', 'goat', 'cow', 'tiger', 'bear']\n",
    "animals_sorted = sorted(animals)\n"
   ]
  },
  {
   "cell_type": "code",
   "execution_count": 4,
   "metadata": {},
   "outputs": [],
   "source": [
    "#The dictionary, medals, shows the medal count for six countries during the Rio Olympics. \n",
    "# Sort the country names so they appear alphabetically.\n",
    "# Save this list to the variable alphabetical\n",
    "medals = {'Japan': 41, 'Russia': 56, 'South Korea': 21,\n",
    "          'United States': 121, 'Germany': 42, 'China': 70}\n",
    "alphabetical = sorted(medals)\n"
   ]
  },
  {
   "cell_type": "code",
   "execution_count": 6,
   "metadata": {},
   "outputs": [
    {
     "name": "stdout",
     "output_type": "stream",
     "text": [
      "['United States', 'China', 'Russia']\n"
     ]
    }
   ],
   "source": [
    "#Given the same dictionary, medals, now sort by the medal count.\n",
    "# Save the three countries with the highest medal count to the list, top_three.\n",
    "medals = {'Japan': 41, 'Russia': 56, 'South Korea': 21,\n",
    "          'United States': 121, 'Germany': 42, 'China': 70}\n",
    "def f3(k,d):\n",
    "    return d[k]\n",
    "\n",
    "top_three = sorted(medals.keys(), key=lambda x: f3(x, medals), reverse=True)[:3]\n",
    "print(top_three)\n"
   ]
  },
  {
   "cell_type": "code",
   "execution_count": 31,
   "metadata": {},
   "outputs": [
    {
     "name": "stdout",
     "output_type": "stream",
     "text": [
      "['granola bars', 'carrots', 'spinach', 'bananas', 'onions', 'apples', 'coffee', 'cereal', 'pasta', 'salsa', 'orange juice', 'peanut butter', 'popcorn', 'rice']\n"
     ]
    }
   ],
   "source": [
    "# We have provided the dictionary groceries. \n",
    "# You should return a list of its keys,but they should be sorted by their values, from highest to lowest.\n",
    "# Save the new list as most_needed.\n",
    "\n",
    "groceries = {'apples': 5, 'pasta': 3, 'carrots': 12, 'orange juice': 2, 'bananas': 8, 'popcorn': 1, 'salsa': 3,\n",
    "             'cereal': 4, 'coffee': 5, 'granola bars': 15, 'onions': 7, 'rice': 1, 'peanut butter': 2, 'spinach': 9}\n",
    "def f(k,d):\n",
    "    return d[k]\n",
    "\n",
    "ky = groceries.keys()\n",
    "most_needed = sorted(ky,key=lambda x : f(x,groceries),reverse=True)\n",
    "print(most_needed)\n"
   ]
  },
  {
   "cell_type": "code",
   "execution_count": 64,
   "metadata": {},
   "outputs": [
    {
     "name": "stdout",
     "output_type": "stream",
     "text": [
      "329]\n",
      "[17570002, 17572342, 17572345, 17573005, 17579000, 17579329]\n"
     ]
    }
   ],
   "source": [
    "#Create a function called last_four that takes in a single ID number and\n",
    "# returns the last four digits. \n",
    "# For example, the number 17573005 should return 3005.\n",
    "# Then, use the resulting function to sort the list of ids stored in the variable, ids, from lowest to highest.\n",
    "# Save this sorted list in the variable, sorted_ids. \n",
    "# Hint: Remember that only strings can be indexed, so conversions may be needed.\n",
    "ids = [17573005, 17572342, 17579000, 17570002, 17572345, 17579329]\n",
    "\n",
    "def last_four(x):\n",
    "    return (str(x)[-4:])\n",
    "\n",
    "\n",
    "last_four(ids)\n",
    "sorted_ids = sorted(ids,key=last_four)\n",
    "print(sorted_ids)\n",
    "\n"
   ]
  },
  {
   "cell_type": "code",
   "execution_count": 69,
   "metadata": {},
   "outputs": [
    {
     "name": "stdout",
     "output_type": "stream",
     "text": [
      "[17570002, 17572342, 17572345, 17573005, 17579000, 17579329]\n"
     ]
    }
   ],
   "source": [
    "#Sort the list ids by the last four digits of each id. \n",
    "# Do this using lambda and not using a defined function.\n",
    "# Save this sorted list in the variable sorted_id.\n",
    "ids = [17573005, 17572342, 17579000, 17570002, 17572345, 17579329]\n",
    "sorted_id = sorted(ids,key=lambda x : str(x)[-4:])\n",
    "print(sorted_id)\n"
   ]
  },
  {
   "cell_type": "code",
   "execution_count": 70,
   "metadata": {},
   "outputs": [],
   "source": [
    "#Sort the following list by each element’s second letter a to z.\n",
    "# Do so by using lambda .\n",
    "# Assign the resulting value to the variable lambda_sort.\n",
    "ex_lst = ['hi', 'how are you', 'bye', 'apple', 'zebra', 'dance']\n",
    "\n",
    "lambda_sort = sorted(ex_lst,key=lambda x : x[1] )\n"
   ]
  }
 ],
 "metadata": {
  "kernelspec": {
   "display_name": "Python 3.10.7 64-bit",
   "language": "python",
   "name": "python3"
  },
  "language_info": {
   "codemirror_mode": {
    "name": "ipython",
    "version": 3
   },
   "file_extension": ".py",
   "mimetype": "text/x-python",
   "name": "python",
   "nbconvert_exporter": "python",
   "pygments_lexer": "ipython3",
   "version": "3.10.7"
  },
  "orig_nbformat": 4,
  "vscode": {
   "interpreter": {
    "hash": "5c10da12c10fd823261dd9974e66cd700332e2c96798d888241a9fd5e55edbb8"
   }
  }
 },
 "nbformat": 4,
 "nbformat_minor": 2
}
