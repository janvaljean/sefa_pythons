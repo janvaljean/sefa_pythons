{
 "cells": [
  {
   "cell_type": "code",
   "execution_count": 1,
   "metadata": {},
   "outputs": [
    {
     "name": "stdout",
     "output_type": "stream",
     "text": [
      "[46, 10, 12, 14]\n"
     ]
    }
   ],
   "source": [
    "#transformer expression in  lists\n",
    "things = [23,5,6,7]\n",
    "my_list = [value * 2 for value in things]\n",
    "print(my_list)"
   ]
  },
  {
   "cell_type": "code",
   "execution_count": 3,
   "metadata": {},
   "outputs": [
    {
     "name": "stdout",
     "output_type": "stream",
     "text": [
      "[46, 10, 12, 14]\n"
     ]
    }
   ],
   "source": [
    "#map \n",
    "things = [23,5,6,7]\n",
    "yourlst = list(map(lambda k: k * 2, things))\n",
    "print(yourlst)"
   ]
  },
  {
   "cell_type": "code",
   "execution_count": 4,
   "metadata": {},
   "outputs": [
    {
     "data": {
      "text/plain": [
       "[6]"
      ]
     },
     "execution_count": 4,
     "metadata": {},
     "output_type": "execute_result"
    }
   ],
   "source": [
    "#direct make a list , for looop in list\n",
    "def keep_evenns(nums):\n",
    "    newlst = [num for num in nums if num % 2 == 0]\n",
    "    return newlst\n",
    "\n",
    "\n",
    "things = [23, 5, 6, 7]\n",
    "keep_evenns(things)    "
   ]
  },
  {
   "cell_type": "code",
   "execution_count": 7,
   "metadata": {},
   "outputs": [
    {
     "data": {
      "text/plain": [
       "[6]"
      ]
     },
     "execution_count": 7,
     "metadata": {},
     "output_type": "execute_result"
    }
   ],
   "source": [
    "#use filter in list\n",
    "def keep_evenns(nums):\n",
    "    newlst = list(filter(lambda k: k % 2 == 0,nums))\n",
    "    return newlst\n",
    "\n",
    "\n",
    "things = [23, 5, 6, 7]\n",
    "keep_evenns(things)\n"
   ]
  },
  {
   "cell_type": "code",
   "execution_count": 16,
   "metadata": {},
   "outputs": [
    {
     "name": "stdout",
     "output_type": "stream",
     "text": [
      "{\n",
      "    \"info\": [\n",
      "        {\n",
      "            \"name\": \"lauren\",\n",
      "            \"class standig\": \"junior\",\n",
      "            \"major\": \"it science\"\n",
      "        },\n",
      "        {\n",
      "            \"name\": \"aya\",\n",
      "            \"class standig\": \"senior\",\n",
      "            \"major\": \"fullstack\"\n",
      "        }\n",
      "    ]\n",
      "}\n",
      "['lauren', 'aya']\n"
     ]
    }
   ],
   "source": [
    "#demo  get all the vaöues of key name\n",
    "import json\n",
    "tester = {'info':[{\"name\":\"lauren\",\"class standig\":\"junior\",\"major\":\"it science\"},{\"name\":\"aya\",\"class standig\":\"senior\",\"major\":\"fullstack\"}]}\n",
    "print(json.dumps(tester, indent=4))\n",
    "innerlst = tester[\"info\"]\n",
    "\n",
    "names = [k[\"name\"] for k in innerlst]\n",
    "print(names)\n"
   ]
  },
  {
   "cell_type": "code",
   "execution_count": 43,
   "metadata": {},
   "outputs": [
    {
     "name": "stdout",
     "output_type": "stream",
     "text": [
      "['gasfs', 'sdfsfsd']\n"
     ]
    }
   ],
   "source": [
    "#longlengts is a func that returns the lengt´hs of those strings  that have  at least 4 char\n",
    "def longlengths(strings):\n",
    "    return [str for str in strings if len(str) >= 4]\n",
    "    #return [len(str) for str in strings if len(str) >= 4]\n",
    "print(longlengths([\"a\",\"b\",\"c\",\"gasfs\",\"sdfsfsd\"]))"
   ]
  },
  {
   "cell_type": "code",
   "execution_count": 41,
   "metadata": {},
   "outputs": [
    {
     "data": {
      "text/plain": [
       "[None, None, None, 'gasfs', 'sdfsfsd']"
      ]
     },
     "execution_count": 41,
     "metadata": {},
     "output_type": "execute_result"
    }
   ],
   "source": [
    "lst =[\"a\", \"b\", \"c\", \"gasfs\", \"sdfsfsd\"]\n",
    "def formaplengths(string): \n",
    "        if len(string) > 4:   \n",
    "            return string\n",
    "        \n",
    "nwlst = list(map(formaplengths,lst))\n",
    "nwlst"
   ]
  },
  {
   "cell_type": "code",
   "execution_count": 42,
   "metadata": {},
   "outputs": [
    {
     "name": "stdout",
     "output_type": "stream",
     "text": [
      "[5, 7]\n"
     ]
    }
   ],
   "source": [
    "def longlengths(strings):\n",
    "    filtered_strings = list(filter(lambda k: len(k) >= 4, strings))\n",
    "    return list(map(len, filtered_strings))\n",
    "print(longlengths([\"a\",\"b\",\"c\",\"gasfs\",\"sdfsfsd\"]))"
   ]
  },
  {
   "cell_type": "code",
   "execution_count": 36,
   "metadata": {},
   "outputs": [
    {
     "name": "stdout",
     "output_type": "stream",
     "text": [
      "[False, False, False, True, True]\n"
     ]
    }
   ],
   "source": [
    "def longlengths(strings):\n",
    "    filtered_strings = list(map(lambda k: len(k) >= 4, strings))\n",
    "    return filtered_strings\n",
    "\n",
    "\n",
    "print(longlengths([\"a\", \"b\", \"c\", \"gasfs\", \"sdfsfsd\"]))\n"
   ]
  },
  {
   "cell_type": "code",
   "execution_count": null,
   "metadata": {},
   "outputs": [],
   "source": [
    "things = [3, 4, 6, 7, 0, 1]\n",
    "#chaining together filter and map:\n",
    "# first, filter to keep only the even numbers\n",
    "# double each of them\n",
    "print(map(lambda x: x*2, filter(lambda y: y % 2 == 0, things)))\n",
    "\n",
    "# equivalent version using list comprehension\n",
    "print([x*2 for x in things if x % 2 == 0])\n"
   ]
  },
  {
   "cell_type": "code",
   "execution_count": 53,
   "metadata": {},
   "outputs": [
    {
     "name": "stdout",
     "output_type": "stream",
     "text": [
      "[(2, 1), (3, 2), (4, 3)]\n",
      "[3, 5, 7]\n"
     ]
    }
   ],
   "source": [
    "#zip\n",
    "lst1 = [2,3,4]\n",
    "lst2 = [1,2,3]\n",
    "lst3 = list(zip(lst1,lst2))\n",
    "lst4 = []\n",
    "for x1,x2 in lst3:\n",
    "    lst4.append(x1+x2)\n",
    "print(lst3)\n",
    "print(lst4)"
   ]
  },
  {
   "cell_type": "code",
   "execution_count": 55,
   "metadata": {},
   "outputs": [
    {
     "name": "stdout",
     "output_type": "stream",
     "text": [
      "[3, 5, 7]\n"
     ]
    }
   ],
   "source": [
    "lst1 = [2,3,4]\n",
    "lst2 = [1,2,3]\n",
    "lst5 = [x1+x2 for x1,x2 in list(zip(lst1,lst2))]\n",
    "print(lst5)"
   ]
  },
  {
   "cell_type": "code",
   "execution_count": 68,
   "metadata": {},
   "outputs": [
    {
     "name": "stdout",
     "output_type": "stream",
     "text": [
      "[4, 6, 8]\n"
     ]
    }
   ],
   "source": [
    "L1 = [3, 4, 5]\n",
    "L2 = [1, 2, 3]\n",
    "L3 = list(map(lambda x: x[0] + x[1], zip(L1, L2)))\n",
    "print(L3)\n"
   ]
  },
  {
   "cell_type": "code",
   "execution_count": 79,
   "metadata": {},
   "outputs": [
    {
     "name": "stdout",
     "output_type": "stream",
     "text": [
      "True\n",
      "False\n"
     ]
    }
   ],
   "source": [
    "def possible(word, blanked, guesses_made):\n",
    "    if len(word) != len(blanked):\n",
    "        return False\n",
    "    for i in range(len(word)):\n",
    "        bc = blanked[i]\n",
    "        wc = word[i]\n",
    "        if bc == '_' and wc in guesses_made:\n",
    "            return False\n",
    "        elif bc != '_' and bc != wc:\n",
    "            return False\n",
    "    return True\n",
    "\n",
    "\n",
    "print(possible(\"wonderwall\", \"_on__r__ll\", \"otnqurl\"))\n",
    "print(possible(\"wonderwall\", \"_on__r__ll\", \"wotnqurl\"))\n"
   ]
  },
  {
   "cell_type": "code",
   "execution_count": 75,
   "metadata": {},
   "outputs": [
    {
     "name": "stdout",
     "output_type": "stream",
     "text": [
      "[17, 19, 18, 18, 19, 20, 19, 33, 35, 34, 34, 35, 36, 35, 55, 57, 56, 56, 57, 58, 57, 101, 103, 102, 102, 103, 104, 103]\n"
     ]
    }
   ],
   "source": [
    "# Using zip and list comprehension, create a new list, L3,\n",
    "# that sums the two numbers \n",
    "# if the number from L1 is greater than 10 and the number from L2 is less than 5. \n",
    "# This can be accomplished in one line of code.\n",
    "L1 = [1, 5, 2, 16, 32, 3, 54, 8, 100]\n",
    "L2 = [1, 3, 10, 2, 42, 2, 3, 4, 3]\n",
    "L3 =[x1+x2 for x1,x2 in list(zip(L1,L2)) if x1 > 10 & x2 <5]\n",
    "#L3 = [x1+x2 for x1 in L1 for x2 in L2 if x1 > 10  if x2 < 5]\n",
    "print(L3)\n"
   ]
  },
  {
   "cell_type": "code",
   "execution_count": null,
   "metadata": {},
   "outputs": [],
   "source": [
    "def compatible_char(bc,wc,guesses_made):\n",
    "    if bc == '_' and wc in guesses_made:\n",
    "            return False\n",
    "    elif bc != '_' and bc != wc:\n",
    "            return False\n",
    "    else:\n",
    "        return True\n",
    "    \n",
    "\n",
    "def possible(word, blanked, guesses_made):\n",
    "        if len(word) != len(blanked):\n",
    "                return False\n",
    "        for(bc,wc) in zip(blanked, word):\n",
    "                if not compatible_char(bc ,wc, guesses_made):\n",
    "                        return False\n",
    "        return True\n"
   ]
  }
 ],
 "metadata": {
  "kernelspec": {
   "display_name": "Python 3.10.7 64-bit",
   "language": "python",
   "name": "python3"
  },
  "language_info": {
   "codemirror_mode": {
    "name": "ipython",
    "version": 3
   },
   "file_extension": ".py",
   "mimetype": "text/x-python",
   "name": "python",
   "nbconvert_exporter": "python",
   "pygments_lexer": "ipython3",
   "version": "3.10.7"
  },
  "orig_nbformat": 4,
  "vscode": {
   "interpreter": {
    "hash": "5c10da12c10fd823261dd9974e66cd700332e2c96798d888241a9fd5e55edbb8"
   }
  }
 },
 "nbformat": 4,
 "nbformat_minor": 2
}
