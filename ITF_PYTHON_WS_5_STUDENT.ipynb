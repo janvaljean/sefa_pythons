{
 "cells": [
  {
   "cell_type": "markdown",
   "metadata": {},
   "source": [
    "<center><img src=\"https://github.com/aaron-clarusway/fullstack/blob/master/itf-logo.png?raw=true\"  alt=\"alt text\" width=\"200\"/></center>\n",
    "<br>\n",
    "<h1><p style=\"text-align: center; color:darkblue\">Python Basic</p><h1>\n",
    "<center><h1>Workshop - 5</h1></center>\n",
    "<p><img align=\"right\"\n",
    "  src=\"https://secure.meetupstatic.com/photos/event/3/1/b/9/600_488352729.jpeg\"  width=\"15px\"></p>\n",
    "<br>\n",
    "\n",
    "\n",
    "# Subject: Collections - Control Flow Statements"
   ]
  },
  {
   "cell_type": "markdown",
   "metadata": {},
   "source": [
    "## Coding Challenge-1 : Find the Largest Number\n",
    "\n",
    "Purpose of the this coding challenge is to solve a simple sorting problem in Python.\n",
    "\n",
    "### Learning Outcomes\n",
    "\n",
    "At the end of the this coding challenge, students will be able to;\n",
    "\n",
    "- get a basic understanding of sorting algorithms.\n",
    "- demonstrate their knowledge of lists in python\n",
    "- implement loops to solve the problems in python\n",
    "- get a better understanding of computational thinking concepts\n",
    "\n",
    "### Problem Statement\n",
    "  \n",
    "- Write a python code that finds the largest number among the ``n`` numbers given by the user as input.\n",
    "\n",
    "- First, take `n` from the user, then take `n` numbers one by one and select-print the largest one.\n",
    "\n",
    "- It is forbidden to use ``max()`` function.  \n",
    "\n",
    "- Indicate which computational thinking concepts have you used.\n",
    "\n",
    "- Example for user inputs and respective outputs\n",
    "\n",
    "```text\n",
    "Input                Output\n",
    "---------------:     -------------------------:\n",
    "n = 5, 1 2 3 4 5     The largest number is:  5\n",
    "n = 3, 67 85 19      The largest number is:  85\n",
    "```"
   ]
  },
  {
   "cell_type": "markdown",
   "metadata": {},
   "source": [
    "### Solution :"
   ]
  },
  {
   "cell_type": "code",
   "execution_count": 6,
   "metadata": {},
   "outputs": [
    {
     "name": "stdout",
     "output_type": "stream",
     "text": [
      "32\n"
     ]
    }
   ],
   "source": [
    "\n",
    "\n",
    "lst = []\n",
    "n = int(input(\"enter the numbers of elements to make a list: \"))\n",
    "for i in range(0,n):\n",
    "    elmnt = int(input())\n",
    "    lst.append(elmnt)\n",
    "max_elmnt = lst[0]   \n",
    "\n",
    "for x in lst:\n",
    "    if x > max_elmnt:\n",
    "        max_elmnt = x\n",
    "        \n",
    "print(max_elmnt)\n",
    "    "
   ]
  },
  {
   "cell_type": "code",
   "execution_count": 9,
   "metadata": {},
   "outputs": [
    {
     "data": {
      "text/plain": [
       "3"
      ]
     },
     "execution_count": 9,
     "metadata": {},
     "output_type": "execute_result"
    }
   ],
   "source": [
    "def my_max(lst):\n",
    "    max_elmnt = lst[0]\n",
    "    for x in lst:\n",
    "        if x > max_elmnt:\n",
    "            max_elmnt = x\n",
    "    return x\n",
    "\n",
    "\n",
    "def my_list():\n",
    "    lst = []\n",
    "    n = int(input(\"enter the numbers of elements to make a list: \"))\n",
    "    for i in range(0, n):\n",
    "        elmnt = int(input())\n",
    "        lst.append(elmnt)   \n",
    "    return lst\n",
    "\n",
    "my_max(my_list())"
   ]
  },
  {
   "cell_type": "markdown",
   "metadata": {},
   "source": [
    "## Coding Challenge-2 : Group Anagrams\n",
    "\n",
    "Purpose of the this coding challenge is to solve a grouping algorithm in Python.\n",
    "\n",
    "### Learning Outcomes\n",
    "\n",
    "At the end of the this coding challenge, students will be able to;\n",
    "\n",
    "- get a basic understanding of grouping algorithms.\n",
    "- demonstrate their knowledge of lists, dicts in python\n",
    "- implement loops to solve the problems in python\n",
    "- get a better understanding of computational thinking concepts\n",
    "\n",
    "### Problem Statement\n",
    "  \n",
    "- Given a list of strings, group anagrams together.\n",
    "\n",
    "- Example:\n",
    "\n",
    "**Input:**\n",
    "```\n",
    "[\"eat\", \"tea\", \"tan\", \"ate\", \"nat\", \"bat\"],\n",
    "Output:\n",
    "[\n",
    "  [\"ate\",\"eat\",\"tea\"],\n",
    "  [\"nat\",\"tan\"],\n",
    "  [\"bat\"]\n",
    "]\n",
    "```\n",
    "Note:\n",
    "All inputs will be in lowercase.\n",
    "The order of your output does not matter."
   ]
  },
  {
   "cell_type": "markdown",
   "metadata": {},
   "source": [
    "### Solution :"
   ]
  },
  {
   "cell_type": "code",
   "execution_count": 5,
   "metadata": {},
   "outputs": [
    {
     "name": "stdout",
     "output_type": "stream",
     "text": [
      "[['eat', 'tea', 'ate'], ['tan', 'nat'], ['bat'], ['cat', 'tac']]\n"
     ]
    }
   ],
   "source": [
    "strs = [\"eat\", \"tea\", \"tan\", \"ate\", \"nat\", \"bat\", \"cat\", \"tac\"]"
   ]
  },
  {
   "cell_type": "code",
   "execution_count": 14,
   "metadata": {},
   "outputs": [
    {
     "name": "stdout",
     "output_type": "stream",
     "text": [
      "['eat']\n"
     ]
    }
   ],
   "source": [
    "## demo 1\n",
    "\n",
    "x = \"eat\"\n",
    "y = \"tea\"\n",
    "z = \"tan\"\n",
    "lst = []\n",
    "if set(x) == set(y):\n",
    "    lst.append(x)\n",
    "print(lst)"
   ]
  },
  {
   "cell_type": "code",
   "execution_count": 20,
   "metadata": {},
   "outputs": [
    {
     "name": "stdout",
     "output_type": "stream",
     "text": [
      "['eat', 'tea', 'ate', 'eat', 'tea', 'ate', 'eat', 'tea', 'ate']\n"
     ]
    }
   ],
   "source": [
    "\n",
    "# demo 2\n",
    "\n",
    "x = \"eat\"\n",
    "y = \"tea\"\n",
    "z = \"ate\"\n",
    "lst2 =[x,y,z]\n",
    "lst = []\n",
    "for i in lst2:\n",
    "    for k in lst2:      \n",
    "        if set(i) == set(k):\n",
    "            lst.append(k)\n",
    "print(lst)"
   ]
  },
  {
   "cell_type": "code",
   "execution_count": 29,
   "metadata": {},
   "outputs": [
    {
     "name": "stdout",
     "output_type": "stream",
     "text": [
      "{'eat': ['eat', 'tea', 'ate']}\n"
     ]
    }
   ],
   "source": [
    "#demo 3\n",
    "my_dic={}\n",
    "x = \"eat\"\n",
    "y = \"tea\"\n",
    "z = \"ate\"\n",
    "lst2 = [x, y, z]\n",
    "lst3 = []\n",
    "my_word = lst2[0]\n",
    "for i in (lst2):\n",
    "    if set(my_word) == set(i):\n",
    "        lst3.append(i)\n",
    "        my_dic[my_word] = lst3\n",
    "print(my_dic)"
   ]
  },
  {
   "cell_type": "code",
   "execution_count": 48,
   "metadata": {},
   "outputs": [
    {
     "name": "stdout",
     "output_type": "stream",
     "text": [
      "{'eat': 'ate'}\n"
     ]
    }
   ],
   "source": [
    "#demo 4\n",
    "strs = [\"eat\", \"tea\", \"tan\", \"ate\", \"nat\", \"bat\", \"cat\", \"tac\"]\n",
    "lst3=[]\n",
    "lst4 = []\n",
    "my_dic = {}\n",
    "count = 0\n",
    "while count < len(strs):\n",
    "    my_word = strs[0]\n",
    "    for i in (strs):\n",
    "        if set(my_word) == set(i):\n",
    "            if i not in my_dic:\n",
    "                \n",
    "                my_dic[my_word]= i\n",
    "                \n",
    "    count +=1       \n",
    "lst4.append(lst3)\n",
    "print(my_dic)\n"
   ]
  },
  {
   "cell_type": "code",
   "execution_count": 70,
   "metadata": {},
   "outputs": [
    {
     "name": "stdout",
     "output_type": "stream",
     "text": [
      "The original list : ['eat', 'tea', 'tan', 'ate', 'nat', 'bat', 'cat', 'tac']\n",
      "The grouped Anagrams : [['eat', 'tea', 'ate'], ['tan', 'nat'], ['bat'], ['cat', 'tac']]\n"
     ]
    }
   ],
   "source": [
    "# #!solution 1\n",
    "# using defaultdict() + sorted() + values()\n",
    "from collections import defaultdict\n",
    "\n",
    "strs = [\"eat\", \"tea\", \"tan\", \"ate\", \"nat\", \"bat\", \"cat\", \"tac\"]\n",
    "\n",
    "# printing original list\n",
    "print(\"The original list : \" + str(strs))\n",
    "\n",
    "# using defaultdict() + sorted() + values()\n",
    "# Grouping Anagrams\n",
    "temp = defaultdict(list)\n",
    "for ele in strs:\n",
    "    temp[str(sorted(ele))].append(ele)\n",
    "res = list(temp.values())\n",
    "\n",
    "# print result\n",
    "print(\"The grouped Anagrams : \" + str(res))\n"
   ]
  },
  {
   "cell_type": "code",
   "execution_count": 73,
   "metadata": {},
   "outputs": [
    {
     "name": "stdout",
     "output_type": "stream",
     "text": [
      "The grouped Anagrams :  [['bat'], ['cat', 'tac'], ['eat', 'tea', 'ate'], ['tan', 'nat']]\n"
     ]
    }
   ],
   "source": [
    "# #!solution 2\n",
    "# Grouping Anagrams\n",
    "# using list comprehension + sorted() + groupby()\n",
    "from itertools import groupby\n",
    "\n",
    "\n",
    "strs = [\"eat\", \"tea\", \"tan\", \"ate\", \"nat\", \"bat\", \"cat\", \"tac\"]\n",
    "\n",
    "def temp(strs): \n",
    "    return sorted(strs)\n",
    "\n",
    "res = [list(val) for key, val in groupby(sorted(strs,key=temp), temp)]\n",
    "\n",
    "# print result\n",
    "print(\"The grouped Anagrams : \" , res)\n",
    "\n"
   ]
  },
  {
   "cell_type": "code",
   "execution_count": 68,
   "metadata": {},
   "outputs": [
    {
     "name": "stdout",
     "output_type": "stream",
     "text": [
      "['eat', 'tea']\n",
      "['eat', 'tea', 'ate']\n",
      "['tan', 'nat']\n",
      "['cat', 'tac']\n",
      "In dictionary format\n",
      "{'aet': ['eat', 'tea', 'ate'], 'ant': ['tan', 'nat'], 'abt': ['bat'], 'act': ['cat', 'tac']}\n",
      "In list format\n",
      "[['eat', 'tea', 'ate'], ['tan', 'nat'], ['bat'], ['cat', 'tac']]\n"
     ]
    }
   ],
   "source": [
    "# #!solution 3\n",
    "#creating functions\n",
    "\n",
    "strs = [\"eat\", \"tea\", \"tan\", \"ate\", \"nat\", \"bat\", \"cat\", \"tac\"]\n",
    "\n",
    "\n",
    "def createAnagramKey(string):\n",
    "    key = ''\n",
    "    for ch in sorted(string):\n",
    "        key += ch\n",
    "    return str(key)\n",
    "# #! example output : 'atebatcateatnattactantea' \n",
    "\n",
    "def groupAnagramWords(strs):\n",
    "    group = dict()\n",
    "    for ele in strs:\n",
    "        if group.get(createAnagramKey(ele)) == None:\n",
    "            \n",
    "            group[createAnagramKey(ele)] = [ele]\n",
    "        else:\n",
    "            group[createAnagramKey(ele)].append(ele)\n",
    "            print(group[createAnagramKey(ele)])\n",
    "    return group\n",
    "\n",
    "\n",
    "anagram_grouped = groupAnagramWords(strs)\n",
    "\n",
    "# Anagram in dictionary format\n",
    "print('In dictionary format')\n",
    "print(anagram_grouped)\n",
    "\n",
    "anagram_grouped_list = list()\n",
    "\n",
    "for k, v in anagram_grouped.items():\n",
    "    anagram_grouped_list.append(v)\n",
    "print('In list format')\n",
    "print(anagram_grouped_list)\n"
   ]
  },
  {
   "cell_type": "code",
   "execution_count": 67,
   "metadata": {},
   "outputs": [
    {
     "data": {
      "text/plain": [
       "'atebatcateatnattactantea'"
      ]
     },
     "execution_count": 67,
     "metadata": {},
     "output_type": "execute_result"
    }
   ],
   "source": [
    "# # #!solution 3 ekstra\n",
    "strs = [\"eat\", \"tea\", \"tan\", \"ate\", \"nat\", \"bat\", \"cat\", \"tac\"]\n",
    "\n",
    "\n",
    "\n",
    "def createAnagramKey(string):\n",
    "    key = ''\n",
    "    for ch in sorted(string):\n",
    "        key += ch\n",
    "    return str(key)\n",
    "createAnagramKey(strs)"
   ]
  }
 ],
 "metadata": {
  "kernelspec": {
   "display_name": "Python 3.10.7 64-bit",
   "language": "python",
   "name": "python3"
  },
  "language_info": {
   "codemirror_mode": {
    "name": "ipython",
    "version": 3
   },
   "file_extension": ".py",
   "mimetype": "text/x-python",
   "name": "python",
   "nbconvert_exporter": "python",
   "pygments_lexer": "ipython3",
   "version": "3.10.7"
  },
  "vscode": {
   "interpreter": {
    "hash": "5c10da12c10fd823261dd9974e66cd700332e2c96798d888241a9fd5e55edbb8"
   }
  }
 },
 "nbformat": 4,
 "nbformat_minor": 2
}
