{
 "cells": [
  {
   "cell_type": "code",
   "execution_count": 9,
   "metadata": {},
   "outputs": [
    {
     "name": "stdout",
     "output_type": "stream",
     "text": [
      "{'The': 1, 'dog': 1, 'chased': 1, 'the': 3, 'rabbit': 2, 'into': 1, 'forest': 1, 'but': 1, 'was': 1, 'too': 1, 'quick.': 1}\n",
      "<class 'dict'>\n"
     ]
    }
   ],
   "source": [
    "#Split the string sentence into a list of words,\n",
    "#then create a dictionary named word_counts that contains each word and \n",
    "#the number of times it occurs.\n",
    "from collections import Counter\n",
    "\n",
    "\n",
    "sentence = \"The dog chased the rabbit into the forest but the rabbit was too quick.\"\n",
    "lst = sentence.split()\n",
    "\n",
    "word_counts = dict(Counter(lst))\n",
    "print(word_counts)\n",
    "print(type(word_counts))\n"
   ]
  },
  {
   "cell_type": "code",
   "execution_count": 8,
   "metadata": {},
   "outputs": [
    {
     "data": {
      "text/plain": [
       "{'The': 1,\n",
       " 'dog': 1,\n",
       " 'chased': 1,\n",
       " 'the': 3,\n",
       " 'rabbit': 2,\n",
       " 'into': 1,\n",
       " 'forest': 1,\n",
       " 'but': 1,\n",
       " 'was': 1,\n",
       " 'too': 1,\n",
       " 'quick.': 1}"
      ]
     },
     "execution_count": 8,
     "metadata": {},
     "output_type": "execute_result"
    }
   ],
   "source": [
    "#Split the string sentence into a list of words,\n",
    "#then create a dictionary named word_counts that contains each word and\n",
    "#the number of times it occurs.\n",
    "# #! version 2\n",
    "sentence = \"The dog chased the rabbit into the forest but the rabbit was too quick.\"\n",
    "lst = sentence.split()\n",
    "dict((i, lst.count(i)) for i in lst)\n"
   ]
  },
  {
   "cell_type": "code",
   "execution_count": 7,
   "metadata": {},
   "outputs": [
    {
     "data": {
      "text/plain": [
       "1"
      ]
     },
     "execution_count": 7,
     "metadata": {},
     "output_type": "execute_result"
    }
   ],
   "source": [
    "#If you only want a single item's count, use the count method:\n",
    "from collections import Counter\n",
    "\n",
    "\n",
    "sentence = \"The dog chased the rabbit into the forest but the rabbit was too quick.\"\n",
    "lst = sentence.split()\n",
    "lst.count(\"dog\")\n"
   ]
  },
  {
   "cell_type": "code",
   "execution_count": 3,
   "metadata": {},
   "outputs": [
    {
     "name": "stdout",
     "output_type": "stream",
     "text": [
      "{'v': 1, 's': 1, ' ': 7, 'c': 1, 'o': 3, 'd': 2, 'e': 4, 'i': 4, 'l': 1, 'g': 2, 't': 1, 'h': 1, 'u': 2, 'b': 1, 'a': 1, 'p': 1, 'r': 4, 'j': 1, 'Ã': 1, '¶': 1, 'n': 1, 'y': 1, 'm': 1}\n",
      "v: 1 occurrences\n",
      "s: 1 occurrences\n",
      " : 7 occurrences\n",
      "c: 1 occurrences\n",
      "o: 3 occurrences\n",
      "d: 2 occurrences\n",
      "e: 4 occurrences\n",
      "i: 4 occurrences\n",
      "l: 1 occurrences\n",
      "g: 2 occurrences\n",
      "t: 1 occurrences\n",
      "h: 1 occurrences\n",
      "u: 2 occurrences\n",
      "b: 1 occurrences\n",
      "a: 1 occurrences\n",
      "p: 1 occurrences\n",
      "r: 4 occurrences\n",
      "j: 1 occurrences\n",
      "Ã: 1 occurrences\n",
      "¶: 1 occurrences\n",
      "n: 1 occurrences\n",
      "y: 1 occurrences\n",
      "m: 1 occurrences\n"
     ]
    }
   ],
   "source": [
    "## We can accumulate counts for all character as we traverse the text.\n",
    "\n",
    "f = open('main.txt', 'r')\n",
    "txt = f.read()\n",
    "letter_counts = {}\n",
    "for c in txt:\n",
    "    if c not in letter_counts:\n",
    "        letter_counts[c] = 0\n",
    "\n",
    "\n",
    "    letter_counts[c] = letter_counts[c] + 1\n",
    "print(letter_counts)\n",
    "for c in letter_counts.keys():\n",
    "    print(c + \": \" + str(letter_counts[c]) + \" occurrences\")\n"
   ]
  },
  {
   "cell_type": "code",
   "execution_count": 4,
   "metadata": {},
   "outputs": [
    {
     "name": "stdout",
     "output_type": "stream",
     "text": [
      "t: 1 occurrences\n",
      "s: 1 occurrences\n"
     ]
    }
   ],
   "source": [
    "## We can accumulate counts for more than one character as we traverse the text. Suppose, for example, we wanted to compare the counts of ‘t’ and ‘s’ in the text.\n",
    "f = open('main.txt', 'r')\n",
    "txt = f.read()\n",
    "# now txt is one long string containing all the characters\n",
    "t_count = 0  # initialize the accumulator variable\n",
    "s_count = 0  # initialize the s counter accumulator as well\n",
    "for c in txt:\n",
    "    if c == 't':\n",
    "        t_count = t_count + 1  # increment the t counter\n",
    "    elif c == 's':\n",
    "        s_count = s_count + 1\n",
    "print(\"t: \" + str(t_count) + \" occurrences\")\n",
    "print(\"s: \" + str(s_count) + \" occurrences\")\n"
   ]
  },
  {
   "cell_type": "code",
   "execution_count": 5,
   "metadata": {},
   "outputs": [
    {
     "name": "stdout",
     "output_type": "stream",
     "text": [
      "{'T': 1, 'h': 5, 'e': 6, ' ': 13, 'd': 2, 'o': 5, 'g': 1, 'c': 2, 'a': 4, 's': 3, 't': 9, 'r': 3, 'b': 5, 'i': 4, 'n': 1, 'f': 1, 'u': 2, 'w': 1, 'q': 1, 'k': 1, '.': 1}\n"
     ]
    }
   ],
   "source": [
    "from collections import Counter\n",
    "sentence = \"The dog chased the rabbit into the forest but the rabbit was too quick.\"\n",
    "word_counts = dict(Counter(sentence))\n",
    "print(word_counts)\n"
   ]
  },
  {
   "cell_type": "code",
   "execution_count": 7,
   "metadata": {},
   "outputs": [
    {
     "name": "stdout",
     "output_type": "stream",
     "text": [
      "{'w': 1, 'h': 1, 'a': 2, 't': 1, ' ': 3, 'c': 1, 'n': 1, 'I': 1, 'd': 1, 'o': 1}\n",
      "w: 1 occurrences\n",
      "h: 1 occurrences\n",
      "a: 2 occurrences\n",
      "t: 1 occurrences\n",
      " : 3 occurrences\n",
      "c: 1 occurrences\n",
      "n: 1 occurrences\n",
      "I: 1 occurrences\n",
      "d: 1 occurrences\n",
      "o: 1 occurrences\n"
     ]
    }
   ],
   "source": [
    "stri = \"what can I do\"\n",
    "letter_counts = {}\n",
    "for c in stri:\n",
    "    if c not in letter_counts:\n",
    "        letter_counts[c] = 0\n",
    "\n",
    "    letter_counts[c] = letter_counts[c] + 1\n",
    "print(letter_counts)\n",
    "for c in letter_counts.keys():\n",
    "    print(c + \": \" + str(letter_counts[c]) + \" occurrences\")\n"
   ]
  },
  {
   "cell_type": "code",
   "execution_count": 15,
   "metadata": {},
   "outputs": [
    {
     "name": "stdout",
     "output_type": "stream",
     "text": [
      "{'I': 2, ' ': 15, 'w': 4, 'i': 5, 's': 3, 'h': 5, 't': 5, 'a': 7, 'l': 4, 'm': 1, 'y': 2, 'e': 1, 'r': 3, 'o': 2, 'f': 1, 'd': 2, 'g': 1, 'n': 3, 'p': 1}\n",
      "I : 2  occurrences\n",
      "  : 15  occurrences\n",
      "w : 4  occurrences\n",
      "i : 5  occurrences\n",
      "s : 3  occurrences\n",
      "h : 5  occurrences\n",
      "t : 5  occurrences\n",
      "a : 7  occurrences\n",
      "l : 4  occurrences\n",
      "m : 1  occurrences\n",
      "y : 2  occurrences\n",
      "e : 1  occurrences\n",
      "r : 3  occurrences\n",
      "o : 2  occurrences\n",
      "f : 1  occurrences\n",
      "d : 2  occurrences\n",
      "g : 1  occurrences\n",
      "n : 3  occurrences\n",
      "p : 1  occurrences\n"
     ]
    }
   ],
   "source": [
    "#count characters\n",
    "str1 = \"I wish I wish with all my heart to fly with dragons in a land apart\"\n",
    "freq_words = {}\n",
    "for c in str1:\n",
    "    if c not in freq_words:\n",
    "        freq_words[c] = 0\n",
    "    freq_words[c] = freq_words[c] + 1\n",
    "print(freq_words)\n",
    "for c in freq_words.keys():\n",
    "    print(c,\":\",str(freq_words[c]),\" occurrences\")\n",
    "    \n",
    "#  #!from collections import Counter\n",
    "#  #!mydic = Counter(str1)\n",
    "#  #!print(mydic)\n"
   ]
  },
  {
   "cell_type": "code",
   "execution_count": 19,
   "metadata": {},
   "outputs": [
    {
     "name": "stdout",
     "output_type": "stream",
     "text": [
      "{'Singing': 1, 'in': 2, 'the': 2, 'rain': 2, 'and': 1, 'playing': 1, 'are': 1, 'two': 1, 'entirely': 1, 'different': 1, 'situations': 1, 'but': 1, 'both': 1, 'can': 1, 'be': 1, 'good': 1}\n"
     ]
    }
   ],
   "source": [
    "sent = \"Singing in the rain and playing in the rain are two entirely different situations but both can be good\"\n",
    "wrd_d = {}\n",
    "words = sent.split()\n",
    "for word in words:\n",
    "    if word not in wrd_d:\n",
    "        wrd_d[word] = 0\n",
    "    wrd_d[word] = wrd_d[word] + 1\n",
    "print(wrd_d)\n"
   ]
  },
  {
   "cell_type": "code",
   "execution_count": 24,
   "metadata": {},
   "outputs": [
    {
     "name": "stdout",
     "output_type": "stream",
     "text": [
      "159\n"
     ]
    }
   ],
   "source": [
    "\n",
    "    "
   ]
  },
  {
   "cell_type": "code",
   "execution_count": null,
   "metadata": {},
   "outputs": [],
   "source": []
  }
 ],
 "metadata": {
  "kernelspec": {
   "display_name": "Python 3.10.7 64-bit",
   "language": "python",
   "name": "python3"
  },
  "language_info": {
   "codemirror_mode": {
    "name": "ipython",
    "version": 3
   },
   "file_extension": ".py",
   "mimetype": "text/x-python",
   "name": "python",
   "nbconvert_exporter": "python",
   "pygments_lexer": "ipython3",
   "version": "3.10.7"
  },
  "orig_nbformat": 4,
  "vscode": {
   "interpreter": {
    "hash": "5c10da12c10fd823261dd9974e66cd700332e2c96798d888241a9fd5e55edbb8"
   }
  }
 },
 "nbformat": 4,
 "nbformat_minor": 2
}
