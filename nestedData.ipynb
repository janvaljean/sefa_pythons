{
 "cells": [
  {
   "cell_type": "code",
   "execution_count": 1,
   "metadata": {},
   "outputs": [],
   "source": [
    "#1. Below, we have provided a list of lists. \n",
    "# Use indexing to assign the element ‘horse’ to the variable name idx1\n",
    "animals = [['cat', 'dog', 'mouse'], [\n",
    "    'horse', 'cow', 'goat'], ['cheetah', 'giraffe', 'rhino']]\n",
    "idx1 = animals[1][0]\n"
   ]
  },
  {
   "cell_type": "code",
   "execution_count": 2,
   "metadata": {},
   "outputs": [],
   "source": [
    "#2. Using indexing, retrieve the string ‘willow’ from the list and assign that to the variable plant.\n",
    "data = ['bagel', 'cream cheese', 'breakfast', 'grits', 'eggs', 'bacon', [\n",
    "    34, 9, 73, []], [['willow', 'birch', 'elm'], 'apple', 'peach', 'cherry']]\n",
    "plant = data[7][0][0]\n"
   ]
  },
  {
   "cell_type": "code",
   "execution_count": 6,
   "metadata": {},
   "outputs": [
    {
     "name": "stdout",
     "output_type": "stream",
     "text": [
      "{'a': 97, 'f': 102, 'g': 103, 'd': 100}\n"
     ]
    }
   ],
   "source": [
    "#answer for stackoverflow\n",
    "inp = input()\n",
    "inp = inp.split(\" \")\n",
    "ordinput = []\n",
    "for i in inp:\n",
    "  x = ord(i)\n",
    "  ordinput.append(x)\n",
    "d = dict(zip(inp, ordinput))\n",
    "print(d)\n"
   ]
  },
  {
   "cell_type": "code",
   "execution_count": 1,
   "metadata": {},
   "outputs": [
    {
     "name": "stdout",
     "output_type": "stream",
     "text": [
      "{'eye': 'blue', 'hair': 'brown'}\n"
     ]
    }
   ],
   "source": [
    "#1. Extract the value associated with the key color and assign it to the variable color.\n",
    "# Do not hard code this.\n",
    "info = {'personal_data':\n",
    "        {'name': 'Lauren',\n",
    "         'age': 20,\n",
    "         'major': 'Information Science',\n",
    "         'physical_features':\n",
    "         {'color': {'eye': 'blue',\n",
    "                    'hair': 'brown'},\n",
    "          'height': \"5'8\"}\n",
    "         },\n",
    "        'other':\n",
    "        {'favorite_colors': ['purple', 'green', 'blue'],\n",
    "         'interested_in': ['social media', 'intellectual property', 'copyright', 'music', 'books']\n",
    "         }\n",
    "        }\n",
    "color = info[\"personal_data\"]['physical_features']['color']\n",
    "print(color)"
   ]
  },
  {
   "cell_type": "code",
   "execution_count": 5,
   "metadata": {},
   "outputs": [
    {
     "name": "stdout",
     "output_type": "stream",
     "text": [
      "\n",
      "\n",
      "\n",
      "{\n",
      " \"resultCount\":25,\n",
      " \"results\": [\n",
      "{\"wrapperType\":\"track\", \"kind\":\"podcast\", \"collectionId\":10892}]}\n",
      "------\n",
      "<class 'dict'>\n",
      "dict_keys(['resultCount', 'results'])\n",
      "25\n",
      "{'resultCount': 25, 'results': [{'wrapperType': 'track', 'kind': 'podcast', 'collectionId': 10892}]}\n"
     ]
    }
   ],
   "source": [
    "import json\n",
    "a_string = '\\n\\n\\n{\\n \"resultCount\":25,\\n \"results\": [\\n{\"wrapperType\":\"track\", \"kind\":\"podcast\", \"collectionId\":10892}]}'\n",
    "print(a_string)\n",
    "d = json.loads(a_string)\n",
    "print(\"------\")\n",
    "print(type(d))\n",
    "print(d.keys())\n",
    "print(d['resultCount'])\n",
    "print(d)\n"
   ]
  },
  {
   "cell_type": "code",
   "execution_count": 6,
   "metadata": {},
   "outputs": [
    {
     "name": "stdout",
     "output_type": "stream",
     "text": [
      "{'key1': {'c': True, 'a': 90, '5': 50}, 'key2': {'b': 3, 'c': 'yes'}}\n",
      "--------\n",
      "{\n",
      "  \"key1\": {\n",
      "    \"5\": 50,\n",
      "    \"a\": 90,\n",
      "    \"c\": true\n",
      "  },\n",
      "  \"key2\": {\n",
      "    \"b\": 3,\n",
      "    \"c\": \"yes\"\n",
      "  }\n",
      "}\n"
     ]
    }
   ],
   "source": [
    "# #!json.loads() \n",
    "# #takes a string as input and produces a python object (a dictionary or a list) as output.\n",
    "# #!json.dumps(obj, sort_keys=True, indent=2)\n",
    "# It does the inverse of loads. It takes a python object, typically a dictionary or a list, and returns a string, in JSON format.\n",
    "import json\n",
    "\n",
    "\n",
    "def pretty(obj):\n",
    "    return json.dumps(obj, sort_keys=True, indent=2)\n",
    "\n",
    "\n",
    "d = {'key1': {'c': True, 'a': 90, '5': 50}, 'key2': {'b': 3, 'c': \"yes\"}}\n",
    "\n",
    "print(d)\n",
    "print('--------')\n",
    "print(pretty(d))\n"
   ]
  }
 ],
 "metadata": {
  "kernelspec": {
   "display_name": "Python 3.10.7 64-bit",
   "language": "python",
   "name": "python3"
  },
  "language_info": {
   "codemirror_mode": {
    "name": "ipython",
    "version": 3
   },
   "file_extension": ".py",
   "mimetype": "text/x-python",
   "name": "python",
   "nbconvert_exporter": "python",
   "pygments_lexer": "ipython3",
   "version": "3.10.7"
  },
  "orig_nbformat": 4,
  "vscode": {
   "interpreter": {
    "hash": "5c10da12c10fd823261dd9974e66cd700332e2c96798d888241a9fd5e55edbb8"
   }
  }
 },
 "nbformat": 4,
 "nbformat_minor": 2
}
