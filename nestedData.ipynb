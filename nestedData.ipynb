{
 "cells": [
  {
   "cell_type": "code",
   "execution_count": 1,
   "metadata": {},
   "outputs": [],
   "source": [
    "#1. Below, we have provided a list of lists. \n",
    "# Use indexing to assign the element ‘horse’ to the variable name idx1\n",
    "animals = [['cat', 'dog', 'mouse'], [\n",
    "    'horse', 'cow', 'goat'], ['cheetah', 'giraffe', 'rhino']]\n",
    "idx1 = animals[1][0]\n"
   ]
  },
  {
   "cell_type": "code",
   "execution_count": 2,
   "metadata": {},
   "outputs": [],
   "source": [
    "#2. Using indexing, retrieve the string ‘willow’ from the list and assign that to the variable plant.\n",
    "data = ['bagel', 'cream cheese', 'breakfast', 'grits', 'eggs', 'bacon', [\n",
    "    34, 9, 73, []], [['willow', 'birch', 'elm'], 'apple', 'peach', 'cherry']]\n",
    "plant = data[7][0][0]\n"
   ]
  },
  {
   "cell_type": "code",
   "execution_count": 1,
   "metadata": {},
   "outputs": [
    {
     "name": "stdout",
     "output_type": "stream",
     "text": [
      "{'eye': 'blue', 'hair': 'brown'}\n"
     ]
    }
   ],
   "source": [
    "#1. Extract the value associated with the key color and assign it to the variable color.\n",
    "# Do not hard code this.\n",
    "info = {'personal_data':\n",
    "        {'name': 'Lauren',\n",
    "         'age': 20,\n",
    "         'major': 'Information Science',\n",
    "         'physical_features':\n",
    "         {'color': {'eye': 'blue',\n",
    "                    'hair': 'brown'},\n",
    "          'height': \"5'8\"}\n",
    "         },\n",
    "        'other':\n",
    "        {'favorite_colors': ['purple', 'green', 'blue'],\n",
    "         'interested_in': ['social media', 'intellectual property', 'copyright', 'music', 'books']\n",
    "         }\n",
    "        }\n",
    "color = info[\"personal_data\"]['physical_features']['color']\n",
    "print(color)"
   ]
  },
  {
   "cell_type": "code",
   "execution_count": 5,
   "metadata": {},
   "outputs": [
    {
     "name": "stdout",
     "output_type": "stream",
     "text": [
      "\n",
      "\n",
      "\n",
      "{\n",
      " \"resultCount\":25,\n",
      " \"results\": [\n",
      "{\"wrapperType\":\"track\", \"kind\":\"podcast\", \"collectionId\":10892}]}\n",
      "------\n",
      "<class 'dict'>\n",
      "dict_keys(['resultCount', 'results'])\n",
      "25\n",
      "{'resultCount': 25, 'results': [{'wrapperType': 'track', 'kind': 'podcast', 'collectionId': 10892}]}\n"
     ]
    }
   ],
   "source": [
    "import json\n",
    "a_string = '\\n\\n\\n{\\n \"resultCount\":25,\\n \"results\": [\\n{\"wrapperType\":\"track\", \"kind\":\"podcast\", \"collectionId\":10892}]}'\n",
    "print(a_string)\n",
    "d = json.loads(a_string)\n",
    "print(\"------\")\n",
    "print(type(d))\n",
    "print(d.keys())\n",
    "print(d['resultCount'])\n",
    "print(d)\n"
   ]
  },
  {
   "cell_type": "code",
   "execution_count": 6,
   "metadata": {},
   "outputs": [
    {
     "name": "stdout",
     "output_type": "stream",
     "text": [
      "{'key1': {'c': True, 'a': 90, '5': 50}, 'key2': {'b': 3, 'c': 'yes'}}\n",
      "--------\n",
      "{\n",
      "  \"key1\": {\n",
      "    \"5\": 50,\n",
      "    \"a\": 90,\n",
      "    \"c\": true\n",
      "  },\n",
      "  \"key2\": {\n",
      "    \"b\": 3,\n",
      "    \"c\": \"yes\"\n",
      "  }\n",
      "}\n"
     ]
    }
   ],
   "source": [
    "# #!json.loads() \n",
    "# #takes a string as input and produces a python object (a dictionary or a list) as output.\n",
    "# #!json.dumps(obj, sort_keys=True, indent=2)\n",
    "# It does the inverse of loads. It takes a python object, typically a dictionary or a list, and returns a string, in JSON format.\n",
    "import json\n",
    "\n",
    "\n",
    "def pretty(obj):\n",
    "    return json.dumps(obj, sort_keys=True, indent=2)\n",
    "\n",
    "\n",
    "d = {'key1': {'c': True, 'a': 90, '5': 50}, 'key2': {'b': 3, 'c': \"yes\"}}\n",
    "\n",
    "print(d)\n",
    "print('--------')\n",
    "print(pretty(d))\n"
   ]
  },
  {
   "cell_type": "code",
   "execution_count": 1,
   "metadata": {},
   "outputs": [
    {
     "name": "stdout",
     "output_type": "stream",
     "text": [
      "level1 : \n",
      "     level2: a\n",
      "     level2: b\n",
      "     level2: c\n",
      "level1 : \n",
      "     level2: d\n",
      "     level2: e\n",
      "level1 : \n",
      "     level2: f\n",
      "     level2: g\n",
      "     level2: h\n"
     ]
    }
   ],
   "source": [
    "#nested iteration\n",
    "nested1 =  [[\"a\",\"b\",\"c\"],[\"d\",\"e\"],[\"f\",\"g\",\"h\"]]\n",
    "for x in nested1:\n",
    "    print(\"level1 : \")\n",
    "    for y in x:\n",
    "        print(\"     level2: \"+y)"
   ]
  },
  {
   "cell_type": "code",
   "execution_count": 4,
   "metadata": {},
   "outputs": [
    {
     "name": "stdout",
     "output_type": "stream",
     "text": [
      "['turner', 'damon', 'jordon']\n"
     ]
    }
   ],
   "source": [
    "# nested iteration 2 \n",
    "#make a lastname list\n",
    "info = [[\"tina\",\"turner\",1939,\"singer\"],[\"matt\",\"damon\",1970,\"actor\"],[\"michael\",\"jordon\",1970,\"sport\"]]\n",
    "last_name = []\n",
    "for i in info:\n",
    "    last_name.append(i[1])\n",
    "print(last_name)"
   ]
  },
  {
   "cell_type": "code",
   "execution_count": 5,
   "metadata": {},
   "outputs": [
    {
     "name": "stdout",
     "output_type": "stream",
     "text": [
      "['turner', 'damon', 'jordon']\n"
     ]
    }
   ],
   "source": [
    "# nested iteration short version\n",
    "#make a lastname list\n",
    "info = [[\"tina\", \"turner\", 1939, \"singer\"], [\"matt\", \"damon\",1970, \"actor\"], [\"michael\", \"jordon\", 1970, \"sport\"]]\n",
    "last_name = [i[1] for i in info]\n",
    "print(last_name)\n"
   ]
  },
  {
   "cell_type": "code",
   "execution_count": 7,
   "metadata": {},
   "outputs": [
    {
     "name": "stdout",
     "output_type": "stream",
     "text": [
      "tina\n",
      "turner\n",
      "1939\n",
      "singer\n",
      "matt\n",
      "damon\n",
      "1970\n",
      "actor\n",
      "michael\n",
      "jordon\n",
      "1970\n",
      "sport\n"
     ]
    }
   ],
   "source": [
    "# nested iteration\n",
    "# all of data is printed\n",
    "info = [[\"tina\", \"turner\", 1939, \"singer\"], [\"matt\", \"damon\",1970, \"actor\"], [\"michael\", \"jordon\", 1970, \"sport\"]]\n",
    "for i in info:\n",
    "    for v in i:\n",
    "        print(v)\n",
    "        "
   ]
  },
  {
   "cell_type": "code",
   "execution_count": 1,
   "metadata": {},
   "outputs": [
    {
     "name": "stdout",
     "output_type": "stream",
     "text": [
      "['bananas', 'blues', 'cucumbers', 'green beans', 'root beer', 'boru', 'bursa']\n"
     ]
    }
   ],
   "source": [
    "#make a list b_string\n",
    "#every string contains \"b\"\n",
    "L =[['apples','bananas','oranges','blues','lemons'],\n",
    "    ['carrots','peas','cucumbers','green beans'],\n",
    "    ['root beer','boru','bursa']]\n",
    "b_string = []\n",
    "for i in L:\n",
    "    for bword in i:\n",
    "        if \"b\" in bword:\n",
    "            b_string.append(bword)\n",
    "print(b_string)"
   ]
  },
  {
   "cell_type": "code",
   "execution_count": null,
   "metadata": {},
   "outputs": [],
   "source": [
    "# we can check whether elements in nested are iterable or not\n",
    "nested1 = [1, 2, ['a', 'b', 'c'], ['d', 'e'], ['f', 'g', 'h']]\n",
    "for x in nested1:\n",
    "    print(\"level1: \")\n",
    "    if type(x) is list:\n",
    "        for y in x:\n",
    "            print(\"     level2: {}\".format(y))\n",
    "    else:\n",
    "        print(x)\n"
   ]
  },
  {
   "cell_type": "code",
   "execution_count": 7,
   "metadata": {},
   "outputs": [
    {
     "name": "stdout",
     "output_type": "stream",
     "text": [
      "[['dogs', 'puppies'], ['cats', 'kittens']]\n",
      "[['dogs', 'puppies', ['canines']], ['cats', 'kittens']]\n",
      "[['dogs', 'puppies', ['canines']], ['cats', 'kittens']]\n",
      "False\n",
      "True\n"
     ]
    }
   ],
   "source": [
    "#list shallow copy\n",
    "original = [['dogs','puppies'],['cats','kittens']]\n",
    "copied_version = original[:]\n",
    "print(copied_version)\n",
    "original[0].append(['canines'])\n",
    "print(original)\n",
    "print(copied_version)\n",
    "print(original is copied_version)\n",
    "print(original == copied_version)"
   ]
  },
  {
   "cell_type": "code",
   "execution_count": 12,
   "metadata": {},
   "outputs": [
    {
     "name": "stdout",
     "output_type": "stream",
     "text": [
      "[['dogs', 'puppies'], ['cats', 'kittens']]\n",
      "[['dogs', 'puppies', ['canines']], ['cats', 'kittens']]\n",
      "[['dogs', 'puppies'], ['cats', 'kittens']]\n"
     ]
    }
   ],
   "source": [
    "#list deep copy\n",
    "original = [['dogs','puppies'],['cats','kittens']]\n",
    "outer_copy = []\n",
    "for lst in original:\n",
    "    inner_copy = []\n",
    "    for i in lst:\n",
    "        inner_copy.append(i)\n",
    "    outer_copy.append(inner_copy)\n",
    "\n",
    "original[0].append(['canines'])\n",
    "print(original)\n",
    "print(outer_copy)"
   ]
  },
  {
   "cell_type": "code",
   "execution_count": 13,
   "metadata": {},
   "outputs": [
    {
     "name": "stdout",
     "output_type": "stream",
     "text": [
      "[['dogs', 'puppies', ['canines']], ['cats', 'kittens']]\n",
      "[['dogs', 'puppies'], ['cats', 'kittens']]\n"
     ]
    }
   ],
   "source": [
    "#list deep copy 2 \n",
    "original = [['dogs', 'puppies'], ['cats', 'kittens']]\n",
    "outer_copy = []\n",
    "for lst in original:\n",
    "    inner_copy = lst[:]\n",
    "    outer_copy.append(inner_copy)\n",
    "\n",
    "original[0].append(['canines'])\n",
    "print(original)\n",
    "print(outer_copy)\n"
   ]
  },
  {
   "cell_type": "code",
   "execution_count": 15,
   "metadata": {},
   "outputs": [
    {
     "name": "stdout",
     "output_type": "stream",
     "text": [
      "[['dogs', 'puppies', ['canines'], ['for shallow']], ['cats', 'kittens'], 'hi there']\n",
      "--------\n",
      "[['dogs', 'puppies', ['canines']], ['cats', 'kittens']]\n",
      "----------\n",
      "[['dogs', 'puppies', ['canines'], ['for shallow']], ['cats', 'kittens']]\n"
     ]
    }
   ],
   "source": [
    "#shallow copy ---> only works in nested list,only change when appended an  element in nested  list. #!  both lists share the reference of same nested objects.\n",
    "#deepcopy -->  it doesnt effected on any change of original list #! both are independent\n",
    "import copy\n",
    "original = [['dogs', 'puppies', ['canines']], ['cats', 'kittens']]\n",
    "shallow_copy = original[:]\n",
    "deeply_copy = copy.deepcopy(original)\n",
    "original.append(\"hi there\")\n",
    "original[0].append([\"for shallow\"])\n",
    "print(original)\n",
    "print(\"--------\")\n",
    "print(deeply_copy)\n",
    "print(\"----------\")\n",
    "print(shallow_copy)"
   ]
  },
  {
   "cell_type": "code",
   "execution_count": null,
   "metadata": {},
   "outputs": [],
   "source": [
    "#json import res = file \n",
    "import json\n",
    "print(json.dumps(res, indent=2))\n"
   ]
  },
  {
   "cell_type": "code",
   "execution_count": 1,
   "metadata": {},
   "outputs": [
    {
     "name": "stdout",
     "output_type": "stream",
     "text": [
      "snake\n"
     ]
    }
   ],
   "source": [
    "#The variable nested contains a nested list. \n",
    "# Assign ‘snake’ to the variable output using indexing.\n",
    "\n",
    "nested = [['dog', 'cat', 'horse'], ['frog', 'turtle',\n",
    "                                    'snake', 'gecko'], ['hamster', 'gerbil', 'rat', 'ferret']]\n",
    "output = nested[1][2]\n",
    "print(output)\n"
   ]
  },
  {
   "cell_type": "code",
   "execution_count": 4,
   "metadata": {},
   "outputs": [],
   "source": [
    "\n",
    "lst = [['apple', 'orange', 'banana'], [5, 6, 7, 8, 9.9, 10],\n",
    "       ['green', 'yellow', 'purple', 'red']]\n",
    "\n",
    "#Test to see if 'yellow' is in the third list of lst. Save to variable ``yellow``\n",
    "yellow = \"yellow\" in lst[2]\n",
    "\n",
    "#Test to see if 4 is in the second list of lst. Save to variable ``four``\n",
    "four = 4 in lst[1]\n",
    "\n",
    "#Test to see if 'orange' is in the first element of lst. Save to variable ``orange``\n",
    "orange = \"orange\" in lst[0]\n"
   ]
  },
  {
   "cell_type": "code",
   "execution_count": 2,
   "metadata": {},
   "outputs": [
    {
     "name": "stdout",
     "output_type": "stream",
     "text": [
      "{'one': 2, 'two': 1, 'seven': 1, 'eight': 1, 'nine': 1, 'four': 1, 'three': 1}\n"
     ]
    }
   ],
   "source": [
    "#three level deep nested list and the number of times words occur\n",
    "\n",
    "big_list = [[['one','two'],['seven','eight']],[['nine','four'],['three','one']]]\n",
    "word_counts = {}\n",
    "for i1 in big_list:\n",
    "    for i2 in i1:\n",
    "        for word in i2:\n",
    "            if word in word_counts:\n",
    "                word_counts[word] += 1\n",
    "            else:\n",
    "                word_counts[word] = 1\n",
    "                \n",
    "             \n",
    "\n",
    "print(word_counts)\n"
   ]
  },
  {
   "cell_type": "code",
   "execution_count": 5,
   "metadata": {},
   "outputs": [
    {
     "data": {
      "text/plain": [
       "'snake'"
      ]
     },
     "execution_count": 5,
     "metadata": {},
     "output_type": "execute_result"
    }
   ],
   "source": [
    "#The variable nested contains a nested list. Assign ‘snake’ to the variable output using indexing.\n",
    "nested = [['dog', 'cat', 'horse'], ['frog', 'turtle','snake', 'gecko'], ['hamster', 'gerbil', 'rat', 'ferret']]\n",
    "nested[1][2]\n",
    "\n"
   ]
  },
  {
   "cell_type": "code",
   "execution_count": 9,
   "metadata": {},
   "outputs": [
    {
     "name": "stdout",
     "output_type": "stream",
     "text": [
      "{\n",
      "    \"Beijing\": {\n",
      "        \"China\": 51,\n",
      "        \"USA\": 36,\n",
      "        \"Russia\": 22,\n",
      "        \"Great Britain\": 19\n",
      "    },\n",
      "    \"London\": {\n",
      "        \"USA\": 46,\n",
      "        \"China\": 38,\n",
      "        \"Great Britain\": 29,\n",
      "        \"Russia\": 22\n",
      "    },\n",
      "    \"Rio\": {\n",
      "        \"USA\": 35,\n",
      "        \"Great Britain\": 22,\n",
      "        \"China\": 20,\n",
      "        \"Germany\": 13\n",
      "    }\n",
      "}\n"
     ]
    },
    {
     "data": {
      "text/plain": [
       "29"
      ]
     },
     "execution_count": 9,
     "metadata": {},
     "output_type": "execute_result"
    }
   ],
   "source": [
    "#The variable nested_d contains a nested dictionary with the gold medal counts for the top four countries in the past three Olympics.\n",
    "# Assign the value of Great Britain’s gold medal count from the London Olympics to the variable london_gold.\n",
    "# Use indexing. \n",
    "import json\n",
    "\n",
    "nested_d = {'Beijing': {'China': 51, 'USA': 36, 'Russia': 22, 'Great Britain': 19}, 'London': {\n",
    "    'USA': 46, 'China': 38, 'Great Britain': 29, 'Russia': 22}, 'Rio': {'USA': 35, 'Great Britain': 22, 'China': 20, 'Germany': 13}}\n",
    "#a = json.dumps(nested_d, indent=4)\n",
    "#print(a)\n",
    "nested_d['London']['Great Britain']\n",
    "    \n"
   ]
  },
  {
   "cell_type": "code",
   "execution_count": 10,
   "metadata": {},
   "outputs": [
    {
     "name": "stdout",
     "output_type": "stream",
     "text": [
      "{\n",
      "    \"swimming\": [\n",
      "        \"butterfly\",\n",
      "        \"breaststroke\",\n",
      "        \"backstroke\",\n",
      "        \"freestyle\"\n",
      "    ],\n",
      "    \"diving\": [\n",
      "        \"springboard\",\n",
      "        \"platform\",\n",
      "        \"synchronized\"\n",
      "    ],\n",
      "    \"track\": [\n",
      "        \"sprint\",\n",
      "        \"distance\",\n",
      "        \"jumps\",\n",
      "        \"throws\"\n",
      "    ],\n",
      "    \"gymnastics\": {\n",
      "        \"women\": [\n",
      "            \"vault\",\n",
      "            \"floor\",\n",
      "            \"uneven bars\",\n",
      "            \"balance beam\"\n",
      "        ],\n",
      "        \"men\": [\n",
      "            \"vault\",\n",
      "            \"parallel bars\",\n",
      "            \"floor\",\n",
      "            \"rings\"\n",
      "        ]\n",
      "    }\n",
      "}\n"
     ]
    }
   ],
   "source": [
    "import json\n",
    "sports = {'swimming': ['butterfly', 'breaststroke', 'backstroke', 'freestyle'], 'diving': ['springboard', 'platform', 'synchronized'], 'track': [\n",
    "    'sprint', 'distance', 'jumps', 'throws'], 'gymnastics': {'women': ['vault', 'floor', 'uneven bars', 'balance beam'], 'men': ['vault', 'parallel bars', 'floor', 'rings']}}\n",
    "a = json.dumps(sports, indent=4)\n",
    "print(a)\n"
   ]
  },
  {
   "cell_type": "code",
   "execution_count": 17,
   "metadata": {},
   "outputs": [
    {
     "name": "stdout",
     "output_type": "stream",
     "text": [
      "[36, 46, 35]\n"
     ]
    }
   ],
   "source": [
    "#Given the dictionary,\n",
    "# nested_d, save the medal count for the USA from all three Olympics in the dictionary to the list US_count.\n",
    "nested_d = {'Beijing': {'China': 51, 'USA': 36, 'Russia': 22, 'Great Britain': 19}, 'London': {\n",
    "    'USA': 46, 'China': 38, 'Great Britain': 29, 'Russia': 22}, 'Rio': {'USA': 35, 'Great Britain': 22, 'China': 20, 'Germany': 13}}\n",
    "\n",
    "US_count = []\n",
    "for k,v in nested_d.items():\n",
    "    for i in v:\n",
    "        if i == 'USA':\n",
    "            US_count.append(v[i])\n",
    "print(US_count)\n"
   ]
  },
  {
   "cell_type": "code",
   "execution_count": 19,
   "metadata": {},
   "outputs": [
    {
     "name": "stdout",
     "output_type": "stream",
     "text": [
      "['blue', 'blood orange', 'lavender', 'mac n cheese']\n"
     ]
    }
   ],
   "source": [
    "#Iterate through the contents of l_of_l and assign the third element of sublist to a new list called third.\n",
    "l_of_l = [['purple', 'mauve', 'blue'], ['red', 'maroon', 'blood orange', 'crimson'], ['sea green', 'cornflower', 'lavender', 'indigo'], ['yellow', 'amarillo', 'mac n cheese', 'golden rod']]\n",
    "third = []\n",
    "for i in l_of_l:\n",
    "    third.append(i[2])\n",
    "print(third)\n",
    "    \n"
   ]
  },
  {
   "cell_type": "code",
   "execution_count": 20,
   "metadata": {},
   "outputs": [
    {
     "name": "stdout",
     "output_type": "stream",
     "text": [
      "['Lochte', 'Bolt', 'Eaton', 'Dalton']\n",
      "['Phelps', 'Schooling', 'Ledecky', 'Franklin', 'Felix', 'Gardner', 'Biles', 'Douglas', 'Hamm', 'Raisman', 'Mikulak']\n"
     ]
    }
   ],
   "source": [
    "#Given below is a list of lists of athletes. \n",
    "# Create a list, t, that saves only the athlete’s name if it contains the letter “t”. \n",
    "# If it does not contain the letter “t”, save the athlete name into list other\n",
    "\n",
    "athletes = [['Phelps', 'Lochte', 'Schooling', 'Ledecky', 'Franklin'], ['Felix', 'Bolt','Gardner', 'Eaton'], ['Biles', 'Douglas', 'Hamm', 'Raisman', 'Mikulak', 'Dalton']]\n",
    "t = []\n",
    "other = []\n",
    "for i in athletes:\n",
    "    for name in i:\n",
    "        if 't' in name:\n",
    "            t.append(name)\n",
    "        else:\n",
    "            other.append(name)\n",
    "\n",
    "print(t)\n",
    "print(other)"
   ]
  },
  {
   "cell_type": "code",
   "execution_count": 29,
   "metadata": {},
   "outputs": [
    {
     "data": {
      "text/plain": [
       "False"
      ]
     },
     "execution_count": 29,
     "metadata": {},
     "output_type": "execute_result"
    }
   ],
   "source": [
    "nested = {'data': ['finding', 23, ['exercises', 'hangout', 34]], 'window': ['part', 'whole', [], 'sum', [\n",
    "    'math', 'calculus', 'algebra', 'geometry', 'statistics', ['physics', 'chemistry', 'biology']]]}\n",
    "\n",
    "# Check to see if the string 'data' is a key in nested, if it is, assign True to the variable data, otherwise assign False.\n",
    "data = 'data' in nested.keys()\n",
    "# Check to see if the integer 24 is in the value of the key data, if it is then assign to the variable twentyfour the value of True, otherwise False.\n",
    "twentyfour = 24 in nested['data']\n",
    "# Check to see that the string 'whole' is not in the value of the key window. If it's not, then assign to the variable whole the value of True, otherwise False.\n",
    "whole = 'whole' not in nested['window']\n",
    "# Check to see if the string 'physics' is a key in the dictionary nested. If it is, assign to the variable physics, the value of True, otherwise False.\n",
    "physics = 'physics' in nested.keys()\n"
   ]
  },
  {
   "cell_type": "code",
   "execution_count": 38,
   "metadata": {},
   "outputs": [
    {
     "name": "stdout",
     "output_type": "stream",
     "text": [
      "x\n"
     ]
    }
   ],
   "source": [
    "# Create a dictionary called d \n",
    "# that keeps track of all the characters in the string placement and notes how many times each character was seen.\n",
    "# Then, find the key with the lowest value in this dictionary and assign that key to min_value.\n",
    "placement = \"Beaches are cool places to visit in spring however the Mackinaw Bridge is near. Most people visit Mackinaw later since the island is a cool place to explore.\"\n",
    "d = {}\n",
    "\n",
    "for i in placement:\n",
    "    if i in d:\n",
    "        d[i] += 1\n",
    "    else:\n",
    "        d[i] = 1\n",
    "    \n",
    "\n",
    "min_value = min(d,key=d.get)\n",
    "print(min_value)\n"
   ]
  },
  {
   "cell_type": "code",
   "execution_count": 73,
   "metadata": {},
   "outputs": [
    {
     "ename": "TypeError",
     "evalue": "'dict_values' object is not callable",
     "output_type": "error",
     "traceback": [
      "\u001b[1;31m---------------------------------------------------------------------------\u001b[0m",
      "\u001b[1;31mTypeError\u001b[0m                                 Traceback (most recent call last)",
      "Cell \u001b[1;32mIn [73], line 13\u001b[0m\n\u001b[0;32m      8\u001b[0m         d[i] \u001b[39m=\u001b[39m \u001b[39m1\u001b[39m\n\u001b[0;32m     11\u001b[0m \u001b[39m#min_value = min(d, key=d.get)\u001b[39;00m\n\u001b[1;32m---> 13\u001b[0m min_value \u001b[39m=\u001b[39m \u001b[39msorted\u001b[39;49m(d,key\u001b[39m=\u001b[39;49md\u001b[39m.\u001b[39;49mvalues())[\u001b[39m0\u001b[39m]\n",
      "\u001b[1;31mTypeError\u001b[0m: 'dict_values' object is not callable"
     ]
    }
   ],
   "source": [
    "placement = \"Beaches are cool places to visit in spring however the Mackinaw Bridge is near. Most people visit Mackinaw later since the island is a cool place to explore.\"\n",
    "d = {}\n",
    "\n",
    "for i in placement:\n",
    "    if i in d:\n",
    "        d[i] += 1\n",
    "    else:\n",
    "        d[i] = 1\n",
    "\n",
    "\n",
    "#min_value = min(d, key=d.get)\n",
    "\n",
    "min_value = sorted(d,key=d.values())[0]\n"
   ]
  },
  {
   "cell_type": "code",
   "execution_count": 64,
   "metadata": {},
   "outputs": [
    {
     "name": "stdout",
     "output_type": "stream",
     "text": [
      "x\n",
      "0:00:00\n"
     ]
    }
   ],
   "source": [
    "\n",
    "\n",
    "\n",
    "\n",
    "placement = \"Beaches are cool places to visit in spring however the Mackinaw Bridge is near. Most people visit Mackinaw later since the island is a cool place to explore.\"\n",
    "d = {}\n",
    "\n",
    "for i in placement:\n",
    "    if i in d:\n",
    "        d[i] += 1\n",
    "    else:\n",
    "        d[i] = 1\n",
    "\n",
    "\n",
    "min_value = min(d, key=d.get)\n",
    "\n",
    "# min_value = sorted(d,key=d.values())[0] #! false code \n",
    "#min_value = sorted(d, key=lambda k: d[k])[0]\n",
    "print(min_value)\n",
    "\n"
   ]
  },
  {
   "cell_type": "code",
   "execution_count": 72,
   "metadata": {},
   "outputs": [
    {
     "name": "stdout",
     "output_type": "stream",
     "text": [
      "321\n"
     ]
    }
   ],
   "source": [
    "mydic3 = {320:1, 321:0, 322:3}\n",
    "min_value = sorted(mydic3,key= lambda k:mydic3[k])[0]\n",
    "print(min_value)"
   ]
  }
 ],
 "metadata": {
  "kernelspec": {
   "display_name": "Python 3.10.7 64-bit",
   "language": "python",
   "name": "python3"
  },
  "language_info": {
   "codemirror_mode": {
    "name": "ipython",
    "version": 3
   },
   "file_extension": ".py",
   "mimetype": "text/x-python",
   "name": "python",
   "nbconvert_exporter": "python",
   "pygments_lexer": "ipython3",
   "version": "3.10.7"
  },
  "orig_nbformat": 4,
  "vscode": {
   "interpreter": {
    "hash": "5c10da12c10fd823261dd9974e66cd700332e2c96798d888241a9fd5e55edbb8"
   }
  }
 },
 "nbformat": 4,
 "nbformat_minor": 2
}
