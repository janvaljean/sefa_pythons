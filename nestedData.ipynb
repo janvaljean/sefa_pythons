{
 "cells": [
  {
   "cell_type": "code",
   "execution_count": 1,
   "metadata": {},
   "outputs": [],
   "source": [
    "#1. Below, we have provided a list of lists. \n",
    "# Use indexing to assign the element ‘horse’ to the variable name idx1\n",
    "animals = [['cat', 'dog', 'mouse'], [\n",
    "    'horse', 'cow', 'goat'], ['cheetah', 'giraffe', 'rhino']]\n",
    "idx1 = animals[1][0]\n"
   ]
  },
  {
   "cell_type": "code",
   "execution_count": 2,
   "metadata": {},
   "outputs": [],
   "source": [
    "#2. Using indexing, retrieve the string ‘willow’ from the list and assign that to the variable plant.\n",
    "data = ['bagel', 'cream cheese', 'breakfast', 'grits', 'eggs', 'bacon', [\n",
    "    34, 9, 73, []], [['willow', 'birch', 'elm'], 'apple', 'peach', 'cherry']]\n",
    "plant = data[7][0][0]\n"
   ]
  },
  {
   "cell_type": "code",
   "execution_count": 1,
   "metadata": {},
   "outputs": [
    {
     "name": "stdout",
     "output_type": "stream",
     "text": [
      "{'eye': 'blue', 'hair': 'brown'}\n"
     ]
    }
   ],
   "source": [
    "#1. Extract the value associated with the key color and assign it to the variable color.\n",
    "# Do not hard code this.\n",
    "info = {'personal_data':\n",
    "        {'name': 'Lauren',\n",
    "         'age': 20,\n",
    "         'major': 'Information Science',\n",
    "         'physical_features':\n",
    "         {'color': {'eye': 'blue',\n",
    "                    'hair': 'brown'},\n",
    "          'height': \"5'8\"}\n",
    "         },\n",
    "        'other':\n",
    "        {'favorite_colors': ['purple', 'green', 'blue'],\n",
    "         'interested_in': ['social media', 'intellectual property', 'copyright', 'music', 'books']\n",
    "         }\n",
    "        }\n",
    "color = info[\"personal_data\"]['physical_features']['color']\n",
    "print(color)"
   ]
  },
  {
   "cell_type": "code",
   "execution_count": 5,
   "metadata": {},
   "outputs": [
    {
     "name": "stdout",
     "output_type": "stream",
     "text": [
      "\n",
      "\n",
      "\n",
      "{\n",
      " \"resultCount\":25,\n",
      " \"results\": [\n",
      "{\"wrapperType\":\"track\", \"kind\":\"podcast\", \"collectionId\":10892}]}\n",
      "------\n",
      "<class 'dict'>\n",
      "dict_keys(['resultCount', 'results'])\n",
      "25\n",
      "{'resultCount': 25, 'results': [{'wrapperType': 'track', 'kind': 'podcast', 'collectionId': 10892}]}\n"
     ]
    }
   ],
   "source": [
    "import json\n",
    "a_string = '\\n\\n\\n{\\n \"resultCount\":25,\\n \"results\": [\\n{\"wrapperType\":\"track\", \"kind\":\"podcast\", \"collectionId\":10892}]}'\n",
    "print(a_string)\n",
    "d = json.loads(a_string)\n",
    "print(\"------\")\n",
    "print(type(d))\n",
    "print(d.keys())\n",
    "print(d['resultCount'])\n",
    "print(d)\n"
   ]
  },
  {
   "cell_type": "code",
   "execution_count": 6,
   "metadata": {},
   "outputs": [
    {
     "name": "stdout",
     "output_type": "stream",
     "text": [
      "{'key1': {'c': True, 'a': 90, '5': 50}, 'key2': {'b': 3, 'c': 'yes'}}\n",
      "--------\n",
      "{\n",
      "  \"key1\": {\n",
      "    \"5\": 50,\n",
      "    \"a\": 90,\n",
      "    \"c\": true\n",
      "  },\n",
      "  \"key2\": {\n",
      "    \"b\": 3,\n",
      "    \"c\": \"yes\"\n",
      "  }\n",
      "}\n"
     ]
    }
   ],
   "source": [
    "# #!json.loads() \n",
    "# #takes a string as input and produces a python object (a dictionary or a list) as output.\n",
    "# #!json.dumps(obj, sort_keys=True, indent=2)\n",
    "# It does the inverse of loads. It takes a python object, typically a dictionary or a list, and returns a string, in JSON format.\n",
    "import json\n",
    "\n",
    "\n",
    "def pretty(obj):\n",
    "    return json.dumps(obj, sort_keys=True, indent=2)\n",
    "\n",
    "\n",
    "d = {'key1': {'c': True, 'a': 90, '5': 50}, 'key2': {'b': 3, 'c': \"yes\"}}\n",
    "\n",
    "print(d)\n",
    "print('--------')\n",
    "print(pretty(d))\n"
   ]
  },
  {
   "cell_type": "code",
   "execution_count": 1,
   "metadata": {},
   "outputs": [
    {
     "name": "stdout",
     "output_type": "stream",
     "text": [
      "level1 : \n",
      "     level2: a\n",
      "     level2: b\n",
      "     level2: c\n",
      "level1 : \n",
      "     level2: d\n",
      "     level2: e\n",
      "level1 : \n",
      "     level2: f\n",
      "     level2: g\n",
      "     level2: h\n"
     ]
    }
   ],
   "source": [
    "#nested iteration\n",
    "nested1 =  [[\"a\",\"b\",\"c\"],[\"d\",\"e\"],[\"f\",\"g\",\"h\"]]\n",
    "for x in nested1:\n",
    "    print(\"level1 : \")\n",
    "    for y in x:\n",
    "        print(\"     level2: \"+y)"
   ]
  },
  {
   "cell_type": "code",
   "execution_count": 4,
   "metadata": {},
   "outputs": [
    {
     "name": "stdout",
     "output_type": "stream",
     "text": [
      "['turner', 'damon', 'jordon']\n"
     ]
    }
   ],
   "source": [
    "# nested iteration 2 \n",
    "#make a lastname list\n",
    "info = [[\"tina\",\"turner\",1939,\"singer\"],[\"matt\",\"damon\",1970,\"actor\"],[\"michael\",\"jordon\",1970,\"sport\"]]\n",
    "last_name = []\n",
    "for i in info:\n",
    "    last_name.append(i[1])\n",
    "print(last_name)"
   ]
  },
  {
   "cell_type": "code",
   "execution_count": 5,
   "metadata": {},
   "outputs": [
    {
     "name": "stdout",
     "output_type": "stream",
     "text": [
      "['turner', 'damon', 'jordon']\n"
     ]
    }
   ],
   "source": [
    "# nested iteration short version\n",
    "#make a lastname list\n",
    "info = [[\"tina\", \"turner\", 1939, \"singer\"], [\"matt\", \"damon\",1970, \"actor\"], [\"michael\", \"jordon\", 1970, \"sport\"]]\n",
    "last_name = [i[1] for i in info]\n",
    "print(last_name)\n"
   ]
  },
  {
   "cell_type": "code",
   "execution_count": 7,
   "metadata": {},
   "outputs": [
    {
     "name": "stdout",
     "output_type": "stream",
     "text": [
      "tina\n",
      "turner\n",
      "1939\n",
      "singer\n",
      "matt\n",
      "damon\n",
      "1970\n",
      "actor\n",
      "michael\n",
      "jordon\n",
      "1970\n",
      "sport\n"
     ]
    }
   ],
   "source": [
    "# nested iteration\n",
    "# all of data is printed\n",
    "info = [[\"tina\", \"turner\", 1939, \"singer\"], [\"matt\", \"damon\",1970, \"actor\"], [\"michael\", \"jordon\", 1970, \"sport\"]]\n",
    "for i in info:\n",
    "    for v in i:\n",
    "        print(v)\n",
    "        "
   ]
  },
  {
   "cell_type": "code",
   "execution_count": 1,
   "metadata": {},
   "outputs": [
    {
     "name": "stdout",
     "output_type": "stream",
     "text": [
      "['bananas', 'blues', 'cucumbers', 'green beans', 'root beer', 'boru', 'bursa']\n"
     ]
    }
   ],
   "source": [
    "#make a list b_string\n",
    "#every string contains \"b\"\n",
    "L =[['apples','bananas','oranges','blues','lemons'],\n",
    "    ['carrots','peas','cucumbers','green beans'],\n",
    "    ['root beer','boru','bursa']]\n",
    "b_string = []\n",
    "for i in L:\n",
    "    for bword in i:\n",
    "        if \"b\" in bword:\n",
    "            b_string.append(bword)\n",
    "print(b_string)"
   ]
  },
  {
   "cell_type": "code",
   "execution_count": null,
   "metadata": {},
   "outputs": [],
   "source": [
    "# we can check whether elements in nested are iterable or not\n",
    "nested1 = [1, 2, ['a', 'b', 'c'], ['d', 'e'], ['f', 'g', 'h']]\n",
    "for x in nested1:\n",
    "    print(\"level1: \")\n",
    "    if type(x) is list:\n",
    "        for y in x:\n",
    "            print(\"     level2: {}\".format(y))\n",
    "    else:\n",
    "        print(x)\n"
   ]
  },
  {
   "cell_type": "code",
   "execution_count": 7,
   "metadata": {},
   "outputs": [
    {
     "name": "stdout",
     "output_type": "stream",
     "text": [
      "[['dogs', 'puppies'], ['cats', 'kittens']]\n",
      "[['dogs', 'puppies', ['canines']], ['cats', 'kittens']]\n",
      "[['dogs', 'puppies', ['canines']], ['cats', 'kittens']]\n",
      "False\n",
      "True\n"
     ]
    }
   ],
   "source": [
    "#list shallow copy\n",
    "original = [['dogs','puppies'],['cats','kittens']]\n",
    "copied_version = original[:]\n",
    "print(copied_version)\n",
    "original[0].append(['canines'])\n",
    "print(original)\n",
    "print(copied_version)\n",
    "print(original is copied_version)\n",
    "print(original == copied_version)"
   ]
  },
  {
   "cell_type": "code",
   "execution_count": 12,
   "metadata": {},
   "outputs": [
    {
     "name": "stdout",
     "output_type": "stream",
     "text": [
      "[['dogs', 'puppies'], ['cats', 'kittens']]\n",
      "[['dogs', 'puppies', ['canines']], ['cats', 'kittens']]\n",
      "[['dogs', 'puppies'], ['cats', 'kittens']]\n"
     ]
    }
   ],
   "source": [
    "#list deep copy\n",
    "original = [['dogs','puppies'],['cats','kittens']]\n",
    "outer_copy = []\n",
    "for lst in original:\n",
    "    inner_copy = []\n",
    "    for i in lst:\n",
    "        inner_copy.append(i)\n",
    "    outer_copy.append(inner_copy)\n",
    "\n",
    "original[0].append(['canines'])\n",
    "print(original)\n",
    "print(outer_copy)"
   ]
  },
  {
   "cell_type": "code",
   "execution_count": 13,
   "metadata": {},
   "outputs": [
    {
     "name": "stdout",
     "output_type": "stream",
     "text": [
      "[['dogs', 'puppies', ['canines']], ['cats', 'kittens']]\n",
      "[['dogs', 'puppies'], ['cats', 'kittens']]\n"
     ]
    }
   ],
   "source": [
    "#list deep copy 2 \n",
    "original = [['dogs', 'puppies'], ['cats', 'kittens']]\n",
    "outer_copy = []\n",
    "for lst in original:\n",
    "    inner_copy = lst[:]\n",
    "    outer_copy.append(inner_copy)\n",
    "\n",
    "original[0].append(['canines'])\n",
    "print(original)\n",
    "print(outer_copy)\n"
   ]
  },
  {
   "cell_type": "code",
   "execution_count": 15,
   "metadata": {},
   "outputs": [
    {
     "name": "stdout",
     "output_type": "stream",
     "text": [
      "[['dogs', 'puppies', ['canines'], ['for shallow']], ['cats', 'kittens'], 'hi there']\n",
      "--------\n",
      "[['dogs', 'puppies', ['canines']], ['cats', 'kittens']]\n",
      "----------\n",
      "[['dogs', 'puppies', ['canines'], ['for shallow']], ['cats', 'kittens']]\n"
     ]
    }
   ],
   "source": [
    "#shallow copy ---> only works in nested list,only change when appended an  element in nested  list. #!  both lists share the reference of same nested objects.\n",
    "#deepcopy -->  it doesnt effected on any change of original list #! both are independent\n",
    "import copy\n",
    "original = [['dogs', 'puppies', ['canines']], ['cats', 'kittens']]\n",
    "shallow_copy = original[:]\n",
    "deeply_copy = copy.deepcopy(original)\n",
    "original.append(\"hi there\")\n",
    "original[0].append([\"for shallow\"])\n",
    "print(original)\n",
    "print(\"--------\")\n",
    "print(deeply_copy)\n",
    "print(\"----------\")\n",
    "print(shallow_copy)"
   ]
  },
  {
   "cell_type": "code",
   "execution_count": null,
   "metadata": {},
   "outputs": [],
   "source": [
    "#json import res = file \n",
    "import json\n",
    "print(json.dumps(res, indent=2))\n"
   ]
  }
 ],
 "metadata": {
  "kernelspec": {
   "display_name": "Python 3.10.7 64-bit",
   "language": "python",
   "name": "python3"
  },
  "language_info": {
   "codemirror_mode": {
    "name": "ipython",
    "version": 3
   },
   "file_extension": ".py",
   "mimetype": "text/x-python",
   "name": "python",
   "nbconvert_exporter": "python",
   "pygments_lexer": "ipython3",
   "version": "3.10.7"
  },
  "orig_nbformat": 4,
  "vscode": {
   "interpreter": {
    "hash": "5c10da12c10fd823261dd9974e66cd700332e2c96798d888241a9fd5e55edbb8"
   }
  }
 },
 "nbformat": 4,
 "nbformat_minor": 2
}
