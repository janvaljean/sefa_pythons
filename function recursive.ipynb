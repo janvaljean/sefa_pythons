{
 "cells": [
  {
   "cell_type": "code",
   "execution_count": 2,
   "metadata": {},
   "outputs": [
    {
     "name": "stdout",
     "output_type": "stream",
     "text": [
      "10\n",
      "8\n",
      "6\n",
      "4\n",
      "2\n"
     ]
    },
    {
     "data": {
      "text/plain": [
       "2"
      ]
     },
     "execution_count": 2,
     "metadata": {},
     "output_type": "execute_result"
    }
   ],
   "source": [
    "#resursive function1\n",
    "#Even nums\n",
    "def EvenNum(num):\n",
    "    print(num)\n",
    "    if num % 2 != 0:\n",
    "        print(\"enter a even number\")\n",
    "    if num == 2:\n",
    "        return num\n",
    "    else:\n",
    "        return EvenNum(num-2)\n",
    "EvenNum(10)\n",
    "\n",
    "\n"
   ]
  },
  {
   "cell_type": "code",
   "execution_count": 10,
   "metadata": {},
   "outputs": [
    {
     "name": "stdout",
     "output_type": "stream",
     "text": [
      "speed : 0.19481062889099121094\n"
     ]
    }
   ],
   "source": [
    "#resursive function2\n",
    "#fibonacci\n",
    "import time\n",
    "rec = time.time()\n",
    "def my_fibo(idx):\n",
    "    if idx <= 1:\n",
    "        return idx\n",
    "    else:\n",
    "        return my_fibo(idx-1)+my_fibo(idx-2)\n",
    "my_fibo(30)\n",
    "fark = (time.time()-rec)\n",
    "print(\"speed : {0:.20f}\".format(fark))\n"
   ]
  },
  {
   "cell_type": "code",
   "execution_count": 5,
   "metadata": {},
   "outputs": [
    {
     "name": "stdout",
     "output_type": "stream",
     "text": [
      "speed : 0.0000000000\n"
     ]
    }
   ],
   "source": [
    "#fibo wir began with 0 ,thats why return seq -2\n",
    "import time\n",
    "rec = time.time()\n",
    "def fibo(idx):\n",
    "    seq = [0,1]\n",
    "    for i in range(idx):\n",
    "        seq.append(seq[-1]+seq[-2])\n",
    "    return seq[-2]\n",
    "\n",
    "\n",
    "fibo(30)\n",
    "fark = (time.time()-rec)\n",
    "print(\"speed : {0:.10f}\".format(fark))\n"
   ]
  },
  {
   "cell_type": "code",
   "execution_count": 276,
   "metadata": {},
   "outputs": [
    {
     "data": {
      "text/plain": [
       "6"
      ]
     },
     "execution_count": 276,
     "metadata": {},
     "output_type": "execute_result"
    }
   ],
   "source": [
    "def my_sum(num):\n",
    "    if num == 0:\n",
    "        return 0\n",
    "    else:\n",
    "        return num + my_sum(num-1)\n",
    "my_sum(3)"
   ]
  },
  {
   "cell_type": "code",
   "execution_count": null,
   "metadata": {},
   "outputs": [],
   "source": []
  }
 ],
 "metadata": {
  "kernelspec": {
   "display_name": "Python 3.10.7 64-bit",
   "language": "python",
   "name": "python3"
  },
  "language_info": {
   "codemirror_mode": {
    "name": "ipython",
    "version": 3
   },
   "file_extension": ".py",
   "mimetype": "text/x-python",
   "name": "python",
   "nbconvert_exporter": "python",
   "pygments_lexer": "ipython3",
   "version": "3.10.7"
  },
  "orig_nbformat": 4,
  "vscode": {
   "interpreter": {
    "hash": "5c10da12c10fd823261dd9974e66cd700332e2c96798d888241a9fd5e55edbb8"
   }
  }
 },
 "nbformat": 4,
 "nbformat_minor": 2
}
