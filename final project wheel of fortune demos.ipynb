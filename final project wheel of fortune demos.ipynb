{
 "cells": [
  {
   "cell_type": "code",
   "execution_count": 2,
   "metadata": {},
   "outputs": [
    {
     "name": "stdout",
     "output_type": "stream",
     "text": [
      "Sleep 2 seconds..\n",
      "Done!\n"
     ]
    }
   ],
   "source": [
    "# The time.sleep(s) function (from the time module) \n",
    "# delays execution of the next line of code for s seconds.\n",
    "import time\n",
    "\n",
    "for x in range(2, 3):\n",
    "    print('Sleep {} seconds..'.format(x))\n",
    "    time.sleep(x) # \"Sleep\" for x seconds\n",
    "print('Done!')\n"
   ]
  },
  {
   "cell_type": "code",
   "execution_count": 3,
   "metadata": {},
   "outputs": [
    {
     "name": "stdout",
     "output_type": "stream",
     "text": [
      "2 seconds\n"
     ]
    }
   ],
   "source": [
    "import time\n",
    "time.sleep(2)\n",
    "print(\"2 seconds\")"
   ]
  },
  {
   "cell_type": "code",
   "execution_count": 32,
   "metadata": {},
   "outputs": [
    {
     "name": "stdout",
     "output_type": "stream",
     "text": [
      "Random number between 1 and 10: 1\n",
      "Random letter: M\n"
     ]
    }
   ],
   "source": [
    "#random module\n",
    "\n",
    "# random.randint(min, max) generates a random number between min and max (inclusive)\n",
    "\n",
    "#random.choice(L) selects a random item from the list L\n",
    "\n",
    "import random\n",
    "\n",
    "rand_number = random.randint(1, 10)\n",
    "print('Random number between 1 and 10: {}'.format(rand_number))\n",
    "\n",
    "letters = [letter for letter in 'ABCDEFGHIJKLMNOPQRSTUVWXYZ']\n",
    "rand_letter = random.choice(letters)\n",
    "print('Random letter: {}'.format(rand_letter))\n"
   ]
  },
  {
   "cell_type": "code",
   "execution_count": 33,
   "metadata": {},
   "outputs": [
    {
     "name": "stdout",
     "output_type": "stream",
     "text": [
      "HELLO, WORLD! 123\n",
      "hello, world! 123\n",
      "3\n",
      "2\n"
     ]
    }
   ],
   "source": [
    "# .upper() converts a string to uppercase (the opposite is .lower())\n",
    "\n",
    "# .count(s) counts how many times the string s occurs inside of a larger string\n",
    "\n",
    "myString = 'Hello, World! 123'\n",
    "\n",
    "print(myString.upper())  # HELLO, WORLD! 123\n",
    "print(myString.lower())  # hello, world! 123\n",
    "print(myString.count('l'))  # 3\n",
    "\n",
    "s = 'python is pythonic'\n",
    "print(s.count('python'))  # 2\n"
   ]
  },
  {
   "cell_type": "code",
   "execution_count": null,
   "metadata": {},
   "outputs": [],
   "source": [
    "#  getNumberBetween(prompt, min, max)) repeatedly asks the user for a number between min and max with the prompt prompt\n",
    "\n",
    "#  spinWheel() simulates spinning the wheel and returns a dictionary with a random prize\n",
    "\n",
    "#  getRandomCategoryAndPhrase() returns a tuple with a random category and phrase for players to guess\n",
    "\n",
    "#  obscurePhrase(phrase, guessed) returns a tuple with a random category and phrase for players to guess\n",
    "\n",
    "import json\n",
    "import random\n",
    "import time\n",
    "\n",
    "LETTERS = 'ABCDEFGHIJKLMNOPQRSTUVWXYZ'\n",
    "\n",
    "# Repeatedly asks the user for a number between min & max (inclusive)\n",
    "\n",
    "\n",
    "def getNumberBetween(prompt, min, max):\n",
    "    userinp = input(prompt)  # ask the first time\n",
    "\n",
    "    while True:\n",
    "        try:\n",
    "            n = int(userinp)  # try casting to an integer\n",
    "            if n < min:\n",
    "                errmessage = 'Must be at least {}'.format(min)\n",
    "            elif n > max:\n",
    "                errmessage = 'Must be at most {}'.format(max)\n",
    "            else:\n",
    "                return n\n",
    "        except ValueError:  # The user didn't enter a number\n",
    "            errmessage = '{} is not a number.'.format(userinp)\n",
    "\n",
    "        # If we haven't gotten a number yet, add the error message\n",
    "        # and ask again\n",
    "        userinp = input('{}\\n{}'.format(errmessage, prompt))\n",
    "\n",
    "# Spins the wheel of fortune wheel to give a random prize\n",
    "# Examples:\n",
    "#    { \"type\": \"cash\", \"text\": \"$950\", \"value\": 950, \"prize\": \"A trip to Ann Arbor!\" },\n",
    "#    { \"type\": \"bankrupt\", \"text\": \"Bankrupt\", \"prize\": false },\n",
    "#    { \"type\": \"loseturn\", \"text\": \"Lose a turn\", \"prize\": false }\n",
    "\n",
    "\n",
    "def spinWheel():\n",
    "    with open(\"wheel.json\", 'r') as f:\n",
    "        wheel = json.loads(f.read())\n",
    "        return random.choice(wheel)\n",
    "\n",
    "# Returns a category & phrase (as a tuple) to guess\n",
    "# Example:\n",
    "#     (\"Artist & Song\", \"Whitney Houston's I Will Always Love You\")\n",
    "\n",
    "\n",
    "def getRandomCategoryAndPhrase():\n",
    "    with open(\"phrases.json\", 'r') as f:\n",
    "        phrases = json.loads(f.read())\n",
    "\n",
    "        category = random.choice(list(phrases.keys()))\n",
    "        phrase = random.choice(phrases[category])\n",
    "        return (category, phrase.upper())\n",
    "\n",
    "# Given a phrase and a list of guessed letters, returns an obscured version\n",
    "# Example:\n",
    "#     guessed: ['L', 'B', 'E', 'R', 'N', 'P', 'K', 'X', 'Z']\n",
    "#     phrase:  \"GLACIER NATIONAL PARK\"\n",
    "#     returns> \"_L___ER N____N_L P_RK\"\n",
    "\n",
    "\n",
    "def obscurePhrase(phrase, guessed):\n",
    "    rv = ''\n",
    "    for s in phrase:\n",
    "        if (s in LETTERS) and (s not in guessed):\n",
    "            rv = rv+'_'\n",
    "        else:\n",
    "            rv = rv+s\n",
    "    return rv\n",
    "\n",
    "# Returns a string representing the current state of the game\n",
    "\n",
    "\n",
    "def showBoard(category, obscuredPhrase, guessed):\n",
    "    return \"\"\"\n",
    "Category: {}\n",
    "Phrase:   {}\n",
    "Guessed:  {}\"\"\".format(category, obscuredPhrase, ', '.join(sorted(guessed)))\n",
    "\n",
    "\n",
    "category, phrase = getRandomCategoryAndPhrase()\n",
    "\n",
    "guessed = []\n",
    "for x in range(random.randint(10, 20)):\n",
    "    randomLetter = random.choice(LETTERS)\n",
    "    if randomLetter not in guessed:\n",
    "        guessed.append(randomLetter)\n",
    "\n",
    "print(\"getRandomCategoryAndPhrase()\\n -> ('{}', '{}')\".format(category, phrase))\n",
    "\n",
    "print(\"\\n{}\\n\".format(\"-\"*5))\n",
    "\n",
    "print(\"obscurePhrase('{}', [{}])\\n -> {}\".format(phrase, ', '.join(\n",
    "    [\"'{}'\".format(c) for c in guessed]), obscurePhrase(phrase, guessed)))\n",
    "\n",
    "print(\"\\n{}\\n\".format(\"-\"*5))\n",
    "\n",
    "obscured_phrase = obscurePhrase(phrase, guessed)\n",
    "print(\"showBoard('{}', '{}', [{}])\\n -> {}\".format(phrase, obscured_phrase, ','.join(\n",
    "    [\"'{}'\".format(c) for c in guessed]), showBoard(phrase, obscured_phrase, guessed)))\n",
    "\n",
    "print(\"\\n{}\\n\".format(\"-\"*5))\n",
    "\n",
    "num_times_to_spin = random.randint(2, 5)\n",
    "print('Spinning the wheel {} times (normally this would just be done once per turn)'.format(\n",
    "    num_times_to_spin))\n",
    "\n",
    "for x in range(num_times_to_spin):\n",
    "    print(\"\\n{}\\n\".format(\"-\"*2))\n",
    "    print(\"spinWheel()\")\n",
    "    print(spinWheel())\n",
    "\n",
    "\n",
    "print(\"\\n{}\\n\".format(\"-\"*5))\n",
    "\n",
    "print(\"In 2 seconds, will run getNumberBetween('Testing getNumberBetween(). Enter a number between 1 and 10', 1, 10)\")\n",
    "\n",
    "time.sleep(2)\n",
    "\n",
    "print(getNumberBetween(\n",
    "    'Testing getNumberBetween(). Enter a number between 1 and 10', 1, 10))\n"
   ]
  },
  {
   "cell_type": "code",
   "execution_count": 41,
   "metadata": {},
   "outputs": [
    {
     "data": {
      "text/plain": [
       "4"
      ]
     },
     "execution_count": 41,
     "metadata": {},
     "output_type": "execute_result"
    }
   ],
   "source": [
    "#getNumberBetween(prompt, min, max)) repeatedly asks the user for a number between min and max with the prompt prompt\n",
    "def getNumberBetween(prompt, min, max):\n",
    "    userinp = input(prompt)  # ask the first time\n",
    "\n",
    "    while True:\n",
    "        try:\n",
    "            n = int(userinp)  # try casting to an integer\n",
    "            if n < min:\n",
    "                errmessage = 'Must be at least {}'.format(min)\n",
    "            elif n > max:\n",
    "                errmessage = 'Must be at most {}'.format(max)\n",
    "            else:\n",
    "                return n\n",
    "        except ValueError:  # The user didn't enter a number\n",
    "            errmessage = '{} is not a number.'.format(userinp)\n",
    "\n",
    "        # If we haven't gotten a number yet, add the error message\n",
    "        # and ask again\n",
    "        userinp = input('{}\\n{}'.format(errmessage, prompt))\n",
    "\n",
    "\n",
    "getNumberBetween(\"prompt\",1,5)"
   ]
  },
  {
   "cell_type": "code",
   "execution_count": 43,
   "metadata": {},
   "outputs": [],
   "source": [
    "#spinWheel() simulates spinning the wheel and returns a dictionary with a random prize\n",
    "def spinWheel():\n",
    "    with open(\"wheel.json\", 'r') as f:\n",
    "        wheel = json.loads(f.read())\n",
    "        return random.choice(wheel)\n",
    "\n",
    "# Spins the wheel of fortune wheel to give a random prize\n",
    "# Examples:\n",
    "#    { \"type\": \"cash\", \"text\": \"$950\", \"value\": 950, \"prize\": \"A trip to Ann Arbor!\" },\n",
    "#    { \"type\": \"bankrupt\", \"text\": \"Bankrupt\", \"prize\": false },\n",
    "#    { \"type\": \"loseturn\", \"text\": \"Lose a turn\", \"prize\": false }\n"
   ]
  },
  {
   "cell_type": "code",
   "execution_count": 44,
   "metadata": {},
   "outputs": [],
   "source": [
    "#getRandomCategoryAndPhrase()\n",
    "# returns a tuple with a random category and phrase for players to guess\n",
    "# Returns a category & phrase (as a tuple) to guess\n",
    "# Example:\n",
    "#     (\"Artist & Song\", \"Whitney Houston's I Will Always Love You\")\n",
    "def getRandomCategoryAndPhrase():\n",
    "    with open(\"phrases.json\", 'r') as f:\n",
    "        phrases = json.loads(f.read())\n",
    "\n",
    "        category = random.choice(list(phrases.keys()))\n",
    "        phrase = random.choice(phrases[category])\n",
    "        return (category, phrase.upper())\n"
   ]
  },
  {
   "cell_type": "code",
   "execution_count": null,
   "metadata": {},
   "outputs": [],
   "source": [
    "# Given a phrase and a list of guessed letters, returns an obscured version\n",
    "# Example:\n",
    "#     guessed: ['L', 'B', 'E', 'R', 'N', 'P', 'K', 'X', 'Z']\n",
    "#     phrase:  \"GLACIER NATIONAL PARK\"\n",
    "#     returns> \"_L___ER N____N_L P_RK\"\n",
    "def obscurePhrase(phrase, guessed):\n",
    "    rv = ''\n",
    "    for s in phrase:\n",
    "        if (s in LETTERS) and (s not in guessed):\n",
    "            rv = rv+'_'\n",
    "        else:\n",
    "            rv = rv+s\n",
    "    return rv\n"
   ]
  },
  {
   "cell_type": "code",
   "execution_count": null,
   "metadata": {},
   "outputs": [],
   "source": []
  }
 ],
 "metadata": {
  "kernelspec": {
   "display_name": "Python 3.10.7 64-bit",
   "language": "python",
   "name": "python3"
  },
  "language_info": {
   "codemirror_mode": {
    "name": "ipython",
    "version": 3
   },
   "file_extension": ".py",
   "mimetype": "text/x-python",
   "name": "python",
   "nbconvert_exporter": "python",
   "pygments_lexer": "ipython3",
   "version": "3.10.7"
  },
  "orig_nbformat": 4,
  "vscode": {
   "interpreter": {
    "hash": "5c10da12c10fd823261dd9974e66cd700332e2c96798d888241a9fd5e55edbb8"
   }
  }
 },
 "nbformat": 4,
 "nbformat_minor": 2
}
