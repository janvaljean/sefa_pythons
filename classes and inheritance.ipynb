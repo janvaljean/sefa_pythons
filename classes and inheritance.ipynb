{
 "cells": [
  {
   "cell_type": "code",
   "execution_count": null,
   "metadata": {},
   "outputs": [],
   "source": [
    "#demo1\n",
    "#Create a class called NumberSet that accepts 2 integers as input, \n",
    "# and defines two instance variables: num1 and num2, which hold each of the input integers. \n",
    "# Then, create an instance of NumberSet where its num1 is 6 and its num2 is 10.\n",
    "# Save this instance to a variable t.\n",
    "class NumberSet: \n",
    "    def __init__(self, num1, num2):\n",
    "\n",
    "        self.num1 = num1\n",
    "        self.num2 = num2\n",
    "\n",
    "t = NumberSet(6,10)"
   ]
  },
  {
   "cell_type": "code",
   "execution_count": 2,
   "metadata": {},
   "outputs": [
    {
     "data": {
      "text/plain": [
       "100"
      ]
     },
     "execution_count": 2,
     "metadata": {},
     "output_type": "execute_result"
    }
   ],
   "source": [
    "#demo2\n",
    "#adding other methods\n",
    "class Point():\n",
    "    def __init__(self, x, y):\n",
    "        self.x = x\n",
    "        self.y = y\n",
    "    def getX(self):\n",
    "        return self.x \n",
    "    def getY(self):\n",
    "        return self.y  \n",
    "        \n",
    "    \n",
    "point1 = Point(10,100)\n",
    "point1.getX()\n",
    "point1.getY()"
   ]
  },
  {
   "cell_type": "code",
   "execution_count": 3,
   "metadata": {},
   "outputs": [
    {
     "name": "stdout",
     "output_type": "stream",
     "text": [
      "9.219544457292887\n"
     ]
    }
   ],
   "source": [
    "#class demo3\n",
    "class Point:\n",
    "    \"\"\" Point class for representing and manipulating x,y coordinates. \"\"\"\n",
    "\n",
    "    def __init__(self, initX, initY):\n",
    "\n",
    "        self.x = initX\n",
    "        self.y = initY\n",
    "\n",
    "    def getX(self):\n",
    "        return self.x\n",
    "\n",
    "    def getY(self):\n",
    "        return self.y\n",
    "\n",
    "    def distanceFromOrigin(self):\n",
    "        return ((self.x ** 2) + (self.y ** 2)) ** 0.5\n",
    "\n",
    "\n",
    "p = Point(7, 6)\n",
    "print(p.distanceFromOrigin())\n"
   ]
  },
  {
   "cell_type": "code",
   "execution_count": 6,
   "metadata": {},
   "outputs": [],
   "source": [
    "#class demo 4\n",
    "#Create a class called Animal that accepts two numbers as inputs and assigns them respectively to two instance variables: arms and legs.\n",
    "# Create an instance method called limbs that, when called, \n",
    "# returns the total number of limbs the animal has.\n",
    "# To the variable name spider, assign an instance of Animal that has 4 arms and 4 legs.\n",
    "# Call the limbs method on the spider instance and save the result to the variable name spidlimbs.\n",
    "class Animal:\n",
    "    def __init__(self, arms, legs):\n",
    "\n",
    "        self.arms = arms\n",
    "        self.legs = legs\n",
    "\n",
    "    def limbs(self):\n",
    "        return self.arms+self.legs\n",
    "\n",
    "\n",
    "spider = Animal(4, 4)\n",
    "spidlimbs = spider.limbs()\n"
   ]
  },
  {
   "cell_type": "code",
   "execution_count": 16,
   "metadata": {},
   "outputs": [
    {
     "name": "stdout",
     "output_type": "stream",
     "text": [
      "[<__main__.City object at 0x00000233E6EE5660>, <__main__.City object at 0x00000233E6EE5A80>, <__main__.City object at 0x00000233E6BE40A0>, <__main__.City object at 0x00000233E7246EF0>, <__main__.City object at 0x00000233E7244A30>]\n"
     ]
    },
    {
     "data": {
      "text/plain": [
       "'new york, NY (pop: 3)'"
      ]
     },
     "execution_count": 16,
     "metadata": {},
     "output_type": "execute_result"
    }
   ],
   "source": [
    "#class demo5\n",
    "cityNames = [\"detroit\",\"ann arbor\",\"pittsburgh\",\"mars\",\"new york\"]\n",
    "population = [50000,234234,123,23423,3]\n",
    "states = [\"MI\",\"MI\",\"PA\",\"PA\",\"NY\"]\n",
    "\n",
    "city_tupples = list(zip(cityNames,population,states))\n",
    "#print(city_tupples)\n",
    "\n",
    "class City:\n",
    "    def __init__(self, n, p, s):\n",
    "        self.name = n\n",
    "        self.population = p\n",
    "        self.states = s\n",
    "        \n",
    "    def __str__(self) -> str:\n",
    "        return \"{}, {} (pop: {})\".format(self.name,self.states,self.population)\n",
    "cities = []\n",
    "for city_tup in city_tupples:\n",
    "    name, pop, state = city_tup\n",
    "    city = City(name, pop, state)\n",
    "    cities.append(city)    \n",
    "#cities = [City(n, p, s) for (n ,p, s) in city_tupples]  \n",
    "print(cities)  #\n",
    "city.__str__()"
   ]
  },
  {
   "cell_type": "code",
   "execution_count": 17,
   "metadata": {},
   "outputs": [
    {
     "name": "stdout",
     "output_type": "stream",
     "text": [
      "5.0\n"
     ]
    }
   ],
   "source": [
    "#class demo 6\n",
    "# #! distance func is not method of point class\n",
    "import math\n",
    "\n",
    "\n",
    "class Point:\n",
    "    \"\"\" Point class for representing and manipulating x,y coordinates. \"\"\"\n",
    "\n",
    "    def __init__(self, initX, initY):\n",
    "\n",
    "        self.x = initX\n",
    "        self.y = initY\n",
    "\n",
    "    def getX(self):\n",
    "        return self.x\n",
    "\n",
    "    def getY(self):\n",
    "        return self.y\n",
    "\n",
    "    def distanceFromOrigin(self):\n",
    "        return ((self.x ** 2) + (self.y ** 2)) ** 0.5\n",
    "\n",
    "def distance(point1, point2):\n",
    "    xdiff = point2.getX()-point1.getX()\n",
    "    ydiff = point2.getY()-point1.getY()\n",
    "\n",
    "    dist = math.sqrt(xdiff**2 + ydiff**2)\n",
    "    return dist\n",
    "\n",
    "p = Point(4,3)\n",
    "q = Point(0,0)\n",
    "print(distance(p,q))"
   ]
  },
  {
   "cell_type": "code",
   "execution_count": 18,
   "metadata": {},
   "outputs": [
    {
     "name": "stdout",
     "output_type": "stream",
     "text": [
      "5.0\n"
     ]
    }
   ],
   "source": [
    "#class demo 7\n",
    "# #? distance func is method of point class\n",
    "import math\n",
    "\n",
    "class Point:\n",
    "    \"\"\" Point class for representing and manipulating x,y coordinates. \"\"\"\n",
    "\n",
    "    def __init__(self, initX, initY):\n",
    "\n",
    "        self.x = initX\n",
    "        self.y = initY\n",
    "\n",
    "    def getX(self):\n",
    "        return self.x\n",
    "\n",
    "    def getY(self):\n",
    "        return self.y\n",
    "\n",
    "    def distanceFromOrigin(self):\n",
    "        return ((self.x ** 2) + (self.y ** 2)) ** 0.5\n",
    "\n",
    "    def distance(self, point2):\n",
    "        xdiff = point2.getX()-self.getX()\n",
    "        ydiff = point2.getY()-self.getY()\n",
    "\n",
    "        dist = math.sqrt(xdiff**2 + ydiff**2)\n",
    "        return dist\n",
    "\n",
    "\n",
    "p = Point(4, 3)\n",
    "q = Point(0, 0)\n",
    "print(p.distance(q))\n"
   ]
  },
  {
   "cell_type": "code",
   "execution_count": 20,
   "metadata": {},
   "outputs": [
    {
     "name": "stdout",
     "output_type": "stream",
     "text": [
      "Corn Flakes cereal is produced by Kellog's and has 2 grams of fiber in every serving!\n"
     ]
    }
   ],
   "source": [
    "#class demo 8\n",
    "#Create a class called Cereal that accepts three inputs:\n",
    "# 2 strings and 1 integer, and assigns them to 3 instance variables in the constructor: name, brand, and fiber.\n",
    "# When an instance of Cereal is printed, the user should see the following:\n",
    "# “[name] cereal is produced by [brand] and has [fiber integer] grams of fiber in every serving!”\n",
    "# To the variable name c1, assign an instance of Cereal whose name is \"Corn Flakes\", brand is \"Kellogg's\", and fiber is 2. \n",
    "# To the variable name c2, assign an instance of Cereal whose name is \"Honey Nut Cheerios\", brand is \"General Mills\", and fiber is 3.\n",
    "# Practice printing both!\n",
    "class Cereal:\n",
    "    \n",
    "    def __init__(self, name, brand, fiber):\n",
    "        \n",
    "        self.name = name\n",
    "        self.brand = brand\n",
    "        self.fiber = fiber\n",
    "        \n",
    "    def __str__(self) -> str:\n",
    "        return \"{0} cereal is produced by {1} and has {2} grams of fiber in every serving!\".format(self.name, self.brand, self.fiber)\n",
    "    \n",
    "c1 = Cereal(\"Corn Flakes\",\"Kellog's\",2)\n",
    "c2 = Cereal(\"Honey Nut Cheerios\",\"General Mills\",3)\n",
    "print(c1)\n",
    "    "
   ]
  },
  {
   "cell_type": "code",
   "execution_count": 26,
   "metadata": {},
   "outputs": [
    {
     "name": "stdout",
     "output_type": "stream",
     "text": [
      "x = 7 , y = -1\n",
      "x = 3.5 , y = -0.5\n"
     ]
    },
    {
     "data": {
      "text/plain": [
       "-0.5"
      ]
     },
     "execution_count": 26,
     "metadata": {},
     "output_type": "execute_result"
    }
   ],
   "source": [
    "#class demo 9 sum two different points\n",
    "class Point:\n",
    "    \"\"\" Point class for representing and manipulating x,y coordinates. \"\"\"\n",
    "\n",
    "    def __init__(self, initX, initY):\n",
    "\n",
    "        self.x = initX\n",
    "        self.y = initY\n",
    "\n",
    "    def __add__(self, otherpoints):\n",
    "        return Point(self.x + otherpoints.x, self.y + otherpoints.y)\n",
    "    \n",
    "    def getX(self):\n",
    "        return self.x\n",
    "\n",
    "    def getY(self):\n",
    "        return self.y\n",
    "    \n",
    "    def __mid__(self, otherpoints):\n",
    "        return Point((self.x + otherpoints.x)/2, (self.y + otherpoints.y)/2)\n",
    "    \n",
    "    def __str__(self) -> str:\n",
    "        return \"x = {0} , y = {1}\".format(self.x, self.y)\n",
    "    \n",
    "p1 = Point(10,5)\n",
    "p2 = Point(-3,-6)\n",
    "print(p1 + p2)\n",
    "print(p1.__mid__(p2))\n",
    "p3 = p1.__mid__(p2)\n",
    "p3.getX()\n",
    "p3.getY()"
   ]
  },
  {
   "cell_type": "code",
   "execution_count": 28,
   "metadata": {},
   "outputs": [
    {
     "name": "stdout",
     "output_type": "stream",
     "text": [
      "apple\n",
      "cherry\n",
      "Blueberyy\n"
     ]
    }
   ],
   "source": [
    "#class demo 10 Fruits\n",
    "\n",
    "class Fruit():\n",
    "    def __init__(self, name, price) -> None:\n",
    "        self.name = name\n",
    "        self.price =price\n",
    "\n",
    "    def sort_priority(self):\n",
    "        return self.price\n",
    "\n",
    "L = [\n",
    "    Fruit(\"cherry\", 10),\n",
    "    Fruit(\"apple\", 4),\n",
    "    Fruit(\"Blueberyy\", 13)\n",
    "    ]\n",
    "for f in sorted(L , key = lambda x : x.sort_priority()):\n",
    "#for f in sorted(L, key=lambda x: x.price):\n",
    "#for f in sorted(L, key=Fruit.sort_priority):\n",
    "\n",
    "    print(f.name)\n"
   ]
  },
  {
   "cell_type": "code",
   "execution_count": 32,
   "metadata": {},
   "outputs": [
    {
     "name": "stdout",
     "output_type": "stream",
     "text": [
      "4\n",
      "3 *\n",
      "2\n",
      "1\n",
      "01234\n",
      "\n"
     ]
    }
   ],
   "source": [
    "#class demo 11\n",
    "\n",
    "class Point:\n",
    "    \"\"\" Point class for representing and manipulating x,y coordinates. \"\"\"\n",
    "\n",
    "    printed_rep = \"*\"\n",
    "\n",
    "    def __init__(self, initX, initY):\n",
    "\n",
    "        self.x = initX\n",
    "        self.y = initY\n",
    "\n",
    "    def graph(self):\n",
    "        rows = []\n",
    "        size = max(int(self.x), int(self.y)) + 2\n",
    "        for j in range(size-1):\n",
    "            if (j+1) == int(self.y):\n",
    "                special_row = str((j+1) % 10) + \\\n",
    "                    (\" \"*(int(self.x) - 1)) + self.printed_rep\n",
    "                rows.append(special_row)\n",
    "            else:\n",
    "                rows.append(str((j+1) % 10))\n",
    "        rows.reverse()  # put higher values of y first\n",
    "        x_axis = \"\"\n",
    "        for i in range(size):\n",
    "            x_axis += str(i % 10)\n",
    "        rows.append(x_axis)\n",
    "\n",
    "        return \"\\n\".join(rows)\n",
    "\n",
    "\n",
    "p1 = Point(2, 3)\n",
    "p2 = Point(3, 12)\n",
    "print(p1.graph())\n",
    "print()\n",
    "#print(p2.graph())"
   ]
  }
 ],
 "metadata": {
  "kernelspec": {
   "display_name": "Python 3.10.7 64-bit",
   "language": "python",
   "name": "python3"
  },
  "language_info": {
   "codemirror_mode": {
    "name": "ipython",
    "version": 3
   },
   "file_extension": ".py",
   "mimetype": "text/x-python",
   "name": "python",
   "nbconvert_exporter": "python",
   "pygments_lexer": "ipython3",
   "version": "3.10.7"
  },
  "orig_nbformat": 4,
  "vscode": {
   "interpreter": {
    "hash": "5c10da12c10fd823261dd9974e66cd700332e2c96798d888241a9fd5e55edbb8"
   }
  }
 },
 "nbformat": 4,
 "nbformat_minor": 2
}
