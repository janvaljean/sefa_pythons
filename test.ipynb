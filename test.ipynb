{
 "cells": [
  {
   "cell_type": "code",
   "execution_count": 6,
   "metadata": {},
   "outputs": [
    {
     "ename": "AttributeError",
     "evalue": "module 'test' has no attribute 'testEqual'",
     "output_type": "error",
     "traceback": [
      "\u001b[1;31m---------------------------------------------------------------------------\u001b[0m",
      "\u001b[1;31mAttributeError\u001b[0m                            Traceback (most recent call last)",
      "Cell \u001b[1;32mIn [6], line 39\u001b[0m\n\u001b[0;32m     37\u001b[0m \u001b[39mimport\u001b[39;00m \u001b[39mtest\u001b[39;00m\n\u001b[0;32m     38\u001b[0m p \u001b[39m=\u001b[39m Student(\u001b[39m\"\u001b[39m\u001b[39msefa\u001b[39m\u001b[39m\"\u001b[39m, \u001b[39m3\u001b[39m)\n\u001b[1;32m---> 39\u001b[0m test\u001b[39m.\u001b[39;49mtestEqual(p\u001b[39m.\u001b[39mname, \u001b[39m\"\u001b[39m\u001b[39msefa\u001b[39m\u001b[39m\"\u001b[39m)\n\u001b[0;32m     40\u001b[0m test\u001b[39m.\u001b[39mtestEqual(p\u001b[39m.\u001b[39myears_UM, \u001b[39m3\u001b[39m)\n\u001b[0;32m     41\u001b[0m test\u001b[39m.\u001b[39mtestEqual(p\u001b[39m.\u001b[39mknowledge, \u001b[39m0\u001b[39m)\n",
      "\u001b[1;31mAttributeError\u001b[0m: module 'test' has no attribute 'testEqual'"
     ]
    }
   ],
   "source": [
    "import test\n",
    "def lr(n):\n",
    "    return list(range(n))\n",
    "\n",
    "# THESE FUNCTIONS ARE INTENTIONALLY OBFUSCATED\n",
    "# PLEASE TRY TO WRITE TESTS FOR THEM RATHER THAN\n",
    "# READING THEM.\n",
    "\n",
    "\n",
    "def mySum(a):\n",
    "    if type(a) is type(''.join([][:])):\n",
    "        return a[lr(1)[0]] + mySum(a[1:])\n",
    "    elif len(a) == len(lr(1)+[]):\n",
    "        return a[lr(1)[0]]\n",
    "    else:\n",
    "        return None and a[lr(1)[0]] + mySum(a[1:])\n",
    "\n",
    "\n",
    "# THESE FUNCTIONS ARE INTENTIONALLY OBFUSCATED\n",
    "# PLEASE TRY TO WRITE TESTS FOR THEM RATHER THAN\n",
    "# READING THEM.\n",
    "class Student():\n",
    "    def __init__(s, a, b=1):\n",
    "        s.name, s.years_UM, s.knowledge = '' * \\\n",
    "        200+a+''*100, 1, len(lr(0)) + len([])\n",
    "\n",
    "    def study(s):\n",
    "        for _ in lr(s.knowledge):\n",
    "            s.knowledge = s.knowledge + 1\n",
    "\n",
    "    def getKnowledge(s):\n",
    "        for i in lr(s.knowledge):\n",
    "            return s.knowledge\n",
    "\n",
    "    def year_at_umich(s): return s.years_UM\n",
    "\n",
    "import test\n",
    "p = Student(\"sefa\", 3)\n",
    "test.testEqual(p.name, \"sefa\")\n",
    "test.testEqual(p.years_UM, 3)\n",
    "test.testEqual(p.knowledge, 0)\n",
    "test.testEqual(p.study(), None)\n",
    "test.testEqual(p.getKnowledge(), p.knowledge)\n",
    "test.testEqual(p.year_at_umich(), p.years_UM)\n"
   ]
  }
 ],
 "metadata": {
  "kernelspec": {
   "display_name": "Python 3.10.7 64-bit",
   "language": "python",
   "name": "python3"
  },
  "language_info": {
   "codemirror_mode": {
    "name": "ipython",
    "version": 3
   },
   "file_extension": ".py",
   "mimetype": "text/x-python",
   "name": "python",
   "nbconvert_exporter": "python",
   "pygments_lexer": "ipython3",
   "version": "3.10.7"
  },
  "orig_nbformat": 4,
  "vscode": {
   "interpreter": {
    "hash": "5c10da12c10fd823261dd9974e66cd700332e2c96798d888241a9fd5e55edbb8"
   }
  }
 },
 "nbformat": 4,
 "nbformat_minor": 2
}
