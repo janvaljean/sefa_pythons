{
 "cells": [
  {
   "cell_type": "code",
   "execution_count": 2,
   "metadata": {},
   "outputs": [
    {
     "ename": "NameError",
     "evalue": "name 's' is not defined",
     "output_type": "error",
     "traceback": [
      "\u001b[1;31m---------------------------------------------------------------------------\u001b[0m",
      "\u001b[1;31mNameError\u001b[0m                                 Traceback (most recent call last)",
      "Cell \u001b[1;32mIn [2], line 8\u001b[0m\n\u001b[0;32m      6\u001b[0m nums \u001b[39m=\u001b[39m \u001b[39mmap\u001b[39m(\u001b[39mint\u001b[39m, \u001b[39minput\u001b[39m()\u001b[39m.\u001b[39msplit(\u001b[39m\"\u001b[39m\u001b[39m \u001b[39m\u001b[39m\"\u001b[39m))\n\u001b[0;32m      7\u001b[0m target \u001b[39m=\u001b[39m \u001b[39mint\u001b[39m(\u001b[39minput\u001b[39m())\n\u001b[1;32m----> 8\u001b[0m \u001b[39msum\u001b[39m \u001b[39m=\u001b[39m s\u001b[39m.\u001b[39mtwosum(nums, target)\n",
      "\u001b[1;31mNameError\u001b[0m: name 's' is not defined"
     ]
    }
   ],
   "source": [
    "def twosum(nums, target):\n",
    "    nums = list(nums)\n",
    "    leng = len(nums)\n",
    "    return nums,leng\n",
    "\n",
    "nums = map(int, input().split(\" \"))\n",
    "target = int(input())\n",
    "sum = s.twosum(nums, target)\n"
   ]
  },
  {
   "cell_type": "code",
   "execution_count": 10,
   "metadata": {},
   "outputs": [
    {
     "name": "stdout",
     "output_type": "stream",
     "text": [
      "[0, 2, 6, 12, 20]\n"
     ]
    }
   ],
   "source": [
    "lst = [1,2,3,4,5]\n",
    "print(list(x*y for x,y in enumerate(lst) if x != lst[-1]))"
   ]
  },
  {
   "cell_type": "code",
   "execution_count": 11,
   "metadata": {},
   "outputs": [
    {
     "name": "stdout",
     "output_type": "stream",
     "text": [
      "1\n",
      "2\n",
      "3\n",
      "4\n",
      "5\n"
     ]
    }
   ],
   "source": [
    "    lst = [1,2,3,4,5]\n",
    "    a = list(enumerate(lst))\n",
    "    for x,y in a:\n",
    "        print(y)\n"
   ]
  },
  {
   "cell_type": "code",
   "execution_count": 15,
   "metadata": {},
   "outputs": [
    {
     "name": "stdout",
     "output_type": "stream",
     "text": [
      "[0, 2, 6, 12, 20]\n"
     ]
    }
   ],
   "source": [
    "    lst = [1,2,3,4,5]\n",
    "    print(list(x*y for x,y in enumerate(lst) if x != lst[-1]))"
   ]
  },
  {
   "cell_type": "code",
   "execution_count": 16,
   "metadata": {},
   "outputs": [
    {
     "name": "stdout",
     "output_type": "stream",
     "text": [
      "[0, 2, 6, 12, 20]\n"
     ]
    }
   ],
   "source": [
    "    lst = [1,2,3,4,5]\n",
    "    print(list(x*lst[y-1] for x,y in enumerate(lst) if x != lst[-1]))"
   ]
  },
  {
   "cell_type": "code",
   "execution_count": 21,
   "metadata": {},
   "outputs": [
    {
     "name": "stdout",
     "output_type": "stream",
     "text": [
      "{'name': 'name1', 'zipcode': 'zipcode1', 'id': 'id1'}\n",
      "{'name': 'name2', 'zipcode': 'zipcode2', 'id': 'id2'}\n",
      "{'name': 'name1', 'zipcode': 'zipcode3', 'id': 'id1'}\n"
     ]
    }
   ],
   "source": [
    "list1 = [{\"name\": \"name1\", \"zipcode\": \"zipcode1\", \"id\": \"id1\"}, {\"name\": \"name2\",\n",
    "                                                                 \"zipcode\": \"zipcode2\", \"id\": \"id2\"}, {\"name\": \"name1\", \"zipcode\": \"zipcode3\", \"id\": \"id1\"}]\n",
    "\n",
    "list({i[\"name\"]: i for i in list1}.values())\n",
    "my_dic ={}\n",
    "for k in list1:\n",
    "    "
   ]
  },
  {
   "cell_type": "code",
   "execution_count": 24,
   "metadata": {},
   "outputs": [
    {
     "ename": "ValueError",
     "evalue": "dictionary update sequence element #0 has length 3; 2 is required",
     "output_type": "error",
     "traceback": [
      "\u001b[1;31m---------------------------------------------------------------------------\u001b[0m",
      "\u001b[1;31mValueError\u001b[0m                                Traceback (most recent call last)",
      "Cell \u001b[1;32mIn [24], line 5\u001b[0m\n\u001b[0;32m      1\u001b[0m \u001b[39mfrom\u001b[39;00m \u001b[39mcollections\u001b[39;00m \u001b[39mimport\u001b[39;00m defaultdict\n\u001b[0;32m      3\u001b[0m list1 \u001b[39m=\u001b[39m [{\u001b[39m\"\u001b[39m\u001b[39mname\u001b[39m\u001b[39m\"\u001b[39m: \u001b[39m\"\u001b[39m\u001b[39mname1\u001b[39m\u001b[39m\"\u001b[39m, \u001b[39m\"\u001b[39m\u001b[39mzipcode\u001b[39m\u001b[39m\"\u001b[39m: \u001b[39m\"\u001b[39m\u001b[39mzipcode1\u001b[39m\u001b[39m\"\u001b[39m, \u001b[39m\"\u001b[39m\u001b[39mid\u001b[39m\u001b[39m\"\u001b[39m: \u001b[39m\"\u001b[39m\u001b[39mid1\u001b[39m\u001b[39m\"\u001b[39m}, {\u001b[39m\"\u001b[39m\u001b[39mname\u001b[39m\u001b[39m\"\u001b[39m: \u001b[39m\"\u001b[39m\u001b[39mname2\u001b[39m\u001b[39m\"\u001b[39m,\n\u001b[0;32m      4\u001b[0m                                                                 \u001b[39m\"\u001b[39m\u001b[39mzipcode\u001b[39m\u001b[39m\"\u001b[39m: \u001b[39m\"\u001b[39m\u001b[39mzipcode2\u001b[39m\u001b[39m\"\u001b[39m, \u001b[39m\"\u001b[39m\u001b[39mid\u001b[39m\u001b[39m\"\u001b[39m: \u001b[39m\"\u001b[39m\u001b[39mid2\u001b[39m\u001b[39m\"\u001b[39m}, {\u001b[39m\"\u001b[39m\u001b[39mname\u001b[39m\u001b[39m\"\u001b[39m: \u001b[39m\"\u001b[39m\u001b[39mname1\u001b[39m\u001b[39m\"\u001b[39m, \u001b[39m\"\u001b[39m\u001b[39mzipcode\u001b[39m\u001b[39m\"\u001b[39m: \u001b[39m\"\u001b[39m\u001b[39mzipcode3\u001b[39m\u001b[39m\"\u001b[39m, \u001b[39m\"\u001b[39m\u001b[39mid\u001b[39m\u001b[39m\"\u001b[39m: \u001b[39m\"\u001b[39m\u001b[39mid1\u001b[39m\u001b[39m\"\u001b[39m}]\n\u001b[1;32m----> 5\u001b[0m x \u001b[39m=\u001b[39m \u001b[39mdict\u001b[39;49m(list1)\n\u001b[0;32m      7\u001b[0m \u001b[39m# printing original list\u001b[39;00m\n\u001b[0;32m      8\u001b[0m \u001b[39m#print(\"The original list : \" + str(list1))\u001b[39;00m\n\u001b[0;32m      9\u001b[0m \n\u001b[0;32m     10\u001b[0m \u001b[39m# using defaultdict() + sorted() + values()\u001b[39;00m\n\u001b[0;32m     11\u001b[0m \u001b[39m# Grouping Anagrams\u001b[39;00m\n\u001b[0;32m     12\u001b[0m temp \u001b[39m=\u001b[39m defaultdict(\u001b[39mlist\u001b[39m)\n",
      "\u001b[1;31mValueError\u001b[0m: dictionary update sequence element #0 has length 3; 2 is required"
     ]
    }
   ],
   "source": [
    "from collections import defaultdict\n",
    "\n",
    "list1 = [{\"name\": \"name1\", \"zipcode\": \"zipcode1\", \"id\": \"id1\"}, {\"name\": \"name2\",\n",
    "                                                                \"zipcode\": \"zipcode2\", \"id\": \"id2\"}, {\"name\": \"name1\", \"zipcode\": \"zipcode3\", \"id\": \"id1\"}]\n",
    "\n",
    "\n",
    "# printing original list\n",
    "#print(\"The original list : \" + str(list1))\n",
    "\n",
    "# using defaultdict() + sorted() + values()\n",
    "# Grouping Anagrams\n",
    "temp = defaultdict(list)\n",
    "for ele in list1:\n",
    "    temp[str(sorted(ele))].append(ele)\n",
    "res = list(temp.values())\n",
    "\n",
    "# print result\n",
    "print(\"The grouped Anagrams : \" + str(res))\n"
   ]
  },
  {
   "cell_type": "code",
   "execution_count": 92,
   "metadata": {},
   "outputs": [
    {
     "name": "stdout",
     "output_type": "stream",
     "text": [
      "defaultdict(<class 'list'>, {'name': ['name1', 'name2'], 'zipcode': ['zipcode1', 'zipcode2', 'zipcode3'], 'id': ['id1', 'id2']})\n"
     ]
    }
   ],
   "source": [
    "    from collections import defaultdict\n",
    "    list1 = [{\"name\": \"name1\", \"zipcode\": \"zipcode1\", \"id\": \"id1\"}, {\"name\": \"name2\",\"zipcode\": \"zipcode2\", \"id\": \"id2\"}, {\"name\": \"name1\", \"zipcode\": \"zipcode3\", \"id\": \"id1\"}]\n",
    "    temp = defaultdict(list)\n",
    "    for i in range(len(list1)):\n",
    "        for ele in list1[i]:\n",
    "            if list1[i][ele] not in temp[ele]:\n",
    "                temp[str((ele))].append(list1[i][ele])        \n",
    "    print(temp)        \n",
    "\n",
    "    \n",
    "\n",
    "   "
   ]
  },
  {
   "cell_type": "code",
   "execution_count": 84,
   "metadata": {},
   "outputs": [
    {
     "data": {
      "text/plain": [
       "'id1'"
      ]
     },
     "execution_count": 84,
     "metadata": {},
     "output_type": "execute_result"
    }
   ],
   "source": [
    "\n"
   ]
  }
 ],
 "metadata": {
  "kernelspec": {
   "display_name": "Python 3.10.7 64-bit",
   "language": "python",
   "name": "python3"
  },
  "language_info": {
   "codemirror_mode": {
    "name": "ipython",
    "version": 3
   },
   "file_extension": ".py",
   "mimetype": "text/x-python",
   "name": "python",
   "nbconvert_exporter": "python",
   "pygments_lexer": "ipython3",
   "version": "3.10.7"
  },
  "orig_nbformat": 4,
  "vscode": {
   "interpreter": {
    "hash": "5c10da12c10fd823261dd9974e66cd700332e2c96798d888241a9fd5e55edbb8"
   }
  }
 },
 "nbformat": 4,
 "nbformat_minor": 2
}
