{
 "cells": [
  {
   "cell_type": "code",
   "execution_count": 2,
   "metadata": {},
   "outputs": [
    {
     "ename": "NameError",
     "evalue": "name 's' is not defined",
     "output_type": "error",
     "traceback": [
      "\u001b[1;31m---------------------------------------------------------------------------\u001b[0m",
      "\u001b[1;31mNameError\u001b[0m                                 Traceback (most recent call last)",
      "Cell \u001b[1;32mIn [2], line 8\u001b[0m\n\u001b[0;32m      6\u001b[0m nums \u001b[39m=\u001b[39m \u001b[39mmap\u001b[39m(\u001b[39mint\u001b[39m, \u001b[39minput\u001b[39m()\u001b[39m.\u001b[39msplit(\u001b[39m\"\u001b[39m\u001b[39m \u001b[39m\u001b[39m\"\u001b[39m))\n\u001b[0;32m      7\u001b[0m target \u001b[39m=\u001b[39m \u001b[39mint\u001b[39m(\u001b[39minput\u001b[39m())\n\u001b[1;32m----> 8\u001b[0m \u001b[39msum\u001b[39m \u001b[39m=\u001b[39m s\u001b[39m.\u001b[39mtwosum(nums, target)\n",
      "\u001b[1;31mNameError\u001b[0m: name 's' is not defined"
     ]
    }
   ],
   "source": [
    "def twosum(nums, target):\n",
    "    nums = list(nums)\n",
    "    leng = len(nums)\n",
    "    return nums,leng\n",
    "\n",
    "nums = map(int, input().split(\" \"))\n",
    "target = int(input())\n",
    "sum = s.twosum(nums, target)\n"
   ]
  },
  {
   "cell_type": "code",
   "execution_count": 10,
   "metadata": {},
   "outputs": [
    {
     "name": "stdout",
     "output_type": "stream",
     "text": [
      "[0, 2, 6, 12, 20]\n"
     ]
    }
   ],
   "source": [
    "lst = [1,2,3,4,5]\n",
    "print(list(x*y for x,y in enumerate(lst) if x != lst[-1]))"
   ]
  },
  {
   "cell_type": "code",
   "execution_count": 11,
   "metadata": {},
   "outputs": [
    {
     "name": "stdout",
     "output_type": "stream",
     "text": [
      "1\n",
      "2\n",
      "3\n",
      "4\n",
      "5\n"
     ]
    }
   ],
   "source": [
    "    lst = [1,2,3,4,5]\n",
    "    a = list(enumerate(lst))\n",
    "    for x,y in a:\n",
    "        print(y)\n"
   ]
  },
  {
   "cell_type": "code",
   "execution_count": 15,
   "metadata": {},
   "outputs": [
    {
     "name": "stdout",
     "output_type": "stream",
     "text": [
      "[0, 2, 6, 12, 20]\n"
     ]
    }
   ],
   "source": [
    "    lst = [1,2,3,4,5]\n",
    "    print(list(x*y for x,y in enumerate(lst) if x != lst[-1]))"
   ]
  },
  {
   "cell_type": "code",
   "execution_count": 16,
   "metadata": {},
   "outputs": [
    {
     "name": "stdout",
     "output_type": "stream",
     "text": [
      "[0, 2, 6, 12, 20]\n"
     ]
    }
   ],
   "source": [
    "    lst = [1,2,3,4,5]\n",
    "    print(list(x*lst[y-1] for x,y in enumerate(lst) if x != lst[-1]))"
   ]
  },
  {
   "cell_type": "code",
   "execution_count": 21,
   "metadata": {},
   "outputs": [
    {
     "name": "stdout",
     "output_type": "stream",
     "text": [
      "{'name': 'name1', 'zipcode': 'zipcode1', 'id': 'id1'}\n",
      "{'name': 'name2', 'zipcode': 'zipcode2', 'id': 'id2'}\n",
      "{'name': 'name1', 'zipcode': 'zipcode3', 'id': 'id1'}\n"
     ]
    }
   ],
   "source": [
    "list1 = [{\"name\": \"name1\", \"zipcode\": \"zipcode1\", \"id\": \"id1\"}, {\"name\": \"name2\",\n",
    "                                                                 \"zipcode\": \"zipcode2\", \"id\": \"id2\"}, {\"name\": \"name1\", \"zipcode\": \"zipcode3\", \"id\": \"id1\"}]\n",
    "\n",
    "list({i[\"name\"]: i for i in list1}.values())\n",
    "my_dic ={}\n",
    "for k in list1:\n",
    "    "
   ]
  },
  {
   "cell_type": "code",
   "execution_count": 24,
   "metadata": {},
   "outputs": [
    {
     "ename": "ValueError",
     "evalue": "dictionary update sequence element #0 has length 3; 2 is required",
     "output_type": "error",
     "traceback": [
      "\u001b[1;31m---------------------------------------------------------------------------\u001b[0m",
      "\u001b[1;31mValueError\u001b[0m                                Traceback (most recent call last)",
      "Cell \u001b[1;32mIn [24], line 5\u001b[0m\n\u001b[0;32m      1\u001b[0m \u001b[39mfrom\u001b[39;00m \u001b[39mcollections\u001b[39;00m \u001b[39mimport\u001b[39;00m defaultdict\n\u001b[0;32m      3\u001b[0m list1 \u001b[39m=\u001b[39m [{\u001b[39m\"\u001b[39m\u001b[39mname\u001b[39m\u001b[39m\"\u001b[39m: \u001b[39m\"\u001b[39m\u001b[39mname1\u001b[39m\u001b[39m\"\u001b[39m, \u001b[39m\"\u001b[39m\u001b[39mzipcode\u001b[39m\u001b[39m\"\u001b[39m: \u001b[39m\"\u001b[39m\u001b[39mzipcode1\u001b[39m\u001b[39m\"\u001b[39m, \u001b[39m\"\u001b[39m\u001b[39mid\u001b[39m\u001b[39m\"\u001b[39m: \u001b[39m\"\u001b[39m\u001b[39mid1\u001b[39m\u001b[39m\"\u001b[39m}, {\u001b[39m\"\u001b[39m\u001b[39mname\u001b[39m\u001b[39m\"\u001b[39m: \u001b[39m\"\u001b[39m\u001b[39mname2\u001b[39m\u001b[39m\"\u001b[39m,\n\u001b[0;32m      4\u001b[0m                                                                 \u001b[39m\"\u001b[39m\u001b[39mzipcode\u001b[39m\u001b[39m\"\u001b[39m: \u001b[39m\"\u001b[39m\u001b[39mzipcode2\u001b[39m\u001b[39m\"\u001b[39m, \u001b[39m\"\u001b[39m\u001b[39mid\u001b[39m\u001b[39m\"\u001b[39m: \u001b[39m\"\u001b[39m\u001b[39mid2\u001b[39m\u001b[39m\"\u001b[39m}, {\u001b[39m\"\u001b[39m\u001b[39mname\u001b[39m\u001b[39m\"\u001b[39m: \u001b[39m\"\u001b[39m\u001b[39mname1\u001b[39m\u001b[39m\"\u001b[39m, \u001b[39m\"\u001b[39m\u001b[39mzipcode\u001b[39m\u001b[39m\"\u001b[39m: \u001b[39m\"\u001b[39m\u001b[39mzipcode3\u001b[39m\u001b[39m\"\u001b[39m, \u001b[39m\"\u001b[39m\u001b[39mid\u001b[39m\u001b[39m\"\u001b[39m: \u001b[39m\"\u001b[39m\u001b[39mid1\u001b[39m\u001b[39m\"\u001b[39m}]\n\u001b[1;32m----> 5\u001b[0m x \u001b[39m=\u001b[39m \u001b[39mdict\u001b[39;49m(list1)\n\u001b[0;32m      7\u001b[0m \u001b[39m# printing original list\u001b[39;00m\n\u001b[0;32m      8\u001b[0m \u001b[39m#print(\"The original list : \" + str(list1))\u001b[39;00m\n\u001b[0;32m      9\u001b[0m \n\u001b[0;32m     10\u001b[0m \u001b[39m# using defaultdict() + sorted() + values()\u001b[39;00m\n\u001b[0;32m     11\u001b[0m \u001b[39m# Grouping Anagrams\u001b[39;00m\n\u001b[0;32m     12\u001b[0m temp \u001b[39m=\u001b[39m defaultdict(\u001b[39mlist\u001b[39m)\n",
      "\u001b[1;31mValueError\u001b[0m: dictionary update sequence element #0 has length 3; 2 is required"
     ]
    }
   ],
   "source": [
    "from collections import defaultdict\n",
    "\n",
    "list1 = [{\"name\": \"name1\", \"zipcode\": \"zipcode1\", \"id\": \"id1\"}, {\"name\": \"name2\",\n",
    "                                                                \"zipcode\": \"zipcode2\", \"id\": \"id2\"}, {\"name\": \"name1\", \"zipcode\": \"zipcode3\", \"id\": \"id1\"}]\n",
    "\n",
    "\n",
    "# printing original list\n",
    "#print(\"The original list : \" + str(list1))\n",
    "\n",
    "# using defaultdict() + sorted() + values()\n",
    "# Grouping Anagrams\n",
    "temp = defaultdict(list)\n",
    "for ele in list1:\n",
    "    temp[str(sorted(ele))].append(ele)\n",
    "res = list(temp.values())\n",
    "\n",
    "# print result\n",
    "print(\"The grouped Anagrams : \" + str(res))\n"
   ]
  },
  {
   "cell_type": "code",
   "execution_count": 1,
   "metadata": {},
   "outputs": [
    {
     "name": "stdout",
     "output_type": "stream",
     "text": [
      "defaultdict(<class 'list'>, {'name': ['name1', 'name2'], 'zipcode': ['zipcode1', 'zipcode2', 'zipcode3'], 'id': ['id1', 'id2']})\n"
     ]
    }
   ],
   "source": [
    "from collections import defaultdict\n",
    "list1 = [{\"name\": \"name1\", \"zipcode\": \"zipcode1\", \"id\": \"id1\"}, {\"name\": \"name2\",\"zipcode\": \"zipcode2\", \"id\": \"id2\"}, {\"name\": \"name1\", \"zipcode\": \"zipcode3\", \"id\": \"id1\"}]\n",
    "temp = defaultdict(list)\n",
    "for i in range(len(list1)):\n",
    "    for ele in list1[i]:\n",
    "        if list1[i][ele] not in temp[ele]:\n",
    "            temp[str((ele))].append(list1[i][ele])        \n",
    "print(temp)        \n",
    "\n",
    "    \n",
    "\n",
    "   "
   ]
  },
  {
   "cell_type": "code",
   "execution_count": 36,
   "metadata": {},
   "outputs": [
    {
     "data": {
      "text/plain": [
       "{0.0005: 11.0, 0.01: 28.6, 0.0105: 21.8}"
      ]
     },
     "execution_count": 36,
     "metadata": {},
     "output_type": "execute_result"
    }
   ],
   "source": [
    "#My goal is to exclude my own orders from the order book.\n",
    "# The result should look like:\n",
    "#SortedDict({0.0005: 11.0, 0.01: 28.6, 0.0105: 21.8, 0.012: 20})\n",
    "#stackoverflow solution\n",
    "bids = {0.0005: 11.0, 0.006: 10.0, 0.01: 28.6, 0.0105: 21.8, 0.012: 25.1}\n",
    "own_bids = [{0.006: 10.0}, {0.012: 5.1}]\n",
    "my_dic = bids.copy()\n",
    "for ele in own_bids:\n",
    "    for k,v in bids.items():    \n",
    "       if k in ele:\n",
    "            my_dic.pop(k)\n",
    "dict(sorted(my_dic.items()))"
   ]
  },
  {
   "cell_type": "code",
   "execution_count": 37,
   "metadata": {},
   "outputs": [
    {
     "name": "stdout",
     "output_type": "stream",
     "text": [
      "{0.0005: 11.0, 0.01: 28.6, 0.0105: 21.8, 0.012: 20.0}\n"
     ]
    }
   ],
   "source": [
    "#My goal is to exclude my own orders from the order book.\n",
    "# The result should look like:\n",
    "#SortedDict({0.0005: 11.0, 0.01: 28.6, 0.0105: 21.8, 0.012: 20})\n",
    "#stackoverflow solution\n",
    "from collections import Counter\n",
    "\n",
    "bids = {0.0005: 11.0, 0.006: 10.0, 0.01: 28.6, 0.0105: 21.8, 0.012: 25.1}\n",
    "own_bids = {0.006: 10.0, 0.012: 5.1}\n",
    "sumWithZero = dict(Counter(bids) - Counter(own_bids))\n",
    "print(sumWithZero)\n"
   ]
  },
  {
   "cell_type": "code",
   "execution_count": 6,
   "metadata": {},
   "outputs": [
    {
     "data": {
      "text/plain": [
       "['a', 'b', 'c', 'd']"
      ]
     },
     "execution_count": 6,
     "metadata": {},
     "output_type": "execute_result"
    }
   ],
   "source": [
    "alph = [\"a\", \"b\", \"c\", \"d\"]\n",
    "sorted(alph)\n"
   ]
  },
  {
   "cell_type": "code",
   "execution_count": 4,
   "metadata": {},
   "outputs": [
    {
     "ename": "TypeError",
     "evalue": "tuple indices must be integers or slices, not str",
     "output_type": "error",
     "traceback": [
      "\u001b[1;31m---------------------------------------------------------------------------\u001b[0m",
      "\u001b[1;31mTypeError\u001b[0m                                 Traceback (most recent call last)",
      "Cell \u001b[1;32mIn [4], line 7\u001b[0m\n\u001b[0;32m      5\u001b[0m     \u001b[39mreturn\u001b[39;00m price\n\u001b[0;32m      6\u001b[0m data \u001b[39m=\u001b[39m [\u001b[39m\"\u001b[39m\u001b[39msefa\u001b[39m\u001b[39m\"\u001b[39m,\u001b[39m\"\u001b[39m\u001b[39mmeryem\u001b[39m\u001b[39m\"\u001b[39m,\u001b[39m\"\u001b[39m\u001b[39mesra\u001b[39m\u001b[39m\"\u001b[39m]\n\u001b[1;32m----> 7\u001b[0m pricing(data)\n",
      "Cell \u001b[1;32mIn [4], line 4\u001b[0m, in \u001b[0;36mpricing\u001b[1;34m(*data)\u001b[0m\n\u001b[0;32m      2\u001b[0m \u001b[39mdef\u001b[39;00m \u001b[39mpricing\u001b[39m(\u001b[39m*\u001b[39mdata):\n\u001b[0;32m      3\u001b[0m     \u001b[39mfor\u001b[39;00m  i \u001b[39min\u001b[39;00m \u001b[39menumerate\u001b[39m(data):\n\u001b[1;32m----> 4\u001b[0m         price \u001b[39m=\u001b[39m i[\u001b[39m'\u001b[39;49m\u001b[39mfunctions\u001b[39;49m\u001b[39m'\u001b[39;49m][\u001b[39m'\u001b[39m\u001b[39mprice\u001b[39m\u001b[39m'\u001b[39m]\n\u001b[0;32m      5\u001b[0m     \u001b[39mreturn\u001b[39;00m price\n",
      "\u001b[1;31mTypeError\u001b[0m: tuple indices must be integers or slices, not str"
     ]
    }
   ],
   "source": [
    "#I have a python list with dicts from where I pull the price variable such as:\n",
    "def pricing(*data):\n",
    "    for  index,i in enumerate(data):\n",
    "        price = i['functions']['price']\n",
    "    return price\n",
    "data = [\"sefa\",\"meryem\",\"esra\"]\n",
    "pricing(data)\n"
   ]
  },
  {
   "cell_type": "code",
   "execution_count": 6,
   "metadata": {},
   "outputs": [
    {
     "data": {
      "text/plain": [
       "[(0, 'sefa'), (1, 'meryem'), (2, 'esra')]"
      ]
     },
     "execution_count": 6,
     "metadata": {},
     "output_type": "execute_result"
    }
   ],
   "source": [
    "data = [\"sefa\",\"meryem\",\"esra\"]\n",
    "list(enumerate(data))\n"
   ]
  },
  {
   "cell_type": "code",
   "execution_count": 18,
   "metadata": {},
   "outputs": [
    {
     "name": "stdout",
     "output_type": "stream",
     "text": [
      "['0', '010', '020', '040']\n"
     ]
    }
   ],
   "source": [
    "data =[1,2,4,\"\"]\n",
    "data =sorted(data,key=lambda k: str(k))\n",
    "data = list(map(lambda x: x.replace(\"\",\"0\"),data))\n",
    "print(data)"
   ]
  },
  {
   "cell_type": "code",
   "execution_count": 59,
   "metadata": {},
   "outputs": [
    {
     "ename": "TypeError",
     "evalue": "list indices must be integers or slices, not str",
     "output_type": "error",
     "traceback": [
      "\u001b[1;31m---------------------------------------------------------------------------\u001b[0m",
      "\u001b[1;31mTypeError\u001b[0m                                 Traceback (most recent call last)",
      "Cell \u001b[1;32mIn [59], line 4\u001b[0m\n\u001b[0;32m      2\u001b[0m \u001b[39mfor\u001b[39;00m x \u001b[39min\u001b[39;00m data:\n\u001b[0;32m      3\u001b[0m     \u001b[39mif\u001b[39;00m x \u001b[39m==\u001b[39m \u001b[39m\"\u001b[39m\u001b[39m\"\u001b[39m:\n\u001b[1;32m----> 4\u001b[0m         data[x] \u001b[39m=\u001b[39m (x\u001b[39m.\u001b[39mreplace(\u001b[39m\"\u001b[39m\u001b[39m\"\u001b[39m, \u001b[39m\"\u001b[39m\u001b[39m0\u001b[39m\u001b[39m\"\u001b[39m))\n\u001b[0;32m      5\u001b[0m \u001b[39mprint\u001b[39m(data)\n",
      "\u001b[1;31mTypeError\u001b[0m: list indices must be integers or slices, not str"
     ]
    }
   ],
   "source": [
    "data =[1,2,4,\"\"]\n",
    "for x in data:\n",
    "    if x == \"\":\n",
    "        data[x] = (x.replace(\"\", \"0\"))\n",
    "print(data)\n",
    "\n",
    "    "
   ]
  },
  {
   "cell_type": "code",
   "execution_count": 33,
   "metadata": {},
   "outputs": [
    {
     "ename": "TypeError",
     "evalue": "argument of type 'int' is not iterable",
     "output_type": "error",
     "traceback": [
      "\u001b[1;31m---------------------------------------------------------------------------\u001b[0m",
      "\u001b[1;31mTypeError\u001b[0m                                 Traceback (most recent call last)",
      "Cell \u001b[1;32mIn [33], line 3\u001b[0m\n\u001b[0;32m      1\u001b[0m data \u001b[39m=\u001b[39m [\u001b[39m1\u001b[39m, \u001b[39m2\u001b[39m, \u001b[39m4\u001b[39m,\u001b[39m\"\u001b[39m\u001b[39m\"\u001b[39m]\n\u001b[0;32m      2\u001b[0m \u001b[39mfor\u001b[39;00m idx, item \u001b[39min\u001b[39;00m \u001b[39menumerate\u001b[39m(data):\n\u001b[1;32m----> 3\u001b[0m    \u001b[39mif\u001b[39;00m \u001b[39m\"\u001b[39;49m\u001b[39m\"\u001b[39;49m \u001b[39min\u001b[39;49;00m item:\n\u001b[0;32m      4\u001b[0m        data[idx] \u001b[39m=\u001b[39m \u001b[39m0\u001b[39m\n",
      "\u001b[1;31mTypeError\u001b[0m: argument of type 'int' is not iterable"
     ]
    }
   ],
   "source": [
    "\n",
    "data = [1, 2, 4,\"\"]\n",
    "for idx, item in enumerate(data):\n",
    "   if \"\" in item:\n",
    "       data[idx] = 0\n"
   ]
  },
  {
   "cell_type": "code",
   "execution_count": 38,
   "metadata": {},
   "outputs": [
    {
     "name": "stdout",
     "output_type": "stream",
     "text": [
      "[1, 2, 4, 0, 0]\n"
     ]
    }
   ],
   "source": [
    "\n",
    "data = [1, 2, 4, \"\",\"\"]\n",
    "for i, item in enumerate(data):\n",
    "    if item == \"\":\n",
    "        data[i] = 0\n",
    "        \n",
    "\n",
    "print(data)\n"
   ]
  },
  {
   "cell_type": "code",
   "execution_count": 58,
   "metadata": {},
   "outputs": [
    {
     "name": "stdout",
     "output_type": "stream",
     "text": [
      "5  :  2\n",
      "0  :  2\n",
      "16  :  4\n",
      "12  :  1\n",
      "3  :  2\n",
      "14  :  2\n",
      "19  :  1\n",
      "9  :  3\n",
      "17  :  2\n",
      "8  :  1\n"
     ]
    }
   ],
   "source": [
    "import random\n",
    "from collections import Counter\n",
    "lst = []\n",
    "while len(lst) < 20:\n",
    "    lst.append(random.randrange(20))\n",
    "lst = Counter(lst)\n",
    "for k,v in lst.items():\n",
    "    print(k,\" : \",v)"
   ]
  },
  {
   "cell_type": "code",
   "execution_count": 9,
   "metadata": {},
   "outputs": [
    {
     "name": "stdout",
     "output_type": "stream",
     "text": [
      "Name,Sex,Age,Team,Event,Medal\n",
      "A Dijiang,M,24,China,Basketball,NA\n",
      "A Lamusi,M,23,China,Judo,NA\n",
      "Gunnar Nielsen Aaby,M,24,Denmark,Football,NA\n",
      "Edgar Lindenau Aabye,M,34,Denmark/Sweden,Tug-Of-War,Gold\n",
      "Christine Jacoba Aaftink,F,21,Netherlands,Speed Skating,NA\n",
      "Christine Jacoba Aaftink,F,21,Netherlands,Speed Skating,NA\n",
      "Christine Jacoba Aaftink,F,25,Netherlands,Speed Skating,NA\n",
      "Christine Jacoba Aaftink,F,25,Netherlands,Speed Skating,NA\n",
      "Christine Jacoba Aaftink,F,27,Netherlands,Speed Skating,NA\n",
      "Christine Jacoba Aaftink,F,27,Netherlands,Speed Skating,NA\n",
      "Per Knut Aaland,M,31,United States,Cross Country Skiing,NA\n",
      "Per Knut Aaland,M,31,United States,Cross Country Skiing,NA\n",
      "Per Knut Aaland,M,31,United States,Cross Country Skiing,NA\n",
      "Per Knut Aaland,M,31,United States,Cross Country Skiing,NA\n",
      "Per Knut Aaland,M,33,United States,Cross Country Skiing,NA\n",
      "Per Knut Aaland,M,33,United States,Cross Country Skiing,NA\n",
      "Per Knut Aaland,M,33,United States,Cross Country Skiing,NA\n",
      "Per Knut Aaland,M,33,United States,Cross Country Skiing,NA\n",
      "John Aalberg,M,31,United States,Cross Country Skiing,NA\n",
      "John Aalberg,M,31,United States,Cross Country Skiing,NA\n",
      "John Aalberg,M,31,United States,Cross Country Skiing,NA\n",
      "John Aalberg,M,31,United States,Cross Country Skiing,NA\n",
      "John Aalberg,M,33,United States,Cross Country Skiing,NA\n",
      "John Aalberg,M,33,United States,Cross Country Skiing,NA\n",
      "John Aalberg,M,33,United States,Cross Country Skiing,NA\n",
      "John Aalberg,M,33,United States,Cross Country Skiing,NA\n",
      "\"Cornelia \"\"Cor\"\" Aalten (-Strannood)\",F,18,Netherlands,Athletics,NA\n",
      "\"Cornelia \"\"Cor\"\" Aalten (-Strannood)\",F,18,Netherlands,Athletics,NA\n",
      "Antti Sami Aalto,M,26,Finland,Ice Hockey,NA\n",
      "\"Einar Ferdinand \"\"Einari\"\" Aalto\",M,26,Finland,Swimming,NA\n",
      "Jorma Ilmari Aalto,M,22,Finland,Cross Country Skiing,NA\n",
      "Jyri Tapani Aalto,M,31,Finland,Badminton,NA\n",
      "Minna Maarit Aalto,F,30,Finland,Sailing,NA\n",
      "Minna Maarit Aalto,F,34,Finland,Sailing,NA\n",
      "Pirjo Hannele Aalto (Mattila-),F,32,Finland,Biathlon,NA\n",
      "Arvo Ossian Aaltonen,M,22,Finland,Swimming,NA\n",
      "Arvo Ossian Aaltonen,M,22,Finland,Swimming,NA\n",
      "Arvo Ossian Aaltonen,M,30,Finland,Swimming,Bronze\n",
      "Arvo Ossian Aaltonen,M,30,Finland,Swimming,Bronze\n",
      "Arvo Ossian Aaltonen,M,34,Finland,Swimming,NA\n",
      "Juhamatti Tapio Aaltonen,M,28,Finland,Ice Hockey,Bronze\n",
      "Paavo Johannes Aaltonen,M,28,Finland,Gymnastics,Bronze\n",
      "Paavo Johannes Aaltonen,M,28,Finland,Gymnastics,Gold\n",
      "Paavo Johannes Aaltonen,M,28,Finland,Gymnastics,NA\n",
      "Paavo Johannes Aaltonen,M,28,Finland,Gymnastics,Gold\n",
      "Paavo Johannes Aaltonen,M,28,Finland,Gymnastics,NA\n",
      "Paavo Johannes Aaltonen,M,28,Finland,Gymnastics,NA\n",
      "Paavo Johannes Aaltonen,M,28,Finland,Gymnastics,NA\n",
      "Paavo Johannes Aaltonen,M,28,Finland,Gymnastics,Gold\n",
      "Paavo Johannes Aaltonen,M,32,Finland,Gymnastics,NA\n",
      "Paavo Johannes Aaltonen,M,32,Finland,Gymnastics,Bronze\n",
      "Paavo Johannes Aaltonen,M,32,Finland,Gymnastics,NA\n",
      "Paavo Johannes Aaltonen,M,32,Finland,Gymnastics,NA\n",
      "Paavo Johannes Aaltonen,M,32,Finland,Gymnastics,NA\n",
      "Paavo Johannes Aaltonen,M,32,Finland,Gymnastics,NA\n",
      "Paavo Johannes Aaltonen,M,32,Finland,Gymnastics,NA\n",
      "Paavo Johannes Aaltonen,M,32,Finland,Gymnastics,NA\n",
      "Timo Antero Aaltonen,M,31,Finland,Athletics,NA\n",
      "Win Valdemar Aaltonen,M,54,Finland,Art Competitions,NA\n",
      "word not found\n"
     ]
    }
   ],
   "source": [
    "\n",
    "def load_lexicon():\n",
    "\n",
    "    with open(\"olympics.txt\", \"r\") as f:\n",
    "        content_list = f.read().splitlines()\n",
    "        #print(content_list)\n",
    "\n",
    "    lexique = open(\"olympics.txt\", \"r\")\n",
    "\n",
    "    liste_des_mots = []\n",
    "\n",
    "    for i in lexique:\n",
    "        ligne = i.strip()\n",
    "        print(ligne)\n",
    "        liste = ligne.split()\n",
    "        #print(liste)\n",
    "        liste_des_mots.append(liste)\n",
    "\n",
    "    return liste_des_mots\n",
    "\n",
    "\n",
    "def check_word():\n",
    "    search_word = input(\"enter the word you want to search for: \")\n",
    "    if search_word in load_lexicon():\n",
    "        print('word found')\n",
    "    else:\n",
    "        print('word not found')\n",
    "check_word()"
   ]
  },
  {
   "cell_type": "code",
   "execution_count": 49,
   "metadata": {},
   "outputs": [
    {
     "name": "stdout",
     "output_type": "stream",
     "text": [
      "word not found\n"
     ]
    }
   ],
   "source": [
    "def load_lexicon():\n",
    "\n",
    "    with open(\"olympics.txt\", \"r\") as f:\n",
    "        content_list = f.read().splitlines()\n",
    "    global liste_des_mots\n",
    "    liste_des_mots = []\n",
    "\n",
    "    lexique = open(\"olympics.txt\", \"r\")\n",
    "\n",
    "    for i in lexique:     \n",
    "        ligne = i.strip()\n",
    "        #print(ligne)\n",
    "        liste = ligne.split()    \n",
    "        liste_des_mots.append(liste)    \n",
    "    return liste_des_mots\n",
    "\n",
    "#print(liste_des_mots)    \n",
    "count =len(liste_des_mots)\n",
    "\n",
    "\n",
    "def check_word():\n",
    "    search_word = input(\"enter the word you want to search for: \")\n",
    "    for i in range(count):\n",
    "        #print(liste_des_mots[i])\n",
    "        if search_word in liste_des_mots[i]:      \n",
    "            print('word found')\n",
    "            break\n",
    "    else:   \n",
    "        print('word not found')\n",
    "                \n",
    "check_word()\n"
   ]
  },
  {
   "cell_type": "code",
   "execution_count": null,
   "metadata": {},
   "outputs": [],
   "source": []
  }
 ],
 "metadata": {
  "kernelspec": {
   "display_name": "Python 3.10.7 64-bit",
   "language": "python",
   "name": "python3"
  },
  "language_info": {
   "codemirror_mode": {
    "name": "ipython",
    "version": 3
   },
   "file_extension": ".py",
   "mimetype": "text/x-python",
   "name": "python",
   "nbconvert_exporter": "python",
   "pygments_lexer": "ipython3",
   "version": "3.10.7"
  },
  "orig_nbformat": 4,
  "vscode": {
   "interpreter": {
    "hash": "5c10da12c10fd823261dd9974e66cd700332e2c96798d888241a9fd5e55edbb8"
   }
  }
 },
 "nbformat": 4,
 "nbformat_minor": 2
}
