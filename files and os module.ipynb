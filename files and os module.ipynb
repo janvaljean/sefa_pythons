{
 "cells": [
  {
   "cell_type": "code",
   "execution_count": 1,
   "metadata": {},
   "outputs": [
    {
     "data": {
      "text/plain": [
       "'c:\\\\Users\\\\sfkrt\\\\Documents\\\\GitHub\\\\sefa_pythons'"
      ]
     },
     "execution_count": 1,
     "metadata": {},
     "output_type": "execute_result"
    }
   ],
   "source": [
    "import os\n",
    "os.getcwd()\n"
   ]
  },
  {
   "cell_type": "code",
   "execution_count": 3,
   "metadata": {},
   "outputs": [
    {
     "name": "stdout",
     "output_type": "stream",
     "text": [
      "file wasnt found\n"
     ]
    }
   ],
   "source": [
    "#file demo1\n",
    "try:\n",
    "    my_file = open(\"merhabe.txt\")\n",
    "    print(type(my_file))\n",
    "except:\n",
    "    print(\"file wasnt found\")"
   ]
  },
  {
   "cell_type": "code",
   "execution_count": 20,
   "metadata": {},
   "outputs": [
    {
     "name": "stdout",
     "output_type": "stream",
     "text": [
      "<class '_io.TextIOWrapper'>\n",
      "Orca is a kind of Dolphin.\n",
      "Blue W\n"
     ]
    }
   ],
   "source": [
    "#file demo 3 open --> first 33 char\n",
    "try:\n",
    "    my_file = open(\"hello.txt\")\n",
    "    print(type(my_file))\n",
    "except:\n",
    "    print(\"file wasnt found\")\n",
    "print(my_file.read(33))\n",
    "my_file.close()"
   ]
  },
  {
   "cell_type": "code",
   "execution_count": 22,
   "metadata": {},
   "outputs": [
    {
     "name": "stdout",
     "output_type": "stream",
     "text": [
      "<class '_io.TextIOWrapper'>\n",
      "Orca is a kind of Dolphin.\n",
      "Blue W\n",
      "Orca is a kind of Dolphin.\n",
      "Blue W\n"
     ]
    }
   ],
   "source": [
    "#file demo seek method\n",
    "try:\n",
    "    my_file = open(\"hello.txt\")\n",
    "    print(type(my_file))\n",
    "except:\n",
    "    print(\"file wasnt found\")\n",
    "print(my_file.read(33))\n",
    "my_file.seek(0)\n",
    "print(my_file.read(33))\n",
    "my_file.close()\n"
   ]
  },
  {
   "cell_type": "code",
   "execution_count": 23,
   "metadata": {},
   "outputs": [
    {
     "name": "stdout",
     "output_type": "stream",
     "text": [
      "<class '_io.TextIOWrapper'>\n",
      "Orca is a kind of Dolphin.\n",
      "Blue W\n",
      "hale is the largest animal known \n"
     ]
    }
   ],
   "source": [
    "#file demo read method\n",
    "try:\n",
    "    my_file = open(\"hello.txt\")\n",
    "    print(type(my_file))\n",
    "except:\n",
    "    print(\"file wasnt found\")\n",
    "print(my_file.read(33))\n",
    "print(my_file.read(33))\n",
    "my_file.close()\n"
   ]
  },
  {
   "cell_type": "code",
   "execution_count": 27,
   "metadata": {},
   "outputs": [
    {
     "name": "stdout",
     "output_type": "stream",
     "text": [
      "0\n",
      "Orca is a kind of Dolphin.\n",
      "Blue W\n",
      "34\n",
      "hale is the largest animal known \n"
     ]
    }
   ],
   "source": [
    "# file demo tell method index number\n",
    "try:\n",
    "    my_file = open(\"hello.txt\")\n",
    "    print(my_file.tell())\n",
    "except:\n",
    "    print(\"file wasnt found\")\n",
    "print(my_file.read(33))\n",
    "print(my_file.tell())\n",
    "print(my_file.read(33))\n",
    "my_file.close()\n"
   ]
  },
  {
   "cell_type": "code",
   "execution_count": 30,
   "metadata": {},
   "outputs": [
    {
     "name": "stdout",
     "output_type": "stream",
     "text": [
      "0\n",
      "I want to sing.\n",
      "Like the birds si\n",
      "34\n",
      "0\n",
      "0\n"
     ]
    }
   ],
   "source": [
    "#file demo complete\n",
    "try:\n",
    "    my_file = open(\"rumi.txt\")\n",
    "    print(my_file.tell())\n",
    "except:\n",
    "    print(\"file wasnt found\")\n",
    "print(my_file.read(33))\n",
    "print(my_file.tell()) # index number\n",
    "print(my_file.seek(0)) #  index number is changed 0 like default ix number\n",
    "print(my_file.tell()) # index number again 0\n",
    "my_file.close()\n"
   ]
  },
  {
   "cell_type": "code",
   "execution_count": 52,
   "metadata": {},
   "outputs": [
    {
     "name": "stdout",
     "output_type": "stream",
     "text": [
      "['I want to sing.', 'Like the birds sing,']\n"
     ]
    }
   ],
   "source": [
    "#file demo readlines\n",
    "my_file = open(\"rumi.txt\")\n",
    "lines = my_file.readlines()\n",
    "txt2 = [x.strip() for x in lines[:2]]\n",
    "print(txt2)\n",
    "my_file.close()\n"
   ]
  },
  {
   "cell_type": "code",
   "execution_count": 19,
   "metadata": {},
   "outputs": [
    {
     "name": "stdout",
     "output_type": "stream",
     "text": [
      "Orca is a kin\n",
      "d of Dolphin.\n",
      "\n",
      "\n",
      "Blue Whale is\n"
     ]
    }
   ],
   "source": [
    "#readline demo\n",
    "with open(\"fishes.txt\", \"r\") as f:\n",
    "    print(type(f.readline()))\n",
    "    print(f.readline())\n",
    "    print(f.readline())\n",
    "    print(type(f.read()))\n",
    "    print(f.read(16))\n"
   ]
  },
  {
   "cell_type": "code",
   "execution_count": 23,
   "metadata": {},
   "outputs": [
    {
     "name": "stdout",
     "output_type": "stream",
     "text": [
      "0\n"
     ]
    }
   ],
   "source": [
    "#tell demo\n",
    "with open(\"fishes.txt\", \"r\") as f:\n",
    "    print(f.tell()) # index number\n"
   ]
  },
  {
   "cell_type": "code",
   "execution_count": 24,
   "metadata": {},
   "outputs": [
    {
     "name": "stdout",
     "output_type": "stream",
     "text": [
      "Orca is a kin\n",
      "d of Dolphin.\n",
      "\n",
      "\n",
      "Blue Whale is\n"
     ]
    }
   ],
   "source": [
    "with open(\"fishes.txt\", \"r\") as f:\n",
    "    print(f.readline(13))\n",
    "    print(f.readline(13))\n",
    "    print(f.readline(13))\n",
    "    print(f.readline(13))\n",
    "    # print(f.read(16))\n"
   ]
  },
  {
   "cell_type": "code",
   "execution_count": 27,
   "metadata": {},
   "outputs": [
    {
     "name": "stdout",
     "output_type": "stream",
     "text": [
      "I want to sing.\n",
      "\n",
      "['Like the birds sing,\\n', 'Not worrying about\\n', 'Who hears or\\n', 'What they think']\n",
      "\n"
     ]
    }
   ],
   "source": [
    "#with pen demo\n",
    "try:\n",
    "    with open(\"rumi.txt\", \"r\") as f:\n",
    "        print(f.readline())\n",
    "        print(f.readlines())\n",
    "        print(f.readline(13))\n",
    "except:\n",
    "    print(\"unfortunately you have no file named rumi\")"
   ]
  },
  {
   "cell_type": "code",
   "execution_count": 29,
   "metadata": {},
   "outputs": [
    {
     "name": "stdout",
     "output_type": "stream",
     "text": [
      "['I want to sing.\\n', 'Like the birds sing,\\n', 'Not worrying about\\n', 'Who hears or\\n', 'What they think']\n"
     ]
    }
   ],
   "source": [
    "#readlines demo\n",
    "try:\n",
    "    with open(\"rumi.txt\", \"r\") as f:\n",
    "        print(f.readlines())\n",
    "except:\n",
    "    print(\"unfortunately you have no file named rumi\")\n"
   ]
  },
  {
   "cell_type": "code",
   "execution_count": 30,
   "metadata": {},
   "outputs": [
    {
     "name": "stdout",
     "output_type": "stream",
     "text": [
      "I want to sing.\n",
      "Like the birds sing,\n",
      "Not worrying about\n",
      "Who hears or\n",
      "What they think"
     ]
    }
   ],
   "source": [
    "try:\n",
    "    with open(\"rumi.txt\", \"r\") as f:\n",
    "        for l in f.readlines():\n",
    "            print(l, end=\"\")#bosluklari kaldirmak icin end i kullandik\n",
    "except:\n",
    "    print(\"unfortunately you have no file named rumi\")\n"
   ]
  },
  {
   "cell_type": "code",
   "execution_count": 31,
   "metadata": {},
   "outputs": [
    {
     "name": "stdout",
     "output_type": "stream",
     "text": [
      "I want to sing.\n",
      "Like the birds sing,\n",
      "Not worrying about\n",
      "Who hears or\n",
      "What they think"
     ]
    }
   ],
   "source": [
    "try:\n",
    "    with open(\"rumi.txt\", \"r\") as f:\n",
    "        for l in f:\n",
    "            print(l, end=\"\")  # bosluklari kaldirmak icin end i kullandik\n",
    "except:\n",
    "    print(\"unfortunately you have no file named rumi\")\n"
   ]
  },
  {
   "cell_type": "code",
   "execution_count": 44,
   "metadata": {},
   "outputs": [
    {
     "name": "stdout",
     "output_type": "stream",
     "text": [
      "Counter({'a': 46, 'you': 40, 'to': 31, 'the': 31, 'And': 29, 'and': 25, 'of': 24, 'it': 23, 'that': 22, 'can': 21, 'is': 19, 'so': 17, 'then': 17, 'in': 17, 'this': 16, \"it's\": 12, 'I': 11, 'have': 10, 'So': 9, \"there's\": 8, 'going': 7, 'if': 7, 'what': 7, 'we': 7, 'Now,': 6, 'using': 6, 'like': 6, 'but': 6, 'just': 6, 'database': 6, 'dot': 6, 'SQL': 6, 'be': 6, \"we're\": 5, 'at': 5, \"you've\": 5, \"you're\": 5, 'all': 5, 'one': 5, 'not': 5, 'says': 5, 'are': 5, 'CREATE': 5, 'You': 5, 'table': 5, 'these': 5, 'put': 5, 'how': 5, 'or': 5, 'little': 4, 'got': 4, 'do': 4, 'your': 4, 'something': 4, 'command': 4, 'on': 4, 'very': 4, 'type': 4, 'up': 4, 'than': 4, '128': 4, \"that's\": 4, 'could': 4, 'lot': 4, 'they': 4, 'in.': 3, 'key': 3, 'go': 3, 'as': 3, 'get': 3, 'called': 3, 'does': 3, 'tables': 3, 'tables.': 3, 'some': 3, 'statement.': 3, 'say': 3, 'name,': 3, 'an': 3, 'means': 3, 'string': 3, 'for': 3, 'contract': 3, 'like,': 3, 'store': 3, 'data': 3, 'We': 3, 'SQLite': 3, 'schema': 3, 'statement,': 3, 'into': 3, 'SQL,': 3, 'easy': 3, 'INSERT': 3, 'actually': 2, 'with': 2, 'SQL.': 2, \"I'm\": 2, 'thing': 2, 'way': 2, 'If': 2, 'PythonAnywhere,': 2, 'doing': 2, 'use': 2, 'commands': 2, 'run': 2, \"don't\": 2, 'know': 2, 'them': 2, 'working': 2, 'any': 2, 'Linux': 2, 'also': 2, 'simple': 2, 'because': 2, 'its': 2, 'What': 2, 'people': 2, 'But': 2, 'end': 2, 'sqlite': 2, 'database,': 2, 'case': 2, 'there': 2, 'create': 2, 'our': 2, 'about': 2, 'different': 2, 'other': 2, 'things': 2, 'right?': 2, 'columns': 2, 'putting': 2, 'VARCHAR': 2, 'by': 2, 'sort': 2, 'when': 2, \"can't\": 2, '128.': 2, '129,': 2, '\"Well,': 2, 'is,': 2, 'might': 2, 'make': 2, 'see': 2, 'say,': 2, 'says,': 2, 'Users.\"': 2, 'statement': 2, 'would': 2, 'stores': 2, 'file': 2, 'table.': 2, 'basics': 2, 'INTO,': 2, 'was': 2, 'want': 2, 'columns.': 2, 'kinds': 2, 'number': 2, 'field,': 2, 'bad,': 2, 'DELETE': 2, 'WHERE': 2, 'now': 1, 'play': 1, 'bit': 1, 'Structured': 1, 'Query': 1, 'Language,': 1, 'URL': 1, 'grab': 1, 'instructions': 1, 'cut': 1, 'paste': 1, 'find': 1, 'shell.': 1, 'ahead': 1, 'open': 1, 'line.': 1, 'Now': 1, 'most': 1, 'running': 1, 'Django': 1, 'applications,': 1, 'really': 1, 'PythonAnywhere': 1, 'Unix': 1, 'platform.': 1, 'dollar': 1, 'sign': 1, 'prompt.': 1, 'These': 1, 'Mac,': 1, 'Windows,': 1, 'system,': 1, 'PythonAnywhere.': 1, 'sqlite3,': 1, 'give': 1, 'filename.': 1, 'SQLite,': 1, 'mentioned,': 1, 'work': 1, 'file.': 1, \"It's\": 1, 'slouch': 1, 'terms': 1, 'performance': 1, 'scalability.': 1, 'good': 1, 'handling': 1, 'hundreds': 1, 'hitting': 1, 'same': 1, 'time': 1, 'having': 1, 'software': 1, 'resolve': 1, 'those': 1, 'simultaneous': 1, 'accesses.': 1, 'sqlite,': 1, 'line': 1, 'where': 1, 'prompt': 1, 'arrow.': 1, 'type,': 1, 'hey,': 1, 'which': 1, 'zip.sqlite3,': 1, 'exist?': 1, 'no': 1, 'first': 1, \"you'll\": 1, 'learn': 1, 'looks': 1, 'programming': 1, 'languages.': 1, 'TABLE.': 1, \"That's\": 1, 'name.': 1, 'parentheses,': 1, 'series': 1, 'statements': 1, 'with.': 1, 'language,': 1, 'name': 1, 'column.': 1, 'three': 1, 'in,': 1, 'id,': 1, 'email.': 1, 'type.': 1, 'This': 1, 'integer.': 1, 'variable': 1, 'length': 1, 'field.': 1, 'NOT': 1, 'NULL': 1, 'required.': 1, 'PRIMARY': 1, 'KEY': 1, 'auto-increment,': 1, 'meaning': 1, 'supplied': 1, 'database.': 1, 'It': 1, 'gives': 1, 'us': 1, 'handle': 1, 'every': 1, 'row.': 1, 'characters.': 1, 'making': 1, 'here.': 1, 'characters,': 1, '129': 1, 'query': 1, 'blows': 1, 'up,': 1, 'nice.\"': 1, 'answer': 1, 'well,': 1, 'told': 1, 'optimize': 1, 'disk.': 1, 'made': 1, '1,000,': 1, 'want,': 1, 'live': 1, 'make.': 1, 'hates': 1, 'you,': 1, 'said': 1, '128,': 1, 'violating': 1, 'contract,': 1, 'you.': 1, 'whole': 1, 'TABLE': 1, 'ending': 1, 'semicolon,': 1, 'single': 1, 'multiple': 1, 'lines,': 1, 'kind': 1, 'tell': 1, 'continuation.': 1, 'finally,': 1, 'finish': 1, 'semicolon': 1, 'end,': 1, 'it.': 1, 'ask': 1, 'tables,': 1, '\"Is': 1, 'table?\"': 1, 'yes,': 1, '\"Yes,': 1, 'command,': 1, '\"Tell': 1, 'me': 1, \"hadn't\": 1, 'typed': 1, 'tells': 1, 'be.': 1, 'part': 1, 'only': 1, 'Users': 1, 'created,': 1, 'schema,': 1, '\"Hey,': 1, 'it?\"': 1, 'sent': 1, 'files,': 1, 'upload': 1, 'my': 1, 'autograder,': 1, 'example,': 1, 'inquire': 1, 'schema?': 1, 'here?': 1, 'start': 1, 'looking': 1, 'As': 1, 'matter': 1, 'fact,': 1, 'grade': 1, 'assignments': 1, 'inside': 1, 'computer.': 1, 'through': 1, 'some,': 1, 'surprisingly': 1, 'understand.': 1, 'tends': 1, 'more': 1, 'word.': 1, \"I've\": 1, 'met': 1, 'who': 1, 'used': 1, 'their': 1, 'jobs,': 1, 'it,': 1, 'realize': 1, 'amazing': 1, \"they're\": 1, 'is.': 1, \"They're\": 1, 'insert,': 1, 'delete': 1, 'stuff,': 1, 'select': 1, 'read': 1, 'it.\"': 1, 'designed': 1, 'back': 1, '\"Look,': 1, 'complexity': 1, 'down': 1, 'there.': 1, 'hide': 1, 'complexity.': 1, 'hand': 1, 'users.\"': 1, 'write': 1, 'complex': 1, 'sophisticated': 1, 'skill.': 1, 'think': 1, 'literally': 1, 'everybody': 1, 'should': 1, 'do.': 1, 'parenthesized': 1, 'list': 1, 'named': 1, 'VALUES': 1, 'keyword,': 1, 'one-to-one': 1, 'correspondence': 1, 'between': 1, 'values': 1, 'happen': 1, 'strings,': 1, 'quotes': 1, 'around': 1, 'them.': 1, 'They': 1, 'integers,': 1, 'dates,': 1, 'things,': 1, 'floating': 1, 'point': 1, 'numbers,': 1, 'etc.': 1, 'has': 1, 'meet': 1, 'schema.': 1, 'blow': 1, 'up.': 1, 'errors.': 1, 'either': 1, 'syntax': 1, 'errors,': 1, 'forget': 1, 'word': 1, 'INTO': 1, 'something,': 1, 'errors': 1, 'adds': 1, 'row': 1, 'The': 1, 'FROM,': 1, 'clause.': 1, \"We're\": 1, 'clauses': 1})\n",
      "Counter({'Play': 1, 'video': 1, 'starting': 1, 'at': 1, ':5:53': 1, 'and': 1, 'follow': 1, 'transcript5:53': 1})\n",
      "Counter({'the': 40, 'of': 39, 'is': 29, 'that': 27, 'a': 27, 'and': 23, 'to': 23, 'this': 20, 'you': 18, 'And': 16, 'all': 16, 'can': 15, 'rows': 14, 'So': 10, 'so': 10, 'on': 10, 'SELECT': 10, 'I': 9, 'in': 9, 'like': 9, 'You': 9, 'then': 9, 'because': 8, 'WHERE': 8, 'just': 8, 'kind': 7, 'one': 7, 'clause': 7, 'really': 7, 'sort': 6, \"there's\": 6, 'we': 6, \"don't\": 6, 'have': 6, 'an': 6, 'these': 6, 'FROM': 6, 'from': 6, 'if': 6, 'it': 6, 'they': 6, 'But': 6, 'thing': 5, 'SQL': 5, 'delete': 5, \"it's\": 5, 'or': 5, 'are': 5, 'name': 5, 'want': 5, 'be': 5, 'SQL,': 4, \"that's\": 4, 'when': 4, 'Users,': 4, 'not': 4, 'Users': 4, 'where': 4, 'with': 4, 'it,': 4, 'do': 4, 'update,': 4, 'star': 4, 'first': 4, 'different': 4, 'implied': 3, 'loop': 3, 'Users.': 3, 'put': 3, 'actually': 3, 'there': 3, 'email': 3, 'how': 3, 'built': 3, 'in.': 3, 'rows,': 3, 'columns,': 3, 'for': 3, 'as': 3, 'add': 3, 'databases': 3, 'features': 3, 'little': 3, 'beginning': 2, 'loops': 2, 'write': 2, 'loops.': 2, 'at': 2, 'say': 2, 'DELETE': 2, 'means': 2, 'Delete': 2, 'everything': 2, 'Now,': 2, 'part': 2, \"you're\": 2, 'rows.': 2, 'ted@umich.edu.': 2, 'couple': 2, 'depending': 2, 'those': 2, 'whole': 2, 'lot': 2, 'people': 2, 'things': 2, 'would': 2, 'more': 2, 'was': 2, 'UPDATE': 2, 'zero': 2, 'into': 2, 'again,': 2, 'which': 2, 'set': 2, 'Charles': 2, 'update': 2, 'always': 2, 'got': 2, 'delete.': 2, 'insert,': 2, 'read': 2, 'way': 2, 'stuff': 2, 'email,': 2, 'also': 2, 'has': 2, 'going': 2, 'it.': 2, 'might': 2, 'maintaining': 2, 'data,': 2, 'ascending': 2, 'get': 2, 'database': 2, 'after': 2, 'were': 2, 'bunch': 2, 'number': 2, 'SQLite': 2, 'files': 2, \"we'll\": 2, 'talk': 2, 'about': 2, 'key': 1, 'mentioned': 1, 'no': 1, 'reasons': 1, 'love': 1, 'commands.': 1, 'right?': 1, 'on,': 1, 'deletes': 1, 'phrase': 1, 'way.': 1, \"isn't\": 1, 'there,': 1, 'but': 1, 'important': 1, 'deleting': 1, \"It's\": 1, 'saying': 1, 'equal': 1, 'what': 1, 'statement,': 1, 'reduces': 1, 'down': 1, 'statement.': 1, 'inside': 1, 'works.': 1, 'why': 1, 'Because': 1, 'loops,': 1, 'whether': 1, 'had': 1, 'than': 1, 'row': 1, 'cool.': 1, 'columns.': 1, 'table,': 1, 'SET,': 1, 'equals,': 1, 'field': 1, 'new': 1, 'value.': 1, 'zone': 1, 'this.': 1, 'clause,': 1, 'implies': 1, 'true.': 1, 'Because,': 1, 'could': 1, 'think': 1, 'SET': 1, 'WHERE.': 1, \"you've\": 1, 'thinking': 1, 'reading': 1, 'done': 1, 'SELECT.': 1, 'wish': 1, 'create,': 1, 'read,': 1, 'create': 1, 'select,': 1, 'out.': 1, 'basically': 1, 'takes': 1, 'list': 1, 'name,': 1, 'comma,': 1, 'star,': 1, 'FROM,': 1, 'table': 1, 'name.': 1, 'quite': 1, 'the,': 1, 'almost': 1, 'type.': 1, 'books,': 1, 'whatever.': 1, 'again': 1, 'on.': 1, 'equals': 1, 'csev@umich.edu.': 1, 'reads': 1, 'much': 1, 'better': 1, 'logic': 1, 'Databases': 1, 'good': 1, 'searching.': 1, 'We': 1, 'indexes': 1, 'make': 1, 'searching': 1, 'ordering': 1, 'even': 1, 'better.': 1, 'please,': 1, 'while': 1, 'addition': 1, 'maintain': 1, 'index': 1, 'sense': 1, 'order': 1, 'records,': 1, 'descending,': 1, 'that,': 1, 'efficient.': 1, 'ORDER': 1, 'BY': 1, 'throw': 1, 'end.': 1, 'here': 1, 'well,': 1, 'descending': 1, 'sorts,': 1, 'works': 1, 'great.': 1, '60': 1, 'percent': 1, 'any': 1, 'basic': 1, 'delete,': 1, 'read.': 1, 'hard.': 1, 'beauty': 1, 'essence': 1, 'middle': 1, 'portable': 1, 'across': 1, 'described,': 1, 'every': 1, 'modern': 1, 'invented': 1, 'invention': 1, 'life': 1, 'pretty': 1, 'good.': 1, 'differences': 1, 'like,': 1, 'think,': 1, \"'87.\": 1, 'know,': 1, 'forgot': 1, 'time.': 1, 'did': 1, 'realize': 1, 'powerful': 1, 'be.': 1, 'added': 1, 'by': 1, 'vendors': 1, 'extensions,': 1, 'some': 1, 'them': 1, 'standardized.': 1, \"There's\": 1, 'another': 1, 'round': 1, 'standardization.': 1, 'different.': 1, 'competition,': 1, 'conceptually': 1, 'same': 1, 'ideas,': 1, 'limit': 1, 'limits': 1, 'starts': 1, 'certain': 1, 'other.': 1, 'summary.': 1, 'should': 1, 'know': 1, 'forever': 1, 'ever': 1, 'ever.': 1, 'run': 1, 'database,': 1, \"you'll\": 1, 'learn': 1, 'that.': 1, 'A': 1, 'tool': 1, 'install': 1, 'your': 1, 'laptop': 1, 'start': 1, 'playing': 1, 'using': 1, 'command': 1, 'line': 1, 'called': 1, 'browser.': 1, 'download': 1, 'It': 1, 'runs': 1, 'lots': 1, 'systems.': 1, 'open': 1, 'dot': 1, 'sqlite3': 1, 'including': 1, 'execute': 1, 'commands': 1, 'right': 1, 'there.': 1, 'find': 1, 'interesting': 1, 'easy': 1, 'interact': 1, 'files.': 1, 'sums': 1, 'up': 1, 'our': 1, 'quick': 1, 'introduction': 1, 'single-table': 1, 'SQL.': 1, 'Up': 1, 'next,': 1, 'bit': 1, 'multiple-table': 1, 'relationships.': 1, 'connect': 1, 'Django': 1, 'through': 1, 'object-relational': 1, 'mapper.': 1, 'see': 1, 'soon.': 1})\n"
     ]
    }
   ],
   "source": [
    "from collections import Counter\n",
    "try:\n",
    "    with open(\"hello.txt\", \"r\") as f:\n",
    "        for l in f:\n",
    "            print(Counter(l.split()))\n",
    "            # bosluklari kaldirmak icin end i kullandik\n",
    "except:\n",
    "    print(\"unfortunately you have no file named rumi\")\n"
   ]
  },
  {
   "cell_type": "code",
   "execution_count": 42,
   "metadata": {},
   "outputs": [
    {
     "name": "stdout",
     "output_type": "stream",
     "text": [
      "I want to sing.\n",
      "\n",
      "['Like the birds sing,\\n', 'Not worrying about\\n', 'Who hears or\\n', 'What they think']\n",
      "\n",
      "88\n",
      "0\n",
      "True\n",
      "rumi.txt\n"
     ]
    }
   ],
   "source": [
    "try:\n",
    "    with open(\"rumi.txt\", \"r\") as f:\n",
    "        print(f.readline())#read first line\n",
    "        print(f.readlines())# a list of lines\n",
    "        print(f.read(26))  # Read up to 26 indexes\n",
    "        print(f.tell()) # next index number(27 )\n",
    "        print(f.seek(0)) #  index number is changed 0 like default ix number\n",
    "        print(f.name)# print name of file\n",
    "        \n",
    "        \n",
    "except:\n",
    "    print(\"unfortunately you have no file named rumi\")\n",
    "print(f.closed)"
   ]
  },
  {
   "cell_type": "code",
   "execution_count": 53,
   "metadata": {},
   "outputs": [
    {
     "name": "stdout",
     "output_type": "stream",
     "text": [
      "dosyaya yazi yazdim\n",
      "w ile ikinci yaziyi degisti\n",
      "w ile ikinci yaziyi degisti append yaziyi ekledim\n"
     ]
    }
   ],
   "source": [
    "# w , a file demo\n",
    "with open(\"dummy_file.txt\", \"w\") as f: # with w new file created\n",
    "    f.write(\"dosyaya yazi yazdim\")\n",
    "\n",
    "with open(\"dummy_file.txt\", \"r\") as f: # file readed\n",
    "    print(f.read())\n",
    "with open(\"dummy_file.txt\", \"w\") as f: #  with w dummy_file all of text changed\n",
    "    f.write(\"w ile ikinci yaziyi degisti\")\n",
    "with open(\"dummy_file.txt\", \"r\") as f:\n",
    "    print(f.read())\n",
    "with open(\"dummy_file.txt\", \"a\") as f:  # with a dummy_file new text appended\n",
    "    f.write(\" append yaziyi ekledim\")\n",
    "with open(\"dummy_file.txt\", \"r\") as f:\n",
    "    print(f.read())\n"
   ]
  },
  {
   "cell_type": "code",
   "execution_count": 61,
   "metadata": {},
   "outputs": [
    {
     "name": "stdout",
     "output_type": "stream",
     "text": [
      "dosyaya yazi yazdimdosyaya 2. yazi yazdim\n",
      "dosyaya 3.yazi yazdim\n"
     ]
    }
   ],
   "source": [
    "with open(\"dummy_file.txt1\", \"w\") as f:  # with w new file created\n",
    "    f.write(\"dosyaya yazi yazdim\")\n",
    "    f.write(\"dosyaya 2. yazi yazdim\\n\")\n",
    "    f.write(\"dosyaya 3.yazi yazdim\")\n",
    "with open(\"dummy_file.txt1\", \"r\") as f:\n",
    "    print(f.read())"
   ]
  },
  {
   "cell_type": "code",
   "execution_count": 69,
   "metadata": {},
   "outputs": [
    {
     "name": "stdout",
     "output_type": "stream",
     "text": [
      "Banana\n",
      "\n",
      "Orange\n",
      "\n",
      "Apple\n",
      "\n",
      "Cherry\n",
      "\n",
      "Strawberry\n",
      "\n",
      "\n"
     ]
    }
   ],
   "source": [
    "fruits = [\"Banana\", \"Orange\", \"Apple\", \"Cherry\", \"Strawberry\"]\n",
    "with open(\"fruits.txt\", \"w\") as f:\n",
    "    for w in fruits:\n",
    "        f.write(w+\"\\n\\n\")\n",
    "with open(\"fruits.txt\", \"r\") as f:\n",
    "    print(f.read())\n",
    "    #print(f.readlines())\n"
   ]
  },
  {
   "cell_type": "code",
   "execution_count": 78,
   "metadata": {},
   "outputs": [
    {
     "name": "stdout",
     "output_type": "stream",
     "text": [
      "Banana\n",
      "Orange\n",
      "Apple\n",
      "Cherry\n",
      "Strawberry\n",
      "\n",
      "cp1252\n"
     ]
    }
   ],
   "source": [
    "fruits = [\"Banana\\n\", \"Orange\\n\", \"Apple\\n\", \"Cherry\\n\", \"Strawberry\\n\"]\n",
    "with open(\"fruits.txt\", \"w\") as f:\n",
    "    f.writelines(fruits)\n",
    "with open(\"fruits.txt\", \"r\") as f:\n",
    "    print(f.read())\n",
    "    # print(f.readlines())\n",
    "    print(f.encoding)\n"
   ]
  },
  {
   "cell_type": "code",
   "execution_count": 88,
   "metadata": {},
   "outputs": [
    {
     "name": "stdout",
     "output_type": "stream",
     "text": [
      "sefasefasefasefasefasefa\n",
      "sefa\n",
      "sefa\n",
      "sefa\n",
      "sefa\n",
      "sefa\n",
      "sefa\n",
      "sefa\n",
      "sefa\n",
      "sefa\n",
      "\n"
     ]
    }
   ],
   "source": [
    "with open(\"ad.txt\", \"a\") as f:\n",
    "    name = input(\"ad gir:\")\n",
    "    f.write(f'{name}\\n'*5)\n",
    "with open(\"ad.txt\", \"r\") as f:\n",
    "    print(f.read())\n"
   ]
  },
  {
   "cell_type": "code",
   "execution_count": 92,
   "metadata": {},
   "outputs": [
    {
     "name": "stdout",
     "output_type": "stream",
     "text": [
      "sefa\n",
      "sefa\n",
      "sefa\n",
      "sefa\n",
      "sefa\n",
      "sefa\n",
      "sefa\n",
      "sefa\n",
      "sefa\n",
      "sefa\n",
      "ali\n",
      "ali\n",
      "ali\n",
      "ali\n",
      "ali\n",
      "\n"
     ]
    }
   ],
   "source": [
    "name = input(\"ad gir:\")\n",
    "with open(\"ad1.txt\", \"a\") as f:\n",
    "    for i in range(5):\n",
    "        f.write(f'{name}\\n')\n",
    "with open(\"ad1.txt\", \"r\") as f:\n",
    "    print(f.read())\n"
   ]
  },
  {
   "cell_type": "code",
   "execution_count": 3,
   "metadata": {},
   "outputs": [
    {
     "name": "stdout",
     "output_type": "stream",
     "text": [
      "no, ad, miktar\n",
      "11,üzüm,4 lb\n",
      "12,tomato,2 lb\n",
      "13,patlıcan,3 lb\n",
      "11,üzüm,4 lb\n",
      "12,tomato,2 lb\n",
      "13,patlıcan,3 lb\n",
      "\n"
     ]
    }
   ],
   "source": [
    "with open(\"fruits.csv\", \"r\", encoding=\"UTF8\") as f:\n",
    "    print(f.read())"
   ]
  }
 ],
 "metadata": {
  "kernelspec": {
   "display_name": "Python 3.10.8 64-bit (microsoft store)",
   "language": "python",
   "name": "python3"
  },
  "language_info": {
   "codemirror_mode": {
    "name": "ipython",
    "version": 3
   },
   "file_extension": ".py",
   "mimetype": "text/x-python",
   "name": "python",
   "nbconvert_exporter": "python",
   "pygments_lexer": "ipython3",
   "version": "3.10.8"
  },
  "orig_nbformat": 4,
  "vscode": {
   "interpreter": {
    "hash": "ab20898174d196463b445de776974c088ffcae60d352b9b25b2f762cc1f0ff0f"
   }
  }
 },
 "nbformat": 4,
 "nbformat_minor": 2
}
