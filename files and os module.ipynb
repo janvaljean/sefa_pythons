{
 "cells": [
  {
   "cell_type": "code",
   "execution_count": 1,
   "metadata": {},
   "outputs": [
    {
     "data": {
      "text/plain": [
       "'c:\\\\Users\\\\sfkrt\\\\Documents\\\\GitHub\\\\sefa_pythons'"
      ]
     },
     "execution_count": 1,
     "metadata": {},
     "output_type": "execute_result"
    }
   ],
   "source": [
    "import os\n",
    "os.getcwd()\n"
   ]
  },
  {
   "cell_type": "code",
   "execution_count": 3,
   "metadata": {},
   "outputs": [
    {
     "name": "stdout",
     "output_type": "stream",
     "text": [
      "file wasnt found\n"
     ]
    }
   ],
   "source": [
    "#file demo1\n",
    "try:\n",
    "    my_file = open(\"merhabe.txt\")\n",
    "    print(type(my_file))\n",
    "except:\n",
    "    print(\"file wasnt found\")"
   ]
  },
  {
   "cell_type": "code",
   "execution_count": 17,
   "metadata": {},
   "outputs": [
    {
     "name": "stdout",
     "output_type": "stream",
     "text": [
      "<class '_io.TextIOWrapper'>\n"
     ]
    }
   ],
   "source": [
    "#file demo 2 open\n",
    "try:\n",
    "    my_file = open(\"hello.txt\")\n",
    "    print(type(my_file))\n",
    "except:\n",
    "    print(\"file wasnt found\")\n"
   ]
  }
 ],
 "metadata": {
  "kernelspec": {
   "display_name": "Python 3.10.8 64-bit (microsoft store)",
   "language": "python",
   "name": "python3"
  },
  "language_info": {
   "codemirror_mode": {
    "name": "ipython",
    "version": 3
   },
   "file_extension": ".py",
   "mimetype": "text/x-python",
   "name": "python",
   "nbconvert_exporter": "python",
   "pygments_lexer": "ipython3",
   "version": "3.10.8"
  },
  "orig_nbformat": 4,
  "vscode": {
   "interpreter": {
    "hash": "ab20898174d196463b445de776974c088ffcae60d352b9b25b2f762cc1f0ff0f"
   }
  }
 },
 "nbformat": 4,
 "nbformat_minor": 2
}
