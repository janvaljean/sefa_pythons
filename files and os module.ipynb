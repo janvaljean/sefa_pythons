{
 "cells": [
  {
   "cell_type": "code",
   "execution_count": 1,
   "metadata": {},
   "outputs": [
    {
     "data": {
      "text/plain": [
       "'c:\\\\Users\\\\sfkrt\\\\Documents\\\\GitHub\\\\sefa_pythons'"
      ]
     },
     "execution_count": 1,
     "metadata": {},
     "output_type": "execute_result"
    }
   ],
   "source": [
    "import os\n",
    "os.getcwd()\n"
   ]
  },
  {
   "cell_type": "code",
   "execution_count": 3,
   "metadata": {},
   "outputs": [
    {
     "name": "stdout",
     "output_type": "stream",
     "text": [
      "file wasnt found\n"
     ]
    }
   ],
   "source": [
    "#file demo1\n",
    "try:\n",
    "    my_file = open(\"merhabe.txt\")\n",
    "    print(type(my_file))\n",
    "except:\n",
    "    print(\"file wasnt found\")"
   ]
  },
  {
   "cell_type": "code",
   "execution_count": 20,
   "metadata": {},
   "outputs": [
    {
     "name": "stdout",
     "output_type": "stream",
     "text": [
      "<class '_io.TextIOWrapper'>\n",
      "Orca is a kind of Dolphin.\n",
      "Blue W\n"
     ]
    }
   ],
   "source": [
    "#file demo 3 open --> first 33 char\n",
    "try:\n",
    "    my_file = open(\"hello.txt\")\n",
    "    print(type(my_file))\n",
    "except:\n",
    "    print(\"file wasnt found\")\n",
    "print(my_file.read(33))\n",
    "my_file.close()"
   ]
  },
  {
   "cell_type": "code",
   "execution_count": 22,
   "metadata": {},
   "outputs": [
    {
     "name": "stdout",
     "output_type": "stream",
     "text": [
      "<class '_io.TextIOWrapper'>\n",
      "Orca is a kind of Dolphin.\n",
      "Blue W\n",
      "Orca is a kind of Dolphin.\n",
      "Blue W\n"
     ]
    }
   ],
   "source": [
    "#file demo seek method\n",
    "try:\n",
    "    my_file = open(\"hello.txt\")\n",
    "    print(type(my_file))\n",
    "except:\n",
    "    print(\"file wasnt found\")\n",
    "print(my_file.read(33))\n",
    "my_file.seek(0)\n",
    "print(my_file.read(33))\n",
    "my_file.close()\n"
   ]
  },
  {
   "cell_type": "code",
   "execution_count": 23,
   "metadata": {},
   "outputs": [
    {
     "name": "stdout",
     "output_type": "stream",
     "text": [
      "<class '_io.TextIOWrapper'>\n",
      "Orca is a kind of Dolphin.\n",
      "Blue W\n",
      "hale is the largest animal known \n"
     ]
    }
   ],
   "source": [
    "#file demo read method\n",
    "try:\n",
    "    my_file = open(\"hello.txt\")\n",
    "    print(type(my_file))\n",
    "except:\n",
    "    print(\"file wasnt found\")\n",
    "print(my_file.read(33))\n",
    "print(my_file.read(33))\n",
    "my_file.close()\n"
   ]
  },
  {
   "cell_type": "code",
   "execution_count": 27,
   "metadata": {},
   "outputs": [
    {
     "name": "stdout",
     "output_type": "stream",
     "text": [
      "0\n",
      "Orca is a kind of Dolphin.\n",
      "Blue W\n",
      "34\n",
      "hale is the largest animal known \n"
     ]
    }
   ],
   "source": [
    "# file demo tell method index number\n",
    "try:\n",
    "    my_file = open(\"hello.txt\")\n",
    "    print(my_file.tell())\n",
    "except:\n",
    "    print(\"file wasnt found\")\n",
    "print(my_file.read(33))\n",
    "print(my_file.tell())\n",
    "print(my_file.read(33))\n",
    "my_file.close()\n"
   ]
  },
  {
   "cell_type": "code",
   "execution_count": 30,
   "metadata": {},
   "outputs": [
    {
     "name": "stdout",
     "output_type": "stream",
     "text": [
      "0\n",
      "I want to sing.\n",
      "Like the birds si\n",
      "34\n",
      "0\n",
      "0\n"
     ]
    }
   ],
   "source": [
    "#file demo complete\n",
    "try:\n",
    "    my_file = open(\"rumi.txt\")\n",
    "    print(my_file.tell())\n",
    "except:\n",
    "    print(\"file wasnt found\")\n",
    "print(my_file.read(33))\n",
    "print(my_file.tell()) # index number\n",
    "print(my_file.seek(0)) #  index number is changed 0 like default ix number\n",
    "print(my_file.tell()) # index number again 0\n",
    "my_file.close()\n"
   ]
  },
  {
   "cell_type": "code",
   "execution_count": 52,
   "metadata": {},
   "outputs": [
    {
     "name": "stdout",
     "output_type": "stream",
     "text": [
      "['I want to sing.', 'Like the birds sing,']\n"
     ]
    }
   ],
   "source": [
    "#file demo readlines\n",
    "my_file = open(\"rumi.txt\")\n",
    "lines = my_file.readlines()\n",
    "txt2 = [x.strip() for x in lines[:2]]\n",
    "print(txt2)\n",
    "my_file.close()\n"
   ]
  }
 ],
 "metadata": {
  "kernelspec": {
   "display_name": "Python 3.10.8 64-bit (microsoft store)",
   "language": "python",
   "name": "python3"
  },
  "language_info": {
   "codemirror_mode": {
    "name": "ipython",
    "version": 3
   },
   "file_extension": ".py",
   "mimetype": "text/x-python",
   "name": "python",
   "nbconvert_exporter": "python",
   "pygments_lexer": "ipython3",
   "version": "3.10.8"
  },
  "orig_nbformat": 4,
  "vscode": {
   "interpreter": {
    "hash": "ab20898174d196463b445de776974c088ffcae60d352b9b25b2f762cc1f0ff0f"
   }
  }
 },
 "nbformat": 4,
 "nbformat_minor": 2
}
