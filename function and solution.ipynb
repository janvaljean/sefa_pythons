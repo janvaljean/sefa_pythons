{
 "cells": [
  {
   "cell_type": "code",
   "execution_count": null,
   "metadata": {},
   "outputs": [],
   "source": [
    "#Write a function called add that takes any number as its input and returns that sum with 2 added.\n",
    "def add(*x):\n",
    "    return sum(x)+2\n"
   ]
  },
  {
   "cell_type": "code",
   "execution_count": 2,
   "metadata": {},
   "outputs": [
    {
     "data": {
      "text/plain": [
       "[4, 8, 12]"
      ]
     },
     "execution_count": 2,
     "metadata": {},
     "output_type": "execute_result"
    }
   ],
   "source": [
    "#map function\n",
    "def doubleStuff(a_list):\n",
    "    \"\"\"return a new list in which contains doubles of the elements in a list\"\"\"\n",
    "    new_list = []\n",
    "    for value  in  a_list:\n",
    "        new_elem = 2 * value\n",
    "        new_list.append(new_elem)\n",
    "    return new_list\n",
    "things = [2,4,6]\n",
    "\n",
    "doubleStuff(things)\n",
    "\n"
   ]
  },
  {
   "cell_type": "code",
   "execution_count": 12,
   "metadata": {},
   "outputs": [
    {
     "data": {
      "text/plain": [
       "[6, 12, 18]"
      ]
     },
     "execution_count": 12,
     "metadata": {},
     "output_type": "execute_result"
    }
   ],
   "source": [
    "#map function\n",
    "def triple(value):\n",
    "    return 3*value\n",
    "\n",
    "def tripplestuff(a_list):\n",
    "    new_list = map(triple,a_list)\n",
    "    return new_list\n",
    "\n",
    "\n",
    "things = [2, 4, 6]\n",
    "list(tripplestuff(things))\n"
   ]
  },
  {
   "cell_type": "code",
   "execution_count": 7,
   "metadata": {},
   "outputs": [
    {
     "name": "stdout",
     "output_type": "stream",
     "text": [
      "5\n",
      "enter a even number\n"
     ]
    }
   ],
   "source": [
    "    #recursive function1\n",
    "    #positive Even nums\n",
    "    def evenNum(num):\n",
    "            print(num)\n",
    "            if num % 2 != 0:\n",
    "                return print(\"enter a even number\")\n",
    "            elif num == 2:\n",
    "                pass\n",
    "            else:\n",
    "                return  evenNum(abs(num)-2)        \n",
    "    evenNum(5)"
   ]
  },
  {
   "cell_type": "code",
   "execution_count": null,
   "metadata": {},
   "outputs": [],
   "source": [
    "# #! recursed\n",
    "# Write two functions\n",
    "# one called addit and one called mult. \n",
    "# addit takes one number as an input and adds 5.\n",
    "# mult takes one number as an input, \n",
    "# and multiplies that input by whatever is returned by addit, \n",
    "# and then returns the result.\n",
    "def addit(n):\n",
    "    return n+5\n",
    "def mult(n):\n",
    "    return addit(n)*n"
   ]
  },
  {
   "cell_type": "code",
   "execution_count": 4,
   "metadata": {},
   "outputs": [
    {
     "name": "stdout",
     "output_type": "stream",
     "text": [
      "[6, 15, 27]\n",
      "[8, 20, 36]\n"
     ]
    }
   ],
   "source": [
    "# map function demo\n",
    "def triple(value):\n",
    "    return 3*value\n",
    "\n",
    "\n",
    "def tripleStuff(a_list):\n",
    "    new_seq = map(triple, a_list)\n",
    "    return list(new_seq)\n",
    "\n",
    "\n",
    "def quadrupleStuff(a_list):\n",
    "    new_seq = map(lambda value: 4*value, a_list)\n",
    "    return list(new_seq)\n",
    "\n",
    "\n",
    "things = [2, 5, 9]\n",
    "things3 = tripleStuff(things)\n",
    "print(things3)\n",
    "things4 = quadrupleStuff(things)\n",
    "print(things4)\n"
   ]
  },
  {
   "cell_type": "code",
   "execution_count": 5,
   "metadata": {},
   "outputs": [
    {
     "name": "stdout",
     "output_type": "stream",
     "text": [
      "[8, 20, 36]\n",
      "[5, 10, 15]\n"
     ]
    }
   ],
   "source": [
    "#map lambda demo\n",
    "things = [2, 5, 9]\n",
    "\n",
    "things4 = map((lambda value: 4*value), things)\n",
    "print(list(things4))\n",
    "\n",
    "# or all on one line\n",
    "print(list(map((lambda value: 5*value), [1, 2, 3])))\n"
   ]
  },
  {
   "cell_type": "code",
   "execution_count": 12,
   "metadata": {},
   "outputs": [
    {
     "name": "stdout",
     "output_type": "stream",
     "text": [
      "[['hi', 'bye', 'hi', 'bye'], 'hellohello', 'goodbyegoodbye', [9, 2, 9, 2], 8]\n"
     ]
    }
   ],
   "source": [
    "#. Using map,\n",
    "# create a list\n",
    "# assigned to the variable greeting_doubled that doubles each element in the list lst.\n",
    "lst = [[\"hi\", \"bye\"], \"hello\", \"goodbye\", [9, 2], 4]\n",
    "greeting_doubled = list(map((lambda k: 2*k),lst))\n",
    "print(greeting_doubled)\n"
   ]
  },
  {
   "cell_type": "code",
   "execution_count": 14,
   "metadata": {},
   "outputs": [
    {
     "name": "stdout",
     "output_type": "stream",
     "text": [
      "['USA', 'ESP', 'CHN', 'JPN', 'MEX', 'CAN', 'RUS', 'RSA', 'JAM']\n"
     ]
    }
   ],
   "source": [
    "#Below, we have provided a list of strings called abbrevs. \n",
    "# Use map to produce a new list called abbrevs_upper\n",
    "# that contains all the same strings in upper case.\n",
    "abbrevs = [\"usa\", \"esp\", \"chn\", \"jpn\", \"mex\", \"can\", \"rus\", \"rsa\", \"jam\"]\n",
    "abbrevs_upper = list(map((lambda k: k.upper()),abbrevs))\n",
    "print(abbrevs_upper)"
   ]
  },
  {
   "cell_type": "code",
   "execution_count": 15,
   "metadata": {},
   "outputs": [
    {
     "data": {
      "text/plain": [
       "[2, 4, 6, 6, 8]"
      ]
     },
     "execution_count": 15,
     "metadata": {},
     "output_type": "execute_result"
    }
   ],
   "source": [
    "#filter func demo\n",
    "def keep_evens(nums):\n",
    "    new_seq = filter(lambda num: num % 2 == 0,nums)\n",
    "    return list(new_seq)\n",
    "lst = [2,5,4,6,3,6,8,9,23]\n",
    "keep_evens(lst)"
   ]
  },
  {
   "cell_type": "code",
   "execution_count": 18,
   "metadata": {},
   "outputs": [
    {
     "name": "stdout",
     "output_type": "stream",
     "text": [
      "['halloween']\n"
     ]
    }
   ],
   "source": [
    "#filte demo2 with lambda expression\n",
    "lst = [\"witch\",\"halloween\",\"pumpkin\",\"candy\",\"cat\"]\n",
    "lst2 = list(filter(lambda k: \"o\" in k,lst))\n",
    "print(lst2)"
   ]
  },
  {
   "cell_type": "code",
   "execution_count": 19,
   "metadata": {},
   "outputs": [],
   "source": [
    "#filter demo 3\n",
    "#Write code to assign to the variable filter_testing all the elements in lst_check that have a w in them using filter.\n",
    "lst_check = ['plums', 'watermelon', 'kiwi', 'strawberries',\n",
    "             'blueberries', 'peaches', 'apples', 'mangos', 'papaya']\n",
    "filter_testing = list(filter(lambda k: \"w\" in k, lst_check))\n"
   ]
  },
  {
   "cell_type": "code",
   "execution_count": 20,
   "metadata": {},
   "outputs": [],
   "source": [
    "#filter demo 4\n",
    "#Using filter, filter lst so that it only contains words containing the letter “o”.\n",
    "# Assign to variable lst2. Do not hardcode this\n",
    "lst = [\"witch\", \"halloween\", \"pumpkin\", \"cat\", \"candy\", \"wagon\", \"moon\"]\n",
    "lst2 = list(filter(lambda k: \"o\" in k,lst))"
   ]
  },
  {
   "cell_type": "code",
   "execution_count": null,
   "metadata": {},
   "outputs": [],
   "source": [
    "#valueerror\n",
    "def odd_to_even(input_list):\n",
    "    if any(i % 2 == 0 for i in input_list):\n",
    "        raise ValueError\n",
    "    output_list = []\n",
    "    for i in input_list:\n",
    "        output_list.append(i - 1)\n",
    "    return output_list\n",
    "odd_to_even([1,7])"
   ]
  },
  {
   "cell_type": "code",
   "execution_count": null,
   "metadata": {},
   "outputs": [],
   "source": [
    "#valueerror\n",
    "def odd_to_even(input_list):\n",
    "    if any(i % 2 == 0 for i in input_list):\n",
    "        raise ValueError\n",
    "    return [i - 1 for i in input_list]\n",
    "\n",
    "odd_to_even([2,3,4])"
   ]
  }
 ],
 "metadata": {
  "kernelspec": {
   "display_name": "Python 3.10.7 64-bit",
   "language": "python",
   "name": "python3"
  },
  "language_info": {
   "codemirror_mode": {
    "name": "ipython",
    "version": 3
   },
   "file_extension": ".py",
   "mimetype": "text/x-python",
   "name": "python",
   "nbconvert_exporter": "python",
   "pygments_lexer": "ipython3",
   "version": "3.10.7"
  },
  "orig_nbformat": 4,
  "vscode": {
   "interpreter": {
    "hash": "5c10da12c10fd823261dd9974e66cd700332e2c96798d888241a9fd5e55edbb8"
   }
  }
 },
 "nbformat": 4,
 "nbformat_minor": 2
}
